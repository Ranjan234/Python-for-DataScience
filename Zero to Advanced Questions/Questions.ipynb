{
 "cells": [
  {
   "cell_type": "markdown",
   "id": "16a13c14",
   "metadata": {},
   "source": [
    "1. Display your name, age, calss."
   ]
  },
  {
   "cell_type": "code",
   "execution_count": 2,
   "id": "69a12dbd",
   "metadata": {},
   "outputs": [
    {
     "name": "stdout",
     "output_type": "stream",
     "text": [
      "Name: Soumya\n",
      "Age: 25\n",
      "Class: BCA\n"
     ]
    }
   ],
   "source": [
    "Name = \"Soumya\"\n",
    "Age = 25\n",
    "Class = \"BCA\"\n",
    "print(\"Name:\", Name)\n",
    "print(\"Age:\", Age)\n",
    "print(\"Class:\", Class)"
   ]
  },
  {
   "cell_type": "markdown",
   "id": "986358bb",
   "metadata": {},
   "source": [
    "2. Find the square and cube of a number."
   ]
  },
  {
   "cell_type": "code",
   "execution_count": 3,
   "id": "ba2beb58",
   "metadata": {},
   "outputs": [
    {
     "name": "stdout",
     "output_type": "stream",
     "text": [
      "Square: 9\n",
      "cube: 27\n"
     ]
    }
   ],
   "source": [
    "num = 3\n",
    "square = num **2\n",
    "cube = num **3\n",
    "print(\"Square:\", square)\n",
    "print(\"cube:\", cube)"
   ]
  },
  {
   "cell_type": "markdown",
   "id": "6b0ba27b",
   "metadata": {},
   "source": [
    "3.Calculate area of circle, rectangle, triangle"
   ]
  },
  {
   "cell_type": "code",
   "execution_count": 7,
   "id": "334cb389",
   "metadata": {},
   "outputs": [
    {
     "name": "stdout",
     "output_type": "stream",
     "text": [
      "Area of the circle: 50.26548245743669\n",
      "Area of the Rectangle: 12\n",
      "Area of the triangle: 25.0\n"
     ]
    }
   ],
   "source": [
    "import math\n",
    "radius = 4\n",
    "area = math.pi * radius ** 2\n",
    "print(\"Area of the circle:\", area)\n",
    "\n",
    "# Rectangle\n",
    "lenght = 4\n",
    "width = 3\n",
    "rectangle = lenght * width\n",
    "print(\"Area of the Rectangle:\", rectangle)\n",
    "\n",
    "# Triangle\n",
    "height = 10\n",
    "base = 5\n",
    "triangle = 0.5 * height * base\n",
    "print(\"Area of the triangle:\", triangle)\n"
   ]
  },
  {
   "cell_type": "code",
   "execution_count": 3,
   "id": "54d888ce",
   "metadata": {},
   "outputs": [
    {
     "name": "stdout",
     "output_type": "stream",
     "text": [
      "Fahrenheit: 100.4\n",
      "celcius : 100.4\n"
     ]
    }
   ],
   "source": [
    "# Convert Celsius to Fahrenheit\n",
    "celicius = 38\n",
    "fahrenheit = (celicius * 9/5) + 32\n",
    "print (\"Fahrenheit:\", fahrenheit)\n",
    "\n",
    "# convert fahrenheit to celicius\n",
    "fahrenhiet = 23\n",
    "celcius = (fahrenhiet - 32) * 5/9\n",
    "print(\"celcius :\", fahrenheit)\n"
   ]
  },
  {
   "cell_type": "code",
   "execution_count": 9,
   "id": "156eac0c",
   "metadata": {},
   "outputs": [
    {
     "name": "stdout",
     "output_type": "stream",
     "text": [
      "a= 45\n",
      "b= 34\n"
     ]
    }
   ],
   "source": [
    "# Swap two numbers\n",
    "a = 34\n",
    "b = 45\n",
    "\n",
    "# a,b = b, a\n",
    "# print(\"a =\", a)\n",
    "\n",
    "temp = a\n",
    "a = b\n",
    "b = temp\n",
    "print(\"a=\", a)\n",
    "print(\"b=\",b)"
   ]
  },
  {
   "cell_type": "code",
   "execution_count": 11,
   "id": "46590b84",
   "metadata": {},
   "outputs": [
    {
     "name": "stdout",
     "output_type": "stream",
     "text": [
      "Largest number is: 40\n"
     ]
    }
   ],
   "source": [
    "# find the largest three number\n",
    "a = 34\n",
    "b = 40\n",
    "c = 30\n",
    "if a >= b and b >=c:\n",
    "    largest = a\n",
    "elif b >=a and b>=c:\n",
    "    largest = b\n",
    "else:\n",
    "    largest = c    \n",
    "print(\"Largest number is:\", largest)"
   ]
  },
  {
   "cell_type": "code",
   "execution_count": 12,
   "id": "792adc4c",
   "metadata": {},
   "outputs": [
    {
     "name": "stdout",
     "output_type": "stream",
     "text": [
      "even\n"
     ]
    }
   ],
   "source": [
    "# Check if a number is even or odd\n",
    "num  = 6\n",
    "if num % 2==0:\n",
    "    print(\"even\")\n",
    "else:\n",
    "    print(\"odd\")    "
   ]
  },
  {
   "cell_type": "code",
   "execution_count": 13,
   "id": "2558d5ef",
   "metadata": {},
   "outputs": [
    {
     "name": "stdout",
     "output_type": "stream",
     "text": [
      "ASCII value of  A is 65\n"
     ]
    }
   ],
   "source": [
    "# Find ASCII value of a character\n",
    "char = \"A\"\n",
    "print(\"ASCII value of \", char,\"is\", ord(char)  )"
   ]
  },
  {
   "cell_type": "code",
   "execution_count": 16,
   "id": "3fe67aeb",
   "metadata": {},
   "outputs": [
    {
     "name": "stdout",
     "output_type": "stream",
     "text": [
      "vowel\n"
     ]
    }
   ],
   "source": [
    "# Check the character is vowel or consonant\n",
    "char  = \"e\"\n",
    "if char in \"aeiou\":\n",
    "    print(\"vowel\")\n",
    "else:\n",
    "    print(\"consonant\")    "
   ]
  },
  {
   "cell_type": "markdown",
   "id": "33ba179b",
   "metadata": {},
   "source": [
    "* Use input() and print() formatting"
   ]
  },
  {
   "cell_type": "code",
   "execution_count": 19,
   "id": "3bc39169",
   "metadata": {},
   "outputs": [
    {
     "name": "stdout",
     "output_type": "stream",
     "text": [
      "My Soumya is and i secure 400.7 in 10th.\n"
     ]
    }
   ],
   "source": [
    "name = input(\"Enter your name\")\n",
    "marks = float(input(\"Yuor marks\"))\n",
    "print(f\"My {name} is and i secure {marks} in 10th.\")"
   ]
  },
  {
   "cell_type": "code",
   "execution_count": 24,
   "id": "f436be2e",
   "metadata": {},
   "outputs": [
    {
     "name": "stdout",
     "output_type": "stream",
     "text": [
      "Square root: 4.0\n",
      "2 to the power of 3: <module 'math' from '/usr/local/python/3.12.1/lib/python3.12/lib-dynload/math.cpython-312-x86_64-linux-gnu.so'> 8\n",
      "log base 10 of 1000: 6.907755278982137\n"
     ]
    }
   ],
   "source": [
    "# Use math functions(sqrt, pow, log)\n",
    "import math\n",
    "\n",
    "num = 16\n",
    "print(\"Square root:\", math.sqrt(num))\n",
    "print(\"2 to the power of 3:\", math,pow(2,3))\n",
    "print(\"log base 10 of 1000:\", math.log(1000))"
   ]
  },
  {
   "cell_type": "code",
   "execution_count": 29,
   "id": "f3459cbc",
   "metadata": {},
   "outputs": [
    {
     "name": "stdout",
     "output_type": "stream",
     "text": [
      "1\n"
     ]
    }
   ],
   "source": [
    "# Simple calculator using if-else-elif\n",
    "a = 20\n",
    "b = 15\n",
    "\n",
    "operator = input(\"Enter  operators(+, -,*,/, %, //)\")\n",
    "\n",
    "if operator == '+':\n",
    "   print(\"The sum is\", a + b)\n",
    "elif operator == '-':\n",
    "   print(\"The substract is\", a - b)\n",
    "elif operator == '*':\n",
    "   print(\"The product is\", a * b)\n",
    "elif operator == '/':\n",
    "   print(\"The division is \", a / b)\n",
    "elif operator == '%':\n",
    "    print(\"The modulos is\", a % b)\n",
    "elif operator == '//':\n",
    "   print(a // b)\n",
    "else :\n",
    "   print(\"invalid\")  "
   ]
  },
  {
   "cell_type": "code",
   "execution_count": 32,
   "id": "88d2bf8c",
   "metadata": {},
   "outputs": [
    {
     "name": "stdout",
     "output_type": "stream",
     "text": [
      "2020 is a leap year\n"
     ]
    }
   ],
   "source": [
    "# Check leap year\n",
    "year = 2020\n",
    "\n",
    "if (year % 4 == 0 and year % 100 !=0) or (year % 400 == 0):\n",
    "    print(year, \"is a leap year\")\n",
    "else:\n",
    "    print(year, \"is not a leap year\")    "
   ]
  },
  {
   "cell_type": "code",
   "execution_count": null,
   "id": "b374b79e",
   "metadata": {},
   "outputs": [],
   "source": []
  }
 ],
 "metadata": {
  "kernelspec": {
   "display_name": "Python 3",
   "language": "python",
   "name": "python3"
  },
  "language_info": {
   "codemirror_mode": {
    "name": "ipython",
    "version": 3
   },
   "file_extension": ".py",
   "mimetype": "text/x-python",
   "name": "python",
   "nbconvert_exporter": "python",
   "pygments_lexer": "ipython3",
   "version": "3.12.1"
  }
 },
 "nbformat": 4,
 "nbformat_minor": 5
}
