{
 "cells": [
  {
   "cell_type": "markdown",
   "id": "66921cdb",
   "metadata": {},
   "source": [
    "# Gathering Data\n",
    "## Data gathering Process"
   ]
  },
  {
   "cell_type": "code",
   "execution_count": 5,
   "id": "5f4c9bf1",
   "metadata": {},
   "outputs": [],
   "source": [
    "Data = {\n",
    "    \"Name\":[\"John\", \"Jane\", \"Doe\",\"Sam\",\"Anna\"],\n",
    "    \"Age\":[28, 22, 35, 30, 25],\n",
    "    \"City\":[\"New York\", \"Los Angeles\", \"Chicago\", \"Houston\", \"Phoenix\"],\n",
    "    \"Occupation\":[\"Engineer\", \"Doctor\", \"Artist\", \"Teacher\", \"Nurse\"],\n",
    "    \"Salary\":[70000, 120000, 50000, 60000, 55000]\n",
    "    \n",
    "}"
   ]
  },
  {
   "cell_type": "code",
   "execution_count": 6,
   "id": "e78554d1",
   "metadata": {},
   "outputs": [],
   "source": [
    "import pandas as pd"
   ]
  },
  {
   "cell_type": "code",
   "execution_count": 7,
   "id": "282d686b",
   "metadata": {},
   "outputs": [],
   "source": [
    "df = pd.DataFrame(Data)"
   ]
  },
  {
   "cell_type": "code",
   "execution_count": 8,
   "id": "1a40c832",
   "metadata": {},
   "outputs": [
    {
     "name": "stdout",
     "output_type": "stream",
     "text": [
      "   Name  Age         City Occupation  Salary\n",
      "0  John   28     New York   Engineer   70000\n",
      "1  Jane   22  Los Angeles     Doctor  120000\n",
      "2   Doe   35      Chicago     Artist   50000\n",
      "3   Sam   30      Houston    Teacher   60000\n",
      "4  Anna   25      Phoenix      Nurse   55000\n"
     ]
    }
   ],
   "source": [
    "# how to read my Data\n",
    "print(df.head())\n"
   ]
  },
  {
   "cell_type": "code",
   "execution_count": 9,
   "id": "06e90674",
   "metadata": {},
   "outputs": [],
   "source": [
    "df = pd.read_csv(\"Data/course_offerings.csv\", sep='|')"
   ]
  },
  {
   "cell_type": "code",
   "execution_count": 10,
   "id": "4e55ef14",
   "metadata": {},
   "outputs": [
    {
     "name": "stdout",
     "output_type": "stream",
     "text": [
      "             course_id,course_name,instructor\n",
      "0            101,Intro to Python,Chris Bruehl\n",
      "1                102,Intro to SQL,John Pauler\n",
      "2    201,Exploratory Data Analysis,Alice Zhao\n",
      "3                 301,Algorithms,Chris Bruehl\n",
      "4  331,Natural Language Processing,Alice Zhao\n"
     ]
    }
   ],
   "source": [
    "print(df.head())"
   ]
  },
  {
   "cell_type": "code",
   "execution_count": null,
   "id": "c0db6acb",
   "metadata": {},
   "outputs": [],
   "source": [
    "# use in separated values\n",
    "df = pd.read_csv(\"Data/course_offerings.csv\", sep=',')"
   ]
  },
  {
   "cell_type": "code",
   "execution_count": 15,
   "id": "12a781df",
   "metadata": {},
   "outputs": [
    {
     "name": "stdout",
     "output_type": "stream",
     "text": [
      "   course_id                  course_name    instructor\n",
      "0        101              Intro to Python  Chris Bruehl\n",
      "1        102                 Intro to SQL   John Pauler\n",
      "2        201    Exploratory Data Analysis    Alice Zhao\n",
      "3        301                   Algorithms  Chris Bruehl\n",
      "4        331  Natural Language Processing    Alice Zhao\n"
     ]
    }
   ],
   "source": [
    "print(df.head())"
   ]
  },
  {
   "cell_type": "code",
   "execution_count": 16,
   "id": "bc4a89df",
   "metadata": {},
   "outputs": [],
   "source": [
    "df_1 = pd.read_excel(\"Data/Course Offerings.xlsx\", index_col=0)"
   ]
  },
  {
   "cell_type": "code",
   "execution_count": 17,
   "id": "ebe5daa3",
   "metadata": {},
   "outputs": [
    {
     "name": "stdout",
     "output_type": "stream",
     "text": [
      "                                Title\n",
      "Instructor                           \n",
      "Chris Bruehl   Lead Python Instructor\n",
      "John Pauler      Chief Growth Officer\n",
      "Alice Zhao    Data Science Instructor\n"
     ]
    }
   ],
   "source": [
    "print(df_1.head())"
   ]
  },
  {
   "cell_type": "code",
   "execution_count": null,
   "id": "01f17e71",
   "metadata": {},
   "outputs": [],
   "source": []
  },
  {
   "cell_type": "code",
   "execution_count": null,
   "id": "b39b0b28",
   "metadata": {},
   "outputs": [],
   "source": []
  },
  {
   "cell_type": "code",
   "execution_count": 18,
   "id": "db1b9cfe",
   "metadata": {},
   "outputs": [
    {
     "data": {
      "application/vnd.microsoft.datawrangler.viewer.v0+json": {
       "columns": [
        {
         "name": "index",
         "rawType": "int64",
         "type": "integer"
        },
        {
         "name": "Instructor",
         "rawType": "object",
         "type": "string"
        },
        {
         "name": "Title",
         "rawType": "object",
         "type": "string"
        }
       ],
       "conversionMethod": "pd.DataFrame",
       "ref": "bb95cd2e-51a9-4fe6-b475-3bc85bfefce3",
       "rows": [
        [
         "0",
         "Chris Bruehl",
         "Lead Python Instructor"
        ],
        [
         "1",
         "John Pauler",
         "Chief Growth Officer"
        ],
        [
         "2",
         "Alice Zhao",
         "Data Science Instructor"
        ]
       ],
       "shape": {
        "columns": 2,
        "rows": 3
       }
      },
      "text/html": [
       "<div>\n",
       "<style scoped>\n",
       "    .dataframe tbody tr th:only-of-type {\n",
       "        vertical-align: middle;\n",
       "    }\n",
       "\n",
       "    .dataframe tbody tr th {\n",
       "        vertical-align: top;\n",
       "    }\n",
       "\n",
       "    .dataframe thead th {\n",
       "        text-align: right;\n",
       "    }\n",
       "</style>\n",
       "<table border=\"1\" class=\"dataframe\">\n",
       "  <thead>\n",
       "    <tr style=\"text-align: right;\">\n",
       "      <th></th>\n",
       "      <th>Instructor</th>\n",
       "      <th>Title</th>\n",
       "    </tr>\n",
       "  </thead>\n",
       "  <tbody>\n",
       "    <tr>\n",
       "      <th>0</th>\n",
       "      <td>Chris Bruehl</td>\n",
       "      <td>Lead Python Instructor</td>\n",
       "    </tr>\n",
       "    <tr>\n",
       "      <th>1</th>\n",
       "      <td>John Pauler</td>\n",
       "      <td>Chief Growth Officer</td>\n",
       "    </tr>\n",
       "    <tr>\n",
       "      <th>2</th>\n",
       "      <td>Alice Zhao</td>\n",
       "      <td>Data Science Instructor</td>\n",
       "    </tr>\n",
       "  </tbody>\n",
       "</table>\n",
       "</div>"
      ],
      "text/plain": [
       "     Instructor                    Title\n",
       "0  Chris Bruehl   Lead Python Instructor\n",
       "1   John Pauler     Chief Growth Officer\n",
       "2    Alice Zhao  Data Science Instructor"
      ]
     },
     "execution_count": 18,
     "metadata": {},
     "output_type": "execute_result"
    }
   ],
   "source": [
    "pd.read_excel(\"Data/Course Offerings.xlsx\", sheet_name=0)"
   ]
  },
  {
   "cell_type": "code",
   "execution_count": 19,
   "id": "41b4da72",
   "metadata": {},
   "outputs": [
    {
     "data": {
      "application/vnd.microsoft.datawrangler.viewer.v0+json": {
       "columns": [
        {
         "name": "index",
         "rawType": "int64",
         "type": "integer"
        },
        {
         "name": "Course ID",
         "rawType": "int64",
         "type": "integer"
        },
        {
         "name": "Course Name",
         "rawType": "object",
         "type": "string"
        },
        {
         "name": "Instructor",
         "rawType": "object",
         "type": "string"
        }
       ],
       "conversionMethod": "pd.DataFrame",
       "ref": "17fbc7ed-506b-46ea-93da-d24478425d12",
       "rows": [
        [
         "0",
         "101",
         "Intro to Python",
         "Chris Bruehl"
        ],
        [
         "1",
         "102",
         "Intro to SQL",
         "John Pauler"
        ],
        [
         "2",
         "201",
         "Exploratory Data Analysis",
         "Alice Zhao"
        ],
        [
         "3",
         "301",
         "Algorithms",
         "Chris Bruehl"
        ],
        [
         "4",
         "331",
         "Natural Language Processing",
         "Alice Zhao"
        ]
       ],
       "shape": {
        "columns": 3,
        "rows": 5
       }
      },
      "text/html": [
       "<div>\n",
       "<style scoped>\n",
       "    .dataframe tbody tr th:only-of-type {\n",
       "        vertical-align: middle;\n",
       "    }\n",
       "\n",
       "    .dataframe tbody tr th {\n",
       "        vertical-align: top;\n",
       "    }\n",
       "\n",
       "    .dataframe thead th {\n",
       "        text-align: right;\n",
       "    }\n",
       "</style>\n",
       "<table border=\"1\" class=\"dataframe\">\n",
       "  <thead>\n",
       "    <tr style=\"text-align: right;\">\n",
       "      <th></th>\n",
       "      <th>Course ID</th>\n",
       "      <th>Course Name</th>\n",
       "      <th>Instructor</th>\n",
       "    </tr>\n",
       "  </thead>\n",
       "  <tbody>\n",
       "    <tr>\n",
       "      <th>0</th>\n",
       "      <td>101</td>\n",
       "      <td>Intro to Python</td>\n",
       "      <td>Chris Bruehl</td>\n",
       "    </tr>\n",
       "    <tr>\n",
       "      <th>1</th>\n",
       "      <td>102</td>\n",
       "      <td>Intro to SQL</td>\n",
       "      <td>John Pauler</td>\n",
       "    </tr>\n",
       "    <tr>\n",
       "      <th>2</th>\n",
       "      <td>201</td>\n",
       "      <td>Exploratory Data Analysis</td>\n",
       "      <td>Alice Zhao</td>\n",
       "    </tr>\n",
       "    <tr>\n",
       "      <th>3</th>\n",
       "      <td>301</td>\n",
       "      <td>Algorithms</td>\n",
       "      <td>Chris Bruehl</td>\n",
       "    </tr>\n",
       "    <tr>\n",
       "      <th>4</th>\n",
       "      <td>331</td>\n",
       "      <td>Natural Language Processing</td>\n",
       "      <td>Alice Zhao</td>\n",
       "    </tr>\n",
       "  </tbody>\n",
       "</table>\n",
       "</div>"
      ],
      "text/plain": [
       "   Course ID                  Course Name    Instructor\n",
       "0        101              Intro to Python  Chris Bruehl\n",
       "1        102                 Intro to SQL   John Pauler\n",
       "2        201    Exploratory Data Analysis    Alice Zhao\n",
       "3        301                   Algorithms  Chris Bruehl\n",
       "4        331  Natural Language Processing    Alice Zhao"
      ]
     },
     "execution_count": 19,
     "metadata": {},
     "output_type": "execute_result"
    }
   ],
   "source": [
    "pd.read_excel(\"Data/Course Offerings.xlsx\", sheet_name=1)"
   ]
  },
  {
   "cell_type": "code",
   "execution_count": null,
   "id": "9211e4e6",
   "metadata": {},
   "outputs": [],
   "source": []
  },
  {
   "cell_type": "markdown",
   "id": "fde63964",
   "metadata": {},
   "source": [
    "# Connect to SQL databases"
   ]
  },
  {
   "cell_type": "code",
   "execution_count": 20,
   "id": "cedd59a8",
   "metadata": {},
   "outputs": [],
   "source": [
    "import sqlite3"
   ]
  },
  {
   "cell_type": "code",
   "execution_count": 21,
   "id": "065417aa",
   "metadata": {},
   "outputs": [],
   "source": [
    "conn = sqlite3.connect(\"Data/maven.db\")"
   ]
  },
  {
   "cell_type": "code",
   "execution_count": 22,
   "id": "b95b8f99",
   "metadata": {},
   "outputs": [
    {
     "data": {
      "application/vnd.microsoft.datawrangler.viewer.v0+json": {
       "columns": [
        {
         "name": "index",
         "rawType": "int64",
         "type": "integer"
        },
        {
         "name": "course_id",
         "rawType": "int64",
         "type": "integer"
        },
        {
         "name": "course",
         "rawType": "object",
         "type": "string"
        },
        {
         "name": "instructor",
         "rawType": "object",
         "type": "string"
        }
       ],
       "conversionMethod": "pd.DataFrame",
       "ref": "99556dbb-5cb7-4ea0-9101-c2374c48a89a",
       "rows": [
        [
         "0",
         "101",
         "Intro to Python",
         "Chris Bruehl"
        ],
        [
         "1",
         "102",
         "Intro to SQL",
         "John Pauler"
        ],
        [
         "2",
         "201",
         "Exploratory Data Analysis",
         "Alice Zhao"
        ],
        [
         "3",
         "301",
         "Algorithms",
         "Chris Bruehl"
        ],
        [
         "4",
         "331",
         "Natural Language Processing",
         "Alice Zhao"
        ]
       ],
       "shape": {
        "columns": 3,
        "rows": 5
       }
      },
      "text/html": [
       "<div>\n",
       "<style scoped>\n",
       "    .dataframe tbody tr th:only-of-type {\n",
       "        vertical-align: middle;\n",
       "    }\n",
       "\n",
       "    .dataframe tbody tr th {\n",
       "        vertical-align: top;\n",
       "    }\n",
       "\n",
       "    .dataframe thead th {\n",
       "        text-align: right;\n",
       "    }\n",
       "</style>\n",
       "<table border=\"1\" class=\"dataframe\">\n",
       "  <thead>\n",
       "    <tr style=\"text-align: right;\">\n",
       "      <th></th>\n",
       "      <th>course_id</th>\n",
       "      <th>course</th>\n",
       "      <th>instructor</th>\n",
       "    </tr>\n",
       "  </thead>\n",
       "  <tbody>\n",
       "    <tr>\n",
       "      <th>0</th>\n",
       "      <td>101</td>\n",
       "      <td>Intro to Python</td>\n",
       "      <td>Chris Bruehl</td>\n",
       "    </tr>\n",
       "    <tr>\n",
       "      <th>1</th>\n",
       "      <td>102</td>\n",
       "      <td>Intro to SQL</td>\n",
       "      <td>John Pauler</td>\n",
       "    </tr>\n",
       "    <tr>\n",
       "      <th>2</th>\n",
       "      <td>201</td>\n",
       "      <td>Exploratory Data Analysis</td>\n",
       "      <td>Alice Zhao</td>\n",
       "    </tr>\n",
       "    <tr>\n",
       "      <th>3</th>\n",
       "      <td>301</td>\n",
       "      <td>Algorithms</td>\n",
       "      <td>Chris Bruehl</td>\n",
       "    </tr>\n",
       "    <tr>\n",
       "      <th>4</th>\n",
       "      <td>331</td>\n",
       "      <td>Natural Language Processing</td>\n",
       "      <td>Alice Zhao</td>\n",
       "    </tr>\n",
       "  </tbody>\n",
       "</table>\n",
       "</div>"
      ],
      "text/plain": [
       "   course_id                       course    instructor\n",
       "0        101              Intro to Python  Chris Bruehl\n",
       "1        102                 Intro to SQL   John Pauler\n",
       "2        201    Exploratory Data Analysis    Alice Zhao\n",
       "3        301                   Algorithms  Chris Bruehl\n",
       "4        331  Natural Language Processing    Alice Zhao"
      ]
     },
     "execution_count": 22,
     "metadata": {},
     "output_type": "execute_result"
    }
   ],
   "source": [
    "pd.read_sql(\"SELECT * FROM courses\", conn)"
   ]
  },
  {
   "cell_type": "code",
   "execution_count": null,
   "id": "5d1f71b7",
   "metadata": {},
   "outputs": [],
   "source": []
  },
  {
   "cell_type": "markdown",
   "id": "f4c73095",
   "metadata": {},
   "source": [
    "# Cleaning Data\n",
    "## The goal data cleaning is to get raw data  into a format that's readly for analysis. "
   ]
  },
  {
   "cell_type": "code",
   "execution_count": 23,
   "id": "1b33a8f7",
   "metadata": {},
   "outputs": [],
   "source": [
    "df= pd.read_excel('Data/Run Times.xlsx')"
   ]
  },
  {
   "cell_type": "code",
   "execution_count": 24,
   "id": "383f515b",
   "metadata": {},
   "outputs": [
    {
     "name": "stdout",
     "output_type": "stream",
     "text": [
      "            Name Warm Up Time   Location            Run Date  Race Date  \\\n",
      "Run Time                                                                  \n",
      "9.2343    Alexis          3.5   “school” 2023-04-15 12:00:00 2023-06-01   \n",
      "10.3842   Alexis          3.5     School 2023-04-22 12:30:00 2023-06-01   \n",
      "8.1209    Alexis        3 min  “the gym” 2023-05-10 15:00:00 2023-06-01   \n",
      "7.2123     David          2.2   “school” 2023-05-01 15:15:00 2023-06-15   \n",
      "6.8342     David            2      “gym” 2023-05-10 16:30:00 2023-06-15   \n",
      "\n",
      "           Rain    Fee  \n",
      "Run Time                \n",
      "9.2343    False  $0.00  \n",
      "10.3842    True  $0.00  \n",
      "8.1209    False  $2.50  \n",
      "7.2123    False  $0.00  \n",
      "6.8342    False  $2.50  \n"
     ]
    }
   ],
   "source": [
    "run_times = df.set_index('Run Time')\n",
    "print(run_times.head())"
   ]
  },
  {
   "cell_type": "code",
   "execution_count": 25,
   "id": "dd786da5",
   "metadata": {},
   "outputs": [
    {
     "data": {
      "text/plain": [
       "Name                    object\n",
       "Warm Up Time            object\n",
       "Location                object\n",
       "Run Date        datetime64[ns]\n",
       "Race Date       datetime64[ns]\n",
       "Rain                      bool\n",
       "Fee                     object\n",
       "dtype: object"
      ]
     },
     "execution_count": 25,
     "metadata": {},
     "output_type": "execute_result"
    }
   ],
   "source": [
    "run_times.dtypes"
   ]
  },
  {
   "cell_type": "code",
   "execution_count": 26,
   "id": "4e42915a",
   "metadata": {},
   "outputs": [
    {
     "name": "stdout",
     "output_type": "stream",
     "text": [
      "<class 'pandas.core.frame.DataFrame'>\n",
      "Index: 5 entries, 9.2343 to 6.8342\n",
      "Data columns (total 7 columns):\n",
      " #   Column        Non-Null Count  Dtype         \n",
      "---  ------        --------------  -----         \n",
      " 0   Name          5 non-null      object        \n",
      " 1   Warm Up Time  5 non-null      object        \n",
      " 2   Location      5 non-null      object        \n",
      " 3   Run Date      5 non-null      datetime64[ns]\n",
      " 4   Race Date     5 non-null      datetime64[ns]\n",
      " 5   Rain          5 non-null      bool          \n",
      " 6   Fee           5 non-null      object        \n",
      "dtypes: bool(1), datetime64[ns](2), object(4)\n",
      "memory usage: 285.0+ bytes\n"
     ]
    }
   ],
   "source": [
    "run_times.info()"
   ]
  },
  {
   "cell_type": "markdown",
   "id": "9bfb9a73",
   "metadata": {},
   "source": [
    "# Coverting to datetime"
   ]
  },
  {
   "cell_type": "code",
   "execution_count": 27,
   "id": "8c707b2f",
   "metadata": {},
   "outputs": [
    {
     "data": {
      "text/plain": [
       "Run Time\n",
       "9.2343     0.00\n",
       "10.3842    0.00\n",
       "8.1209     2.50\n",
       "7.2123     0.00\n",
       "6.8342     2.50\n",
       "Name: Fee, dtype: object"
      ]
     },
     "execution_count": 27,
     "metadata": {},
     "output_type": "execute_result"
    }
   ],
   "source": [
    "run_times.Fee.str.replace('$', '')"
   ]
  },
  {
   "cell_type": "code",
   "execution_count": 28,
   "id": "e60307bd",
   "metadata": {},
   "outputs": [
    {
     "data": {
      "text/plain": [
       "Run Time\n",
       "9.2343     0.0\n",
       "10.3842    0.0\n",
       "8.1209     2.5\n",
       "7.2123     0.0\n",
       "6.8342     2.5\n",
       "Name: Fee, dtype: float64"
      ]
     },
     "execution_count": 28,
     "metadata": {},
     "output_type": "execute_result"
    }
   ],
   "source": [
    "pd.to_numeric(run_times.Fee.str.replace('$', ''))"
   ]
  },
  {
   "cell_type": "code",
   "execution_count": 29,
   "id": "ec8c22a3",
   "metadata": {},
   "outputs": [
    {
     "data": {
      "text/plain": [
       "Name                    object\n",
       "Warm Up Time            object\n",
       "Location                object\n",
       "Run Date        datetime64[ns]\n",
       "Race Date       datetime64[ns]\n",
       "Rain                      bool\n",
       "Fee                     object\n",
       "dtype: object"
      ]
     },
     "execution_count": 29,
     "metadata": {},
     "output_type": "execute_result"
    }
   ],
   "source": [
    "run_times.dtypes"
   ]
  },
  {
   "cell_type": "code",
   "execution_count": 30,
   "id": "5108b473",
   "metadata": {},
   "outputs": [
    {
     "name": "stdout",
     "output_type": "stream",
     "text": [
      "Name                    object\n",
      "Warm Up Time            object\n",
      "Location                object\n",
      "Run Date        datetime64[ns]\n",
      "Race Date       datetime64[ns]\n",
      "Rain                      bool\n",
      "Fee                    float64\n",
      "dtype: object\n"
     ]
    }
   ],
   "source": [
    "run_times.Fee =pd.to_numeric(run_times.Fee.str.replace('$', ''))\n",
    "print(run_times.dtypes)"
   ]
  },
  {
   "cell_type": "code",
   "execution_count": 76,
   "id": "42a75c8c",
   "metadata": {},
   "outputs": [
    {
     "data": {
      "application/vnd.microsoft.datawrangler.viewer.v0+json": {
       "columns": [
        {
         "name": "Run Time",
         "rawType": "float64",
         "type": "float"
        },
        {
         "name": "Name",
         "rawType": "object",
         "type": "string"
        },
        {
         "name": "Warm Up Time",
         "rawType": "object",
         "type": "unknown"
        },
        {
         "name": "Location",
         "rawType": "object",
         "type": "string"
        },
        {
         "name": "Run Date",
         "rawType": "datetime64[ns]",
         "type": "datetime"
        },
        {
         "name": "Race Date",
         "rawType": "datetime64[ns]",
         "type": "datetime"
        },
        {
         "name": "Rain",
         "rawType": "bool",
         "type": "boolean"
        },
        {
         "name": "Fee",
         "rawType": "float64",
         "type": "float"
        }
       ],
       "conversionMethod": "pd.DataFrame",
       "ref": "f09904ce-e7d2-4754-8275-8b8abce3416d",
       "rows": [
        [
         "9.2343",
         "Alexis",
         "3.5",
         "“school”",
         "2023-04-15 12:00:00",
         "2023-06-01 00:00:00",
         "False",
         "0.0"
        ],
        [
         "10.3842",
         "Alexis",
         "3.5",
         "School",
         "2023-04-22 12:30:00",
         "2023-06-01 00:00:00",
         "True",
         "0.0"
        ],
        [
         "8.1209",
         "Alexis",
         "3 min",
         "“the gym”",
         "2023-05-10 15:00:00",
         "2023-06-01 00:00:00",
         "False",
         "2.5"
        ],
        [
         "7.2123",
         "David",
         "2.2",
         "“school”",
         "2023-05-01 15:15:00",
         "2023-06-15 00:00:00",
         "False",
         "0.0"
        ],
        [
         "6.8342",
         "David",
         "2",
         "“gym”",
         "2023-05-10 16:30:00",
         "2023-06-15 00:00:00",
         "False",
         "2.5"
        ]
       ],
       "shape": {
        "columns": 7,
        "rows": 5
       }
      },
      "text/html": [
       "<div>\n",
       "<style scoped>\n",
       "    .dataframe tbody tr th:only-of-type {\n",
       "        vertical-align: middle;\n",
       "    }\n",
       "\n",
       "    .dataframe tbody tr th {\n",
       "        vertical-align: top;\n",
       "    }\n",
       "\n",
       "    .dataframe thead th {\n",
       "        text-align: right;\n",
       "    }\n",
       "</style>\n",
       "<table border=\"1\" class=\"dataframe\">\n",
       "  <thead>\n",
       "    <tr style=\"text-align: right;\">\n",
       "      <th></th>\n",
       "      <th>Name</th>\n",
       "      <th>Warm Up Time</th>\n",
       "      <th>Location</th>\n",
       "      <th>Run Date</th>\n",
       "      <th>Race Date</th>\n",
       "      <th>Rain</th>\n",
       "      <th>Fee</th>\n",
       "    </tr>\n",
       "    <tr>\n",
       "      <th>Run Time</th>\n",
       "      <th></th>\n",
       "      <th></th>\n",
       "      <th></th>\n",
       "      <th></th>\n",
       "      <th></th>\n",
       "      <th></th>\n",
       "      <th></th>\n",
       "    </tr>\n",
       "  </thead>\n",
       "  <tbody>\n",
       "    <tr>\n",
       "      <th>9.2343</th>\n",
       "      <td>Alexis</td>\n",
       "      <td>3.5</td>\n",
       "      <td>“school”</td>\n",
       "      <td>2023-04-15 12:00:00</td>\n",
       "      <td>2023-06-01</td>\n",
       "      <td>False</td>\n",
       "      <td>0.0</td>\n",
       "    </tr>\n",
       "    <tr>\n",
       "      <th>10.3842</th>\n",
       "      <td>Alexis</td>\n",
       "      <td>3.5</td>\n",
       "      <td>School</td>\n",
       "      <td>2023-04-22 12:30:00</td>\n",
       "      <td>2023-06-01</td>\n",
       "      <td>True</td>\n",
       "      <td>0.0</td>\n",
       "    </tr>\n",
       "    <tr>\n",
       "      <th>8.1209</th>\n",
       "      <td>Alexis</td>\n",
       "      <td>3 min</td>\n",
       "      <td>“the gym”</td>\n",
       "      <td>2023-05-10 15:00:00</td>\n",
       "      <td>2023-06-01</td>\n",
       "      <td>False</td>\n",
       "      <td>2.5</td>\n",
       "    </tr>\n",
       "    <tr>\n",
       "      <th>7.2123</th>\n",
       "      <td>David</td>\n",
       "      <td>2.2</td>\n",
       "      <td>“school”</td>\n",
       "      <td>2023-05-01 15:15:00</td>\n",
       "      <td>2023-06-15</td>\n",
       "      <td>False</td>\n",
       "      <td>0.0</td>\n",
       "    </tr>\n",
       "    <tr>\n",
       "      <th>6.8342</th>\n",
       "      <td>David</td>\n",
       "      <td>2</td>\n",
       "      <td>“gym”</td>\n",
       "      <td>2023-05-10 16:30:00</td>\n",
       "      <td>2023-06-15</td>\n",
       "      <td>False</td>\n",
       "      <td>2.5</td>\n",
       "    </tr>\n",
       "  </tbody>\n",
       "</table>\n",
       "</div>"
      ],
      "text/plain": [
       "            Name Warm Up Time   Location            Run Date  Race Date  \\\n",
       "Run Time                                                                  \n",
       "9.2343    Alexis          3.5   “school” 2023-04-15 12:00:00 2023-06-01   \n",
       "10.3842   Alexis          3.5     School 2023-04-22 12:30:00 2023-06-01   \n",
       "8.1209    Alexis        3 min  “the gym” 2023-05-10 15:00:00 2023-06-01   \n",
       "7.2123     David          2.2   “school” 2023-05-01 15:15:00 2023-06-15   \n",
       "6.8342     David            2      “gym” 2023-05-10 16:30:00 2023-06-15   \n",
       "\n",
       "           Rain  Fee  \n",
       "Run Time              \n",
       "9.2343    False  0.0  \n",
       "10.3842    True  0.0  \n",
       "8.1209    False  2.5  \n",
       "7.2123    False  0.0  \n",
       "6.8342    False  2.5  "
      ]
     },
     "execution_count": 76,
     "metadata": {},
     "output_type": "execute_result"
    }
   ],
   "source": [
    "run_times.head()"
   ]
  },
  {
   "cell_type": "code",
   "execution_count": 31,
   "id": "c1f4a611",
   "metadata": {},
   "outputs": [
    {
     "data": {
      "text/plain": [
       "Run Time\n",
       "9.2343       3.5\n",
       "10.3842      3.5\n",
       "8.1209     3 min\n",
       "7.2123       2.2\n",
       "6.8342         2\n",
       "Name: Warm Up Time, dtype: object"
      ]
     },
     "execution_count": 31,
     "metadata": {},
     "output_type": "execute_result"
    }
   ],
   "source": [
    "run_times['Warm Up Time']"
   ]
  },
  {
   "cell_type": "code",
   "execution_count": 32,
   "id": "fb3c5428",
   "metadata": {},
   "outputs": [
    {
     "data": {
      "text/plain": [
       "Run Time\n",
       "9.2343     3.5\n",
       "10.3842    3.5\n",
       "8.1209     NaN\n",
       "7.2123     2.2\n",
       "6.8342     2.0\n",
       "Name: Warm Up Time, dtype: float64"
      ]
     },
     "execution_count": 32,
     "metadata": {},
     "output_type": "execute_result"
    }
   ],
   "source": [
    "pd.to_numeric(run_times['Warm Up Time'], errors='coerce')"
   ]
  },
  {
   "cell_type": "code",
   "execution_count": 33,
   "id": "91ca8fe6",
   "metadata": {},
   "outputs": [
    {
     "data": {
      "text/plain": [
       "Run Time\n",
       "9.2343       3.5\n",
       "10.3842      3.5\n",
       "8.1209     3 min\n",
       "7.2123       2.2\n",
       "6.8342         2\n",
       "Name: Warm Up Time, dtype: object"
      ]
     },
     "execution_count": 33,
     "metadata": {},
     "output_type": "execute_result"
    }
   ],
   "source": [
    "run_times['Warm Up Time']"
   ]
  },
  {
   "cell_type": "code",
   "execution_count": 34,
   "id": "fc7f7957",
   "metadata": {},
   "outputs": [
    {
     "data": {
      "text/plain": [
       "Run Time\n",
       "9.2343     NaN\n",
       "10.3842    NaN\n",
       "8.1209       3\n",
       "7.2123     NaN\n",
       "6.8342     NaN\n",
       "Name: Warm Up Time, dtype: object"
      ]
     },
     "execution_count": 34,
     "metadata": {},
     "output_type": "execute_result"
    }
   ],
   "source": [
    "run_times['Warm Up Time'].str.replace(' min', '')"
   ]
  },
  {
   "cell_type": "code",
   "execution_count": 35,
   "id": "dbe79201",
   "metadata": {},
   "outputs": [
    {
     "data": {
      "text/plain": [
       "Run Time\n",
       "9.2343     3.5\n",
       "10.3842    3.5\n",
       "8.1209       3\n",
       "7.2123     2.2\n",
       "6.8342       2\n",
       "Name: Warm Up Time, dtype: object"
      ]
     },
     "execution_count": 35,
     "metadata": {},
     "output_type": "execute_result"
    }
   ],
   "source": [
    "run_times['Warm Up Time'].astype('str').str.replace(' min', '')"
   ]
  },
  {
   "cell_type": "code",
   "execution_count": 85,
   "id": "09f19179",
   "metadata": {},
   "outputs": [
    {
     "data": {
      "text/plain": [
       "Run Time\n",
       "9.2343     3.5\n",
       "10.3842    3.5\n",
       "8.1209     3.0\n",
       "7.2123     2.2\n",
       "6.8342     2.0\n",
       "Name: Warm Up Time, dtype: float64"
      ]
     },
     "execution_count": 85,
     "metadata": {},
     "output_type": "execute_result"
    }
   ],
   "source": [
    "pd.to_numeric(run_times['Warm Up Time'].astype('str').str.replace(' min', ''))"
   ]
  },
  {
   "cell_type": "code",
   "execution_count": 36,
   "id": "c635eed5",
   "metadata": {},
   "outputs": [
    {
     "data": {
      "text/plain": [
       "Name                    object\n",
       "Warm Up Time            object\n",
       "Location                object\n",
       "Run Date        datetime64[ns]\n",
       "Race Date       datetime64[ns]\n",
       "Rain                      bool\n",
       "Fee                    float64\n",
       "dtype: object"
      ]
     },
     "execution_count": 36,
     "metadata": {},
     "output_type": "execute_result"
    }
   ],
   "source": [
    "run_times.dtypes"
   ]
  },
  {
   "cell_type": "code",
   "execution_count": 37,
   "id": "886e6366",
   "metadata": {},
   "outputs": [
    {
     "data": {
      "application/vnd.microsoft.datawrangler.viewer.v0+json": {
       "columns": [
        {
         "name": "Run Time",
         "rawType": "float64",
         "type": "float"
        },
        {
         "name": "Name",
         "rawType": "object",
         "type": "string"
        },
        {
         "name": "Warm Up Time",
         "rawType": "object",
         "type": "unknown"
        },
        {
         "name": "Location",
         "rawType": "object",
         "type": "string"
        },
        {
         "name": "Run Date",
         "rawType": "datetime64[ns]",
         "type": "datetime"
        },
        {
         "name": "Race Date",
         "rawType": "datetime64[ns]",
         "type": "datetime"
        },
        {
         "name": "Rain",
         "rawType": "bool",
         "type": "boolean"
        },
        {
         "name": "Fee",
         "rawType": "float64",
         "type": "float"
        }
       ],
       "conversionMethod": "pd.DataFrame",
       "ref": "37134b08-77a2-4ea4-a516-5b243addc977",
       "rows": [
        [
         "9.2343",
         "Alexis",
         "3.5",
         "“school”",
         "2023-04-15 12:00:00",
         "2023-06-01 00:00:00",
         "False",
         "0.0"
        ],
        [
         "10.3842",
         "Alexis",
         "3.5",
         "School",
         "2023-04-22 12:30:00",
         "2023-06-01 00:00:00",
         "True",
         "0.0"
        ],
        [
         "8.1209",
         "Alexis",
         "3 min",
         "“the gym”",
         "2023-05-10 15:00:00",
         "2023-06-01 00:00:00",
         "False",
         "2.5"
        ],
        [
         "7.2123",
         "David",
         "2.2",
         "“school”",
         "2023-05-01 15:15:00",
         "2023-06-15 00:00:00",
         "False",
         "0.0"
        ],
        [
         "6.8342",
         "David",
         "2",
         "“gym”",
         "2023-05-10 16:30:00",
         "2023-06-15 00:00:00",
         "False",
         "2.5"
        ]
       ],
       "shape": {
        "columns": 7,
        "rows": 5
       }
      },
      "text/html": [
       "<div>\n",
       "<style scoped>\n",
       "    .dataframe tbody tr th:only-of-type {\n",
       "        vertical-align: middle;\n",
       "    }\n",
       "\n",
       "    .dataframe tbody tr th {\n",
       "        vertical-align: top;\n",
       "    }\n",
       "\n",
       "    .dataframe thead th {\n",
       "        text-align: right;\n",
       "    }\n",
       "</style>\n",
       "<table border=\"1\" class=\"dataframe\">\n",
       "  <thead>\n",
       "    <tr style=\"text-align: right;\">\n",
       "      <th></th>\n",
       "      <th>Name</th>\n",
       "      <th>Warm Up Time</th>\n",
       "      <th>Location</th>\n",
       "      <th>Run Date</th>\n",
       "      <th>Race Date</th>\n",
       "      <th>Rain</th>\n",
       "      <th>Fee</th>\n",
       "    </tr>\n",
       "    <tr>\n",
       "      <th>Run Time</th>\n",
       "      <th></th>\n",
       "      <th></th>\n",
       "      <th></th>\n",
       "      <th></th>\n",
       "      <th></th>\n",
       "      <th></th>\n",
       "      <th></th>\n",
       "    </tr>\n",
       "  </thead>\n",
       "  <tbody>\n",
       "    <tr>\n",
       "      <th>9.2343</th>\n",
       "      <td>Alexis</td>\n",
       "      <td>3.5</td>\n",
       "      <td>“school”</td>\n",
       "      <td>2023-04-15 12:00:00</td>\n",
       "      <td>2023-06-01</td>\n",
       "      <td>False</td>\n",
       "      <td>0.0</td>\n",
       "    </tr>\n",
       "    <tr>\n",
       "      <th>10.3842</th>\n",
       "      <td>Alexis</td>\n",
       "      <td>3.5</td>\n",
       "      <td>School</td>\n",
       "      <td>2023-04-22 12:30:00</td>\n",
       "      <td>2023-06-01</td>\n",
       "      <td>True</td>\n",
       "      <td>0.0</td>\n",
       "    </tr>\n",
       "    <tr>\n",
       "      <th>8.1209</th>\n",
       "      <td>Alexis</td>\n",
       "      <td>3 min</td>\n",
       "      <td>“the gym”</td>\n",
       "      <td>2023-05-10 15:00:00</td>\n",
       "      <td>2023-06-01</td>\n",
       "      <td>False</td>\n",
       "      <td>2.5</td>\n",
       "    </tr>\n",
       "    <tr>\n",
       "      <th>7.2123</th>\n",
       "      <td>David</td>\n",
       "      <td>2.2</td>\n",
       "      <td>“school”</td>\n",
       "      <td>2023-05-01 15:15:00</td>\n",
       "      <td>2023-06-15</td>\n",
       "      <td>False</td>\n",
       "      <td>0.0</td>\n",
       "    </tr>\n",
       "    <tr>\n",
       "      <th>6.8342</th>\n",
       "      <td>David</td>\n",
       "      <td>2</td>\n",
       "      <td>“gym”</td>\n",
       "      <td>2023-05-10 16:30:00</td>\n",
       "      <td>2023-06-15</td>\n",
       "      <td>False</td>\n",
       "      <td>2.5</td>\n",
       "    </tr>\n",
       "  </tbody>\n",
       "</table>\n",
       "</div>"
      ],
      "text/plain": [
       "            Name Warm Up Time   Location            Run Date  Race Date  \\\n",
       "Run Time                                                                  \n",
       "9.2343    Alexis          3.5   “school” 2023-04-15 12:00:00 2023-06-01   \n",
       "10.3842   Alexis          3.5     School 2023-04-22 12:30:00 2023-06-01   \n",
       "8.1209    Alexis        3 min  “the gym” 2023-05-10 15:00:00 2023-06-01   \n",
       "7.2123     David          2.2   “school” 2023-05-01 15:15:00 2023-06-15   \n",
       "6.8342     David            2      “gym” 2023-05-10 16:30:00 2023-06-15   \n",
       "\n",
       "           Rain  Fee  \n",
       "Run Time              \n",
       "9.2343    False  0.0  \n",
       "10.3842    True  0.0  \n",
       "8.1209    False  2.5  \n",
       "7.2123    False  0.0  \n",
       "6.8342    False  2.5  "
      ]
     },
     "execution_count": 37,
     "metadata": {},
     "output_type": "execute_result"
    }
   ],
   "source": [
    "run_times.head()"
   ]
  },
  {
   "cell_type": "code",
   "execution_count": 38,
   "id": "01c0cc9a",
   "metadata": {},
   "outputs": [
    {
     "data": {
      "text/plain": [
       "Run Time\n",
       "9.2343     0\n",
       "10.3842    1\n",
       "8.1209     0\n",
       "7.2123     0\n",
       "6.8342     0\n",
       "Name: Rain, dtype: int32"
      ]
     },
     "execution_count": 38,
     "metadata": {},
     "output_type": "execute_result"
    }
   ],
   "source": [
    "# change the column name run boolean type\n",
    "run_times.Rain.astype('int')"
   ]
  },
  {
   "cell_type": "markdown",
   "id": "50c53a10",
   "metadata": {},
   "source": [
    "## Missing Data"
   ]
  },
  {
   "cell_type": "code",
   "execution_count": 39,
   "id": "71ad4c31",
   "metadata": {},
   "outputs": [],
   "source": [
    "# Update the file path to the correct location of the file\n",
    "df = pd.read_excel('Data/Student Grades.xlsx')  # Replace 'Data/Student Grades.xlsx' with the actual path to your file"
   ]
  },
  {
   "cell_type": "code",
   "execution_count": 40,
   "id": "35f25885",
   "metadata": {},
   "outputs": [
    {
     "data": {
      "application/vnd.microsoft.datawrangler.viewer.v0+json": {
       "columns": [
        {
         "name": "index",
         "rawType": "int64",
         "type": "integer"
        },
        {
         "name": "Student",
         "rawType": "object",
         "type": "string"
        },
        {
         "name": "Class",
         "rawType": "object",
         "type": "string"
        },
        {
         "name": "Year",
         "rawType": "object",
         "type": "string"
        },
        {
         "name": "Grade",
         "rawType": "float64",
         "type": "float"
        }
       ],
       "conversionMethod": "pd.DataFrame",
       "ref": "af444302-e2d0-40db-92be-bb3508d18aae",
       "rows": [
        [
         "0",
         "Emma",
         "Freshman Seminar",
         "Freshman",
         "86.0"
        ],
        [
         "1",
         "Olivia",
         "Freshman Seminar",
         "Freshman",
         "86.0"
        ],
        [
         "2",
         "Noah",
         "Freshman Seminar",
         "Freshman",
         "86.0"
        ],
        [
         "3",
         "Sophia",
         "Freshman Seminar",
         "Freshman",
         "87.0"
        ],
        [
         "4",
         "Liam",
         "Freshman Seminar",
         "Freshman",
         "90.0"
        ]
       ],
       "shape": {
        "columns": 4,
        "rows": 5
       }
      },
      "text/html": [
       "<div>\n",
       "<style scoped>\n",
       "    .dataframe tbody tr th:only-of-type {\n",
       "        vertical-align: middle;\n",
       "    }\n",
       "\n",
       "    .dataframe tbody tr th {\n",
       "        vertical-align: top;\n",
       "    }\n",
       "\n",
       "    .dataframe thead th {\n",
       "        text-align: right;\n",
       "    }\n",
       "</style>\n",
       "<table border=\"1\" class=\"dataframe\">\n",
       "  <thead>\n",
       "    <tr style=\"text-align: right;\">\n",
       "      <th></th>\n",
       "      <th>Student</th>\n",
       "      <th>Class</th>\n",
       "      <th>Year</th>\n",
       "      <th>Grade</th>\n",
       "    </tr>\n",
       "  </thead>\n",
       "  <tbody>\n",
       "    <tr>\n",
       "      <th>0</th>\n",
       "      <td>Emma</td>\n",
       "      <td>Freshman Seminar</td>\n",
       "      <td>Freshman</td>\n",
       "      <td>86.0</td>\n",
       "    </tr>\n",
       "    <tr>\n",
       "      <th>1</th>\n",
       "      <td>Olivia</td>\n",
       "      <td>Freshman Seminar</td>\n",
       "      <td>Freshman</td>\n",
       "      <td>86.0</td>\n",
       "    </tr>\n",
       "    <tr>\n",
       "      <th>2</th>\n",
       "      <td>Noah</td>\n",
       "      <td>Freshman Seminar</td>\n",
       "      <td>Freshman</td>\n",
       "      <td>86.0</td>\n",
       "    </tr>\n",
       "    <tr>\n",
       "      <th>3</th>\n",
       "      <td>Sophia</td>\n",
       "      <td>Freshman Seminar</td>\n",
       "      <td>Freshman</td>\n",
       "      <td>87.0</td>\n",
       "    </tr>\n",
       "    <tr>\n",
       "      <th>4</th>\n",
       "      <td>Liam</td>\n",
       "      <td>Freshman Seminar</td>\n",
       "      <td>Freshman</td>\n",
       "      <td>90.0</td>\n",
       "    </tr>\n",
       "  </tbody>\n",
       "</table>\n",
       "</div>"
      ],
      "text/plain": [
       "  Student             Class      Year  Grade\n",
       "0    Emma  Freshman Seminar  Freshman   86.0\n",
       "1  Olivia  Freshman Seminar  Freshman   86.0\n",
       "2    Noah  Freshman Seminar  Freshman   86.0\n",
       "3  Sophia  Freshman Seminar  Freshman   87.0\n",
       "4    Liam  Freshman Seminar  Freshman   90.0"
      ]
     },
     "execution_count": 40,
     "metadata": {},
     "output_type": "execute_result"
    }
   ],
   "source": [
    "df.head()"
   ]
  },
  {
   "cell_type": "code",
   "execution_count": 41,
   "id": "e2fd3fca",
   "metadata": {},
   "outputs": [
    {
     "data": {
      "application/vnd.microsoft.datawrangler.viewer.v0+json": {
       "columns": [
        {
         "name": "index",
         "rawType": "int64",
         "type": "integer"
        },
        {
         "name": "Student",
         "rawType": "object",
         "type": "unknown"
        },
        {
         "name": "Class",
         "rawType": "object",
         "type": "unknown"
        },
        {
         "name": "Year",
         "rawType": "object",
         "type": "unknown"
        },
        {
         "name": "Grade",
         "rawType": "float64",
         "type": "float"
        }
       ],
       "conversionMethod": "pd.DataFrame",
       "ref": "6eeba705-3277-4a10-844f-3183f10bfb49",
       "rows": [
        [
         "81",
         null,
         null,
         null,
         null
        ],
        [
         "82",
         "Bennett",
         null,
         null,
         null
        ],
        [
         "83",
         null,
         "EDA",
         "Junior",
         "84.0"
        ],
        [
         "84",
         "Gavin",
         "EDA",
         "Senior",
         null
        ],
        [
         "85",
         "Calvin",
         null,
         null,
         "100.0"
        ]
       ],
       "shape": {
        "columns": 4,
        "rows": 5
       }
      },
      "text/html": [
       "<div>\n",
       "<style scoped>\n",
       "    .dataframe tbody tr th:only-of-type {\n",
       "        vertical-align: middle;\n",
       "    }\n",
       "\n",
       "    .dataframe tbody tr th {\n",
       "        vertical-align: top;\n",
       "    }\n",
       "\n",
       "    .dataframe thead th {\n",
       "        text-align: right;\n",
       "    }\n",
       "</style>\n",
       "<table border=\"1\" class=\"dataframe\">\n",
       "  <thead>\n",
       "    <tr style=\"text-align: right;\">\n",
       "      <th></th>\n",
       "      <th>Student</th>\n",
       "      <th>Class</th>\n",
       "      <th>Year</th>\n",
       "      <th>Grade</th>\n",
       "    </tr>\n",
       "  </thead>\n",
       "  <tbody>\n",
       "    <tr>\n",
       "      <th>81</th>\n",
       "      <td>NaN</td>\n",
       "      <td>NaN</td>\n",
       "      <td>NaN</td>\n",
       "      <td>NaN</td>\n",
       "    </tr>\n",
       "    <tr>\n",
       "      <th>82</th>\n",
       "      <td>Bennett</td>\n",
       "      <td>NaN</td>\n",
       "      <td>NaN</td>\n",
       "      <td>NaN</td>\n",
       "    </tr>\n",
       "    <tr>\n",
       "      <th>83</th>\n",
       "      <td>NaN</td>\n",
       "      <td>EDA</td>\n",
       "      <td>Junior</td>\n",
       "      <td>84.0</td>\n",
       "    </tr>\n",
       "    <tr>\n",
       "      <th>84</th>\n",
       "      <td>Gavin</td>\n",
       "      <td>EDA</td>\n",
       "      <td>Senior</td>\n",
       "      <td>NaN</td>\n",
       "    </tr>\n",
       "    <tr>\n",
       "      <th>85</th>\n",
       "      <td>Calvin</td>\n",
       "      <td>NaN</td>\n",
       "      <td>NaN</td>\n",
       "      <td>100.0</td>\n",
       "    </tr>\n",
       "  </tbody>\n",
       "</table>\n",
       "</div>"
      ],
      "text/plain": [
       "    Student Class    Year  Grade\n",
       "81      NaN   NaN     NaN    NaN\n",
       "82  Bennett   NaN     NaN    NaN\n",
       "83      NaN   EDA  Junior   84.0\n",
       "84    Gavin   EDA  Senior    NaN\n",
       "85   Calvin   NaN     NaN  100.0"
      ]
     },
     "execution_count": 41,
     "metadata": {},
     "output_type": "execute_result"
    }
   ],
   "source": [
    "df.tail()"
   ]
  },
  {
   "cell_type": "code",
   "execution_count": 42,
   "id": "32d3db4f",
   "metadata": {},
   "outputs": [
    {
     "data": {
      "text/plain": [
       "Student     object\n",
       "Class       object\n",
       "Year        object\n",
       "Grade      float64\n",
       "dtype: object"
      ]
     },
     "execution_count": 42,
     "metadata": {},
     "output_type": "execute_result"
    }
   ],
   "source": [
    "df.dtypes"
   ]
  },
  {
   "cell_type": "code",
   "execution_count": 43,
   "id": "68586470",
   "metadata": {},
   "outputs": [],
   "source": [
    "import numpy as np"
   ]
  },
  {
   "cell_type": "code",
   "execution_count": null,
   "id": "3a342dba",
   "metadata": {},
   "outputs": [
    {
     "data": {
      "text/plain": [
       "nan"
      ]
     },
     "execution_count": 44,
     "metadata": {},
     "output_type": "execute_result"
    }
   ],
   "source": [
    "# np.nan is used to represent missing values in pandas\n",
    "np.nan"
   ]
  },
  {
   "cell_type": "code",
   "execution_count": 46,
   "id": "f93f6dd0",
   "metadata": {},
   "outputs": [
    {
     "data": {
      "text/plain": [
       "<NA>"
      ]
     },
     "execution_count": 46,
     "metadata": {},
     "output_type": "execute_result"
    }
   ],
   "source": [
    "# pd.NA is used to represent missing values in pandas\n",
    "pd.NA"
   ]
  },
  {
   "cell_type": "code",
   "execution_count": 45,
   "id": "5f7a920a",
   "metadata": {},
   "outputs": [
    {
     "name": "stdout",
     "output_type": "stream",
     "text": [
      "<class 'pandas.core.frame.DataFrame'>\n",
      "RangeIndex: 86 entries, 0 to 85\n",
      "Data columns (total 4 columns):\n",
      " #   Column   Non-Null Count  Dtype  \n",
      "---  ------   --------------  -----  \n",
      " 0   Student  84 non-null     object \n",
      " 1   Class    83 non-null     object \n",
      " 2   Year     80 non-null     object \n",
      " 3   Grade    82 non-null     float64\n",
      "dtypes: float64(1), object(3)\n",
      "memory usage: 2.8+ KB\n"
     ]
    }
   ],
   "source": [
    "df.info()"
   ]
  },
  {
   "cell_type": "code",
   "execution_count": 47,
   "id": "8e2d86d9",
   "metadata": {},
   "outputs": [
    {
     "data": {
      "text/plain": [
       "Student  Class            Year       Grade\n",
       "Isaac    Intro to SQL     Sophomore  96.0     3\n",
       "Aaron    EDA              Junior     85.0     1\n",
       "Joseph   Intro to Python  Freshman   93.0     1\n",
       "Luke     Intro to SQL     Sophomore  76.0     1\n",
       "Lucas    Intro to Python  Freshman   77.0     1\n",
       "                                             ..\n",
       "Eli      EDA              Junior     92.0     1\n",
       "Dylan    Intro to Python  Freshman   84.0     1\n",
       "David    Intro to Python  Freshman   74.0     1\n",
       "Daniel   Intro to Python  Freshman   85.0     1\n",
       "Zoey     EDA              Junior     91.0     1\n",
       "Name: count, Length: 75, dtype: int64"
      ]
     },
     "execution_count": 47,
     "metadata": {},
     "output_type": "execute_result"
    }
   ],
   "source": [
    "df.value_counts()"
   ]
  },
  {
   "cell_type": "code",
   "execution_count": 48,
   "id": "b4892f4d",
   "metadata": {},
   "outputs": [
    {
     "data": {
      "text/plain": [
       "Year\n",
       "Freshman     35\n",
       "Sophomore    24\n",
       "Junior       20\n",
       "Senior        1\n",
       "Name: count, dtype: int64"
      ]
     },
     "execution_count": 48,
     "metadata": {},
     "output_type": "execute_result"
    }
   ],
   "source": [
    "df.Year.value_counts()"
   ]
  },
  {
   "cell_type": "code",
   "execution_count": 49,
   "id": "a068dae1",
   "metadata": {},
   "outputs": [
    {
     "data": {
      "text/plain": [
       "Year\n",
       "Freshman     35\n",
       "Sophomore    24\n",
       "Junior       20\n",
       "NaN           6\n",
       "Senior        1\n",
       "Name: count, dtype: int64"
      ]
     },
     "execution_count": 49,
     "metadata": {},
     "output_type": "execute_result"
    }
   ],
   "source": [
    "df.Year.value_counts(dropna=False)"
   ]
  },
  {
   "cell_type": "code",
   "execution_count": null,
   "id": "2f8ae400",
   "metadata": {},
   "outputs": [
    {
     "data": {
      "application/vnd.microsoft.datawrangler.viewer.v0+json": {
       "columns": [
        {
         "name": "index",
         "rawType": "int64",
         "type": "integer"
        },
        {
         "name": "Student",
         "rawType": "bool",
         "type": "boolean"
        },
        {
         "name": "Class",
         "rawType": "bool",
         "type": "boolean"
        },
        {
         "name": "Year",
         "rawType": "bool",
         "type": "boolean"
        },
        {
         "name": "Grade",
         "rawType": "bool",
         "type": "boolean"
        }
       ],
       "conversionMethod": "pd.DataFrame",
       "ref": "1580daf0-76ad-4948-984f-92b9d24888fb",
       "rows": [
        [
         "0",
         "False",
         "False",
         "False",
         "False"
        ],
        [
         "1",
         "False",
         "False",
         "False",
         "False"
        ],
        [
         "2",
         "False",
         "False",
         "False",
         "False"
        ],
        [
         "3",
         "False",
         "False",
         "False",
         "False"
        ],
        [
         "4",
         "False",
         "False",
         "False",
         "False"
        ],
        [
         "5",
         "False",
         "False",
         "False",
         "False"
        ],
        [
         "6",
         "False",
         "False",
         "False",
         "False"
        ],
        [
         "7",
         "False",
         "False",
         "True",
         "False"
        ],
        [
         "8",
         "False",
         "False",
         "True",
         "False"
        ],
        [
         "9",
         "False",
         "False",
         "True",
         "False"
        ],
        [
         "10",
         "False",
         "False",
         "False",
         "False"
        ],
        [
         "11",
         "False",
         "False",
         "False",
         "False"
        ],
        [
         "12",
         "False",
         "False",
         "False",
         "False"
        ],
        [
         "13",
         "False",
         "False",
         "False",
         "False"
        ],
        [
         "14",
         "False",
         "False",
         "False",
         "False"
        ],
        [
         "15",
         "False",
         "False",
         "False",
         "False"
        ],
        [
         "16",
         "False",
         "False",
         "False",
         "False"
        ],
        [
         "17",
         "False",
         "False",
         "False",
         "False"
        ],
        [
         "18",
         "False",
         "False",
         "False",
         "False"
        ],
        [
         "19",
         "False",
         "False",
         "False",
         "False"
        ],
        [
         "20",
         "False",
         "False",
         "False",
         "False"
        ],
        [
         "21",
         "False",
         "False",
         "False",
         "False"
        ],
        [
         "22",
         "False",
         "False",
         "False",
         "False"
        ],
        [
         "23",
         "False",
         "False",
         "False",
         "False"
        ],
        [
         "24",
         "False",
         "False",
         "False",
         "False"
        ],
        [
         "25",
         "False",
         "False",
         "False",
         "False"
        ],
        [
         "26",
         "False",
         "False",
         "False",
         "False"
        ],
        [
         "27",
         "False",
         "False",
         "False",
         "False"
        ],
        [
         "28",
         "False",
         "False",
         "False",
         "False"
        ],
        [
         "29",
         "False",
         "False",
         "False",
         "False"
        ],
        [
         "30",
         "False",
         "False",
         "False",
         "False"
        ],
        [
         "31",
         "False",
         "False",
         "False",
         "False"
        ],
        [
         "32",
         "False",
         "False",
         "False",
         "False"
        ],
        [
         "33",
         "False",
         "False",
         "False",
         "False"
        ],
        [
         "34",
         "False",
         "False",
         "False",
         "False"
        ],
        [
         "35",
         "False",
         "False",
         "False",
         "False"
        ],
        [
         "36",
         "False",
         "False",
         "False",
         "False"
        ],
        [
         "37",
         "False",
         "False",
         "False",
         "False"
        ],
        [
         "38",
         "False",
         "False",
         "False",
         "False"
        ],
        [
         "39",
         "False",
         "False",
         "False",
         "False"
        ],
        [
         "40",
         "False",
         "False",
         "False",
         "False"
        ],
        [
         "41",
         "False",
         "False",
         "False",
         "False"
        ],
        [
         "42",
         "False",
         "False",
         "False",
         "False"
        ],
        [
         "43",
         "False",
         "False",
         "False",
         "False"
        ],
        [
         "44",
         "False",
         "False",
         "False",
         "False"
        ],
        [
         "45",
         "False",
         "False",
         "False",
         "False"
        ],
        [
         "46",
         "False",
         "False",
         "False",
         "False"
        ],
        [
         "47",
         "False",
         "False",
         "False",
         "False"
        ],
        [
         "48",
         "False",
         "False",
         "False",
         "False"
        ],
        [
         "49",
         "False",
         "False",
         "False",
         "False"
        ]
       ],
       "shape": {
        "columns": 4,
        "rows": 86
       }
      },
      "text/html": [
       "<div>\n",
       "<style scoped>\n",
       "    .dataframe tbody tr th:only-of-type {\n",
       "        vertical-align: middle;\n",
       "    }\n",
       "\n",
       "    .dataframe tbody tr th {\n",
       "        vertical-align: top;\n",
       "    }\n",
       "\n",
       "    .dataframe thead th {\n",
       "        text-align: right;\n",
       "    }\n",
       "</style>\n",
       "<table border=\"1\" class=\"dataframe\">\n",
       "  <thead>\n",
       "    <tr style=\"text-align: right;\">\n",
       "      <th></th>\n",
       "      <th>Student</th>\n",
       "      <th>Class</th>\n",
       "      <th>Year</th>\n",
       "      <th>Grade</th>\n",
       "    </tr>\n",
       "  </thead>\n",
       "  <tbody>\n",
       "    <tr>\n",
       "      <th>0</th>\n",
       "      <td>False</td>\n",
       "      <td>False</td>\n",
       "      <td>False</td>\n",
       "      <td>False</td>\n",
       "    </tr>\n",
       "    <tr>\n",
       "      <th>1</th>\n",
       "      <td>False</td>\n",
       "      <td>False</td>\n",
       "      <td>False</td>\n",
       "      <td>False</td>\n",
       "    </tr>\n",
       "    <tr>\n",
       "      <th>2</th>\n",
       "      <td>False</td>\n",
       "      <td>False</td>\n",
       "      <td>False</td>\n",
       "      <td>False</td>\n",
       "    </tr>\n",
       "    <tr>\n",
       "      <th>3</th>\n",
       "      <td>False</td>\n",
       "      <td>False</td>\n",
       "      <td>False</td>\n",
       "      <td>False</td>\n",
       "    </tr>\n",
       "    <tr>\n",
       "      <th>4</th>\n",
       "      <td>False</td>\n",
       "      <td>False</td>\n",
       "      <td>False</td>\n",
       "      <td>False</td>\n",
       "    </tr>\n",
       "    <tr>\n",
       "      <th>...</th>\n",
       "      <td>...</td>\n",
       "      <td>...</td>\n",
       "      <td>...</td>\n",
       "      <td>...</td>\n",
       "    </tr>\n",
       "    <tr>\n",
       "      <th>81</th>\n",
       "      <td>True</td>\n",
       "      <td>True</td>\n",
       "      <td>True</td>\n",
       "      <td>True</td>\n",
       "    </tr>\n",
       "    <tr>\n",
       "      <th>82</th>\n",
       "      <td>False</td>\n",
       "      <td>True</td>\n",
       "      <td>True</td>\n",
       "      <td>True</td>\n",
       "    </tr>\n",
       "    <tr>\n",
       "      <th>83</th>\n",
       "      <td>True</td>\n",
       "      <td>False</td>\n",
       "      <td>False</td>\n",
       "      <td>False</td>\n",
       "    </tr>\n",
       "    <tr>\n",
       "      <th>84</th>\n",
       "      <td>False</td>\n",
       "      <td>False</td>\n",
       "      <td>False</td>\n",
       "      <td>True</td>\n",
       "    </tr>\n",
       "    <tr>\n",
       "      <th>85</th>\n",
       "      <td>False</td>\n",
       "      <td>True</td>\n",
       "      <td>True</td>\n",
       "      <td>False</td>\n",
       "    </tr>\n",
       "  </tbody>\n",
       "</table>\n",
       "<p>86 rows × 4 columns</p>\n",
       "</div>"
      ],
      "text/plain": [
       "    Student  Class   Year  Grade\n",
       "0     False  False  False  False\n",
       "1     False  False  False  False\n",
       "2     False  False  False  False\n",
       "3     False  False  False  False\n",
       "4     False  False  False  False\n",
       "..      ...    ...    ...    ...\n",
       "81     True   True   True   True\n",
       "82    False   True   True   True\n",
       "83     True  False  False  False\n",
       "84    False  False  False   True\n",
       "85    False   True   True  False\n",
       "\n",
       "[86 rows x 4 columns]"
      ]
     },
     "execution_count": 104,
     "metadata": {},
     "output_type": "execute_result"
    }
   ],
   "source": [
    "# Check for missing values in the entire DataFrame\n",
    "df.isna()"
   ]
  },
  {
   "cell_type": "code",
   "execution_count": null,
   "id": "11ef4909",
   "metadata": {},
   "outputs": [
    {
     "data": {
      "text/plain": [
       "Student    2\n",
       "Class      3\n",
       "Year       6\n",
       "Grade      4\n",
       "dtype: int64"
      ]
     },
     "execution_count": 50,
     "metadata": {},
     "output_type": "execute_result"
    }
   ],
   "source": [
    "# Check for missing values in each column\n",
    "df.isna().sum()"
   ]
  },
  {
   "cell_type": "code",
   "execution_count": null,
   "id": "c2b58191",
   "metadata": {},
   "outputs": [
    {
     "data": {
      "text/plain": [
       "0     False\n",
       "1     False\n",
       "2     False\n",
       "3     False\n",
       "4     False\n",
       "      ...  \n",
       "81     True\n",
       "82     True\n",
       "83     True\n",
       "84     True\n",
       "85     True\n",
       "Length: 86, dtype: bool"
      ]
     },
     "execution_count": 51,
     "metadata": {},
     "output_type": "execute_result"
    }
   ],
   "source": [
    "# Check for missing values in each row\n",
    "df.isna().any(axis=1)"
   ]
  },
  {
   "cell_type": "code",
   "execution_count": 52,
   "id": "e8f178b6",
   "metadata": {},
   "outputs": [
    {
     "data": {
      "application/vnd.microsoft.datawrangler.viewer.v0+json": {
       "columns": [
        {
         "name": "index",
         "rawType": "int64",
         "type": "integer"
        },
        {
         "name": "Student",
         "rawType": "object",
         "type": "unknown"
        },
        {
         "name": "Class",
         "rawType": "object",
         "type": "unknown"
        },
        {
         "name": "Year",
         "rawType": "object",
         "type": "unknown"
        },
        {
         "name": "Grade",
         "rawType": "float64",
         "type": "float"
        }
       ],
       "conversionMethod": "pd.DataFrame",
       "ref": "110a66f5-3643-499d-a64a-f837cc7b92eb",
       "rows": [
        [
         "7",
         "Jacob",
         "Freshman Seminar",
         null,
         "88.0"
        ],
        [
         "8",
         "William",
         "Freshman Seminar",
         null,
         "89.0"
        ],
        [
         "9",
         "Ethan",
         "Freshman Seminar",
         null,
         "86.0"
        ],
        [
         "62",
         "Landon",
         "Exploratory Data Analysis",
         "Junior",
         null
        ],
        [
         "81",
         null,
         null,
         null,
         null
        ],
        [
         "82",
         "Bennett",
         null,
         null,
         null
        ],
        [
         "83",
         null,
         "EDA",
         "Junior",
         "84.0"
        ],
        [
         "84",
         "Gavin",
         "EDA",
         "Senior",
         null
        ],
        [
         "85",
         "Calvin",
         null,
         null,
         "100.0"
        ]
       ],
       "shape": {
        "columns": 4,
        "rows": 9
       }
      },
      "text/html": [
       "<div>\n",
       "<style scoped>\n",
       "    .dataframe tbody tr th:only-of-type {\n",
       "        vertical-align: middle;\n",
       "    }\n",
       "\n",
       "    .dataframe tbody tr th {\n",
       "        vertical-align: top;\n",
       "    }\n",
       "\n",
       "    .dataframe thead th {\n",
       "        text-align: right;\n",
       "    }\n",
       "</style>\n",
       "<table border=\"1\" class=\"dataframe\">\n",
       "  <thead>\n",
       "    <tr style=\"text-align: right;\">\n",
       "      <th></th>\n",
       "      <th>Student</th>\n",
       "      <th>Class</th>\n",
       "      <th>Year</th>\n",
       "      <th>Grade</th>\n",
       "    </tr>\n",
       "  </thead>\n",
       "  <tbody>\n",
       "    <tr>\n",
       "      <th>7</th>\n",
       "      <td>Jacob</td>\n",
       "      <td>Freshman Seminar</td>\n",
       "      <td>NaN</td>\n",
       "      <td>88.0</td>\n",
       "    </tr>\n",
       "    <tr>\n",
       "      <th>8</th>\n",
       "      <td>William</td>\n",
       "      <td>Freshman Seminar</td>\n",
       "      <td>NaN</td>\n",
       "      <td>89.0</td>\n",
       "    </tr>\n",
       "    <tr>\n",
       "      <th>9</th>\n",
       "      <td>Ethan</td>\n",
       "      <td>Freshman Seminar</td>\n",
       "      <td>NaN</td>\n",
       "      <td>86.0</td>\n",
       "    </tr>\n",
       "    <tr>\n",
       "      <th>62</th>\n",
       "      <td>Landon</td>\n",
       "      <td>Exploratory Data Analysis</td>\n",
       "      <td>Junior</td>\n",
       "      <td>NaN</td>\n",
       "    </tr>\n",
       "    <tr>\n",
       "      <th>81</th>\n",
       "      <td>NaN</td>\n",
       "      <td>NaN</td>\n",
       "      <td>NaN</td>\n",
       "      <td>NaN</td>\n",
       "    </tr>\n",
       "    <tr>\n",
       "      <th>82</th>\n",
       "      <td>Bennett</td>\n",
       "      <td>NaN</td>\n",
       "      <td>NaN</td>\n",
       "      <td>NaN</td>\n",
       "    </tr>\n",
       "    <tr>\n",
       "      <th>83</th>\n",
       "      <td>NaN</td>\n",
       "      <td>EDA</td>\n",
       "      <td>Junior</td>\n",
       "      <td>84.0</td>\n",
       "    </tr>\n",
       "    <tr>\n",
       "      <th>84</th>\n",
       "      <td>Gavin</td>\n",
       "      <td>EDA</td>\n",
       "      <td>Senior</td>\n",
       "      <td>NaN</td>\n",
       "    </tr>\n",
       "    <tr>\n",
       "      <th>85</th>\n",
       "      <td>Calvin</td>\n",
       "      <td>NaN</td>\n",
       "      <td>NaN</td>\n",
       "      <td>100.0</td>\n",
       "    </tr>\n",
       "  </tbody>\n",
       "</table>\n",
       "</div>"
      ],
      "text/plain": [
       "    Student                      Class    Year  Grade\n",
       "7     Jacob           Freshman Seminar     NaN   88.0\n",
       "8   William           Freshman Seminar     NaN   89.0\n",
       "9     Ethan           Freshman Seminar     NaN   86.0\n",
       "62   Landon  Exploratory Data Analysis  Junior    NaN\n",
       "81      NaN                        NaN     NaN    NaN\n",
       "82  Bennett                        NaN     NaN    NaN\n",
       "83      NaN                        EDA  Junior   84.0\n",
       "84    Gavin                        EDA  Senior    NaN\n",
       "85   Calvin                        NaN     NaN  100.0"
      ]
     },
     "execution_count": 52,
     "metadata": {},
     "output_type": "execute_result"
    }
   ],
   "source": [
    "# Check for rows with missing values\n",
    "df[df.isna().any(axis=1)]   "
   ]
  },
  {
   "cell_type": "code",
   "execution_count": 54,
   "id": "01d3bf46",
   "metadata": {},
   "outputs": [
    {
     "data": {
      "text/plain": [
       "0     False\n",
       "1     False\n",
       "2     False\n",
       "3     False\n",
       "4     False\n",
       "      ...  \n",
       "81     True\n",
       "82     True\n",
       "83    False\n",
       "84    False\n",
       "85     True\n",
       "Name: Year, Length: 86, dtype: bool"
      ]
     },
     "execution_count": 54,
     "metadata": {},
     "output_type": "execute_result"
    }
   ],
   "source": [
    "df[\"Year\"].isna()"
   ]
  },
  {
   "cell_type": "code",
   "execution_count": 55,
   "id": "c947ac85",
   "metadata": {},
   "outputs": [
    {
     "data": {
      "text/plain": [
       "80"
      ]
     },
     "execution_count": 55,
     "metadata": {},
     "output_type": "execute_result"
    }
   ],
   "source": [
    "df[\"Year\"].count()"
   ]
  },
  {
   "cell_type": "code",
   "execution_count": 56,
   "id": "a7d92c1b",
   "metadata": {},
   "outputs": [
    {
     "data": {
      "application/vnd.microsoft.datawrangler.viewer.v0+json": {
       "columns": [
        {
         "name": "index",
         "rawType": "int64",
         "type": "integer"
        },
        {
         "name": "Student",
         "rawType": "object",
         "type": "string"
        },
        {
         "name": "Class",
         "rawType": "object",
         "type": "string"
        },
        {
         "name": "Year",
         "rawType": "object",
         "type": "string"
        },
        {
         "name": "Grade",
         "rawType": "float64",
         "type": "float"
        }
       ],
       "conversionMethod": "pd.DataFrame",
       "ref": "ec7f96b9-a492-47e7-ad97-5dbd01c2f1a4",
       "rows": [
        [
         "0",
         "Emma",
         "Freshman Seminar",
         "Freshman",
         "86.0"
        ],
        [
         "1",
         "Olivia",
         "Freshman Seminar",
         "Freshman",
         "86.0"
        ],
        [
         "2",
         "Noah",
         "Freshman Seminar",
         "Freshman",
         "86.0"
        ],
        [
         "3",
         "Sophia",
         "Freshman Seminar",
         "Freshman",
         "87.0"
        ],
        [
         "4",
         "Liam",
         "Freshman Seminar",
         "Freshman",
         "90.0"
        ],
        [
         "5",
         "Mason",
         "Freshman Seminar",
         "Freshman",
         "90.0"
        ],
        [
         "6",
         "Isabella",
         "Freshman Seminar",
         "Freshman",
         "90.0"
        ],
        [
         "10",
         "Ava",
         "Freshman Seminar",
         "Freshman",
         "88.0"
        ],
        [
         "11",
         "Michael",
         "Freshman Seminar",
         "Freshman",
         "88.0"
        ],
        [
         "12",
         "Alexander",
         "Intro to Python",
         "Freshman",
         "85.0"
        ],
        [
         "13",
         "Logan",
         "Intro to Python",
         "Freshman",
         "85.0"
        ],
        [
         "14",
         "James",
         "Intro to Python",
         "Freshman",
         "82.0"
        ],
        [
         "15",
         "Daniel",
         "Intro to Python",
         "Freshman",
         "85.0"
        ],
        [
         "16",
         "Elijah",
         "Intro to Python",
         "Freshman",
         "85.0"
        ],
        [
         "17",
         "Benjamin",
         "Intro to Python",
         "Freshman",
         "81.0"
        ],
        [
         "18",
         "Mia",
         "Intro to Python",
         "Freshman",
         "80.0"
        ],
        [
         "19",
         "Mia",
         "Python",
         "Freshman",
         "80.0"
        ],
        [
         "20",
         "Jayden",
         "Intro to Python",
         "Freshman",
         "82.0"
        ],
        [
         "21",
         "Aiden",
         "Intro to Python",
         "Freshman",
         "86.0"
        ],
        [
         "22",
         "Matthew",
         "Intro to Python",
         "Freshman",
         "87.0"
        ],
        [
         "23",
         "Emily",
         "Intro to Python",
         "Freshman",
         "78.0"
        ],
        [
         "24",
         "Jackson",
         "Intro to Python",
         "Freshman",
         "88.0"
        ],
        [
         "25",
         "Lucas",
         "Intro to Python",
         "Freshman",
         "77.0"
        ],
        [
         "26",
         "David",
         "Intro to Python",
         "Freshman",
         "74.0"
        ],
        [
         "27",
         "Joseph",
         "Intro to Python",
         "Freshman",
         "93.0"
        ],
        [
         "28",
         "Abigail",
         "Intro to Python",
         "Freshman",
         "89.0"
        ],
        [
         "29",
         "Avery",
         "Intro to Python",
         "Freshman",
         "79.0"
        ],
        [
         "30",
         "Anthony",
         "Intro to Python",
         "Freshman",
         "84.0"
        ],
        [
         "31",
         "Dylan",
         "Intro to Python",
         "Freshman",
         "84.0"
        ],
        [
         "32",
         "Andrew",
         "Intro to Python",
         "Freshman",
         "94.0"
        ],
        [
         "33",
         "Carter",
         "Intro to Python",
         "Freshman",
         "95.0"
        ],
        [
         "34",
         "Samuel",
         "Intro to Python",
         "Freshman",
         "83.0"
        ],
        [
         "35",
         "Gabriel",
         "Intro to Python",
         "Freshman",
         "82.0"
        ],
        [
         "36",
         "Joshua",
         "Intro to Python",
         "Freshman",
         "71.0"
        ],
        [
         "37",
         "John",
         "Intro to Python",
         "Freshman",
         "50.0"
        ],
        [
         "38",
         "Luke",
         "Intro to SQL",
         "Sophomore",
         "76.0"
        ],
        [
         "39",
         "Christopher",
         "Intro to SQL",
         "Sophomore",
         "84.0"
        ],
        [
         "40",
         "Madison",
         "Intro to SQL",
         "Sophomore",
         "71.0"
        ],
        [
         "41",
         "Charlotte",
         "Intro to SQL",
         "Sophomore",
         "92.0"
        ],
        [
         "42",
         "Isaac",
         "Intro to SQL",
         "Sophomore",
         "96.0"
        ],
        [
         "43",
         "Isaac",
         "Intro to SQL",
         "Sophomore",
         "96.0"
        ],
        [
         "44",
         "Isaac",
         "Intro to SQL",
         "Sophomore",
         "96.0"
        ],
        [
         "45",
         "Harper",
         "Intro to SQL",
         "Sophomore",
         "93.0"
        ],
        [
         "46",
         "Ryan",
         "Intro to SQL",
         "Sophomore",
         "76.0"
        ],
        [
         "47",
         "Sofia",
         "Intro to SQL",
         "Sophomore",
         "79.0"
        ],
        [
         "48",
         "Elizabeth",
         "Intro to SQL",
         "Sophomore",
         "80.0"
        ],
        [
         "49",
         "Oliver",
         "Intro to SQL",
         "Sophomore",
         "81.0"
        ],
        [
         "50",
         "Henry",
         "Intro to SQL",
         "Sophomore",
         "85.0"
        ],
        [
         "51",
         "Sebastian",
         "Intro to SQL",
         "Sophomore",
         "80.0"
        ],
        [
         "52",
         "Caleb",
         "Intro to SQL",
         "Sophomore",
         "98.0"
        ]
       ],
       "shape": {
        "columns": 4,
        "rows": 77
       }
      },
      "text/html": [
       "<div>\n",
       "<style scoped>\n",
       "    .dataframe tbody tr th:only-of-type {\n",
       "        vertical-align: middle;\n",
       "    }\n",
       "\n",
       "    .dataframe tbody tr th {\n",
       "        vertical-align: top;\n",
       "    }\n",
       "\n",
       "    .dataframe thead th {\n",
       "        text-align: right;\n",
       "    }\n",
       "</style>\n",
       "<table border=\"1\" class=\"dataframe\">\n",
       "  <thead>\n",
       "    <tr style=\"text-align: right;\">\n",
       "      <th></th>\n",
       "      <th>Student</th>\n",
       "      <th>Class</th>\n",
       "      <th>Year</th>\n",
       "      <th>Grade</th>\n",
       "    </tr>\n",
       "  </thead>\n",
       "  <tbody>\n",
       "    <tr>\n",
       "      <th>0</th>\n",
       "      <td>Emma</td>\n",
       "      <td>Freshman Seminar</td>\n",
       "      <td>Freshman</td>\n",
       "      <td>86.0</td>\n",
       "    </tr>\n",
       "    <tr>\n",
       "      <th>1</th>\n",
       "      <td>Olivia</td>\n",
       "      <td>Freshman Seminar</td>\n",
       "      <td>Freshman</td>\n",
       "      <td>86.0</td>\n",
       "    </tr>\n",
       "    <tr>\n",
       "      <th>2</th>\n",
       "      <td>Noah</td>\n",
       "      <td>Freshman Seminar</td>\n",
       "      <td>Freshman</td>\n",
       "      <td>86.0</td>\n",
       "    </tr>\n",
       "    <tr>\n",
       "      <th>3</th>\n",
       "      <td>Sophia</td>\n",
       "      <td>Freshman Seminar</td>\n",
       "      <td>Freshman</td>\n",
       "      <td>87.0</td>\n",
       "    </tr>\n",
       "    <tr>\n",
       "      <th>4</th>\n",
       "      <td>Liam</td>\n",
       "      <td>Freshman Seminar</td>\n",
       "      <td>Freshman</td>\n",
       "      <td>90.0</td>\n",
       "    </tr>\n",
       "    <tr>\n",
       "      <th>...</th>\n",
       "      <td>...</td>\n",
       "      <td>...</td>\n",
       "      <td>...</td>\n",
       "      <td>...</td>\n",
       "    </tr>\n",
       "    <tr>\n",
       "      <th>76</th>\n",
       "      <td>Zoey</td>\n",
       "      <td>EDA</td>\n",
       "      <td>Junior</td>\n",
       "      <td>91.0</td>\n",
       "    </tr>\n",
       "    <tr>\n",
       "      <th>77</th>\n",
       "      <td>Aaron</td>\n",
       "      <td>EDA</td>\n",
       "      <td>Junior</td>\n",
       "      <td>85.0</td>\n",
       "    </tr>\n",
       "    <tr>\n",
       "      <th>78</th>\n",
       "      <td>Charles</td>\n",
       "      <td>EDA</td>\n",
       "      <td>Junior</td>\n",
       "      <td>93.0</td>\n",
       "    </tr>\n",
       "    <tr>\n",
       "      <th>79</th>\n",
       "      <td>Connor</td>\n",
       "      <td>EDA</td>\n",
       "      <td>Junior</td>\n",
       "      <td>91.0</td>\n",
       "    </tr>\n",
       "    <tr>\n",
       "      <th>80</th>\n",
       "      <td>Riley</td>\n",
       "      <td>EDA</td>\n",
       "      <td>Junior</td>\n",
       "      <td>87.0</td>\n",
       "    </tr>\n",
       "  </tbody>\n",
       "</table>\n",
       "<p>77 rows × 4 columns</p>\n",
       "</div>"
      ],
      "text/plain": [
       "    Student             Class      Year  Grade\n",
       "0      Emma  Freshman Seminar  Freshman   86.0\n",
       "1    Olivia  Freshman Seminar  Freshman   86.0\n",
       "2      Noah  Freshman Seminar  Freshman   86.0\n",
       "3    Sophia  Freshman Seminar  Freshman   87.0\n",
       "4      Liam  Freshman Seminar  Freshman   90.0\n",
       "..      ...               ...       ...    ...\n",
       "76     Zoey               EDA    Junior   91.0\n",
       "77    Aaron               EDA    Junior   85.0\n",
       "78  Charles               EDA    Junior   93.0\n",
       "79   Connor               EDA    Junior   91.0\n",
       "80    Riley               EDA    Junior   87.0\n",
       "\n",
       "[77 rows x 4 columns]"
      ]
     },
     "execution_count": 56,
     "metadata": {},
     "output_type": "execute_result"
    }
   ],
   "source": [
    "df.dropna()"
   ]
  },
  {
   "cell_type": "code",
   "execution_count": 59,
   "id": "89298da8",
   "metadata": {},
   "outputs": [
    {
     "data": {
      "application/vnd.microsoft.datawrangler.viewer.v0+json": {
       "columns": [
        {
         "name": "index",
         "rawType": "int64",
         "type": "integer"
        },
        {
         "name": "Student",
         "rawType": "object",
         "type": "unknown"
        },
        {
         "name": "Class",
         "rawType": "object",
         "type": "unknown"
        },
        {
         "name": "Year",
         "rawType": "object",
         "type": "unknown"
        },
        {
         "name": "Grade",
         "rawType": "float64",
         "type": "float"
        }
       ],
       "conversionMethod": "pd.DataFrame",
       "ref": "6b22659d-bc2c-4483-9174-00110eb9e5b7",
       "rows": [
        [
         "0",
         "Emma",
         "Freshman Seminar",
         "Freshman",
         "86.0"
        ],
        [
         "1",
         "Olivia",
         "Freshman Seminar",
         "Freshman",
         "86.0"
        ],
        [
         "2",
         "Noah",
         "Freshman Seminar",
         "Freshman",
         "86.0"
        ],
        [
         "3",
         "Sophia",
         "Freshman Seminar",
         "Freshman",
         "87.0"
        ],
        [
         "4",
         "Liam",
         "Freshman Seminar",
         "Freshman",
         "90.0"
        ],
        [
         "5",
         "Mason",
         "Freshman Seminar",
         "Freshman",
         "90.0"
        ],
        [
         "6",
         "Isabella",
         "Freshman Seminar",
         "Freshman",
         "90.0"
        ],
        [
         "7",
         "Jacob",
         "Freshman Seminar",
         null,
         "88.0"
        ],
        [
         "8",
         "William",
         "Freshman Seminar",
         null,
         "89.0"
        ],
        [
         "9",
         "Ethan",
         "Freshman Seminar",
         null,
         "86.0"
        ],
        [
         "10",
         "Ava",
         "Freshman Seminar",
         "Freshman",
         "88.0"
        ],
        [
         "11",
         "Michael",
         "Freshman Seminar",
         "Freshman",
         "88.0"
        ],
        [
         "12",
         "Alexander",
         "Intro to Python",
         "Freshman",
         "85.0"
        ],
        [
         "13",
         "Logan",
         "Intro to Python",
         "Freshman",
         "85.0"
        ],
        [
         "14",
         "James",
         "Intro to Python",
         "Freshman",
         "82.0"
        ],
        [
         "15",
         "Daniel",
         "Intro to Python",
         "Freshman",
         "85.0"
        ],
        [
         "16",
         "Elijah",
         "Intro to Python",
         "Freshman",
         "85.0"
        ],
        [
         "17",
         "Benjamin",
         "Intro to Python",
         "Freshman",
         "81.0"
        ],
        [
         "18",
         "Mia",
         "Intro to Python",
         "Freshman",
         "80.0"
        ],
        [
         "19",
         "Mia",
         "Python",
         "Freshman",
         "80.0"
        ],
        [
         "20",
         "Jayden",
         "Intro to Python",
         "Freshman",
         "82.0"
        ],
        [
         "21",
         "Aiden",
         "Intro to Python",
         "Freshman",
         "86.0"
        ],
        [
         "22",
         "Matthew",
         "Intro to Python",
         "Freshman",
         "87.0"
        ],
        [
         "23",
         "Emily",
         "Intro to Python",
         "Freshman",
         "78.0"
        ],
        [
         "24",
         "Jackson",
         "Intro to Python",
         "Freshman",
         "88.0"
        ],
        [
         "25",
         "Lucas",
         "Intro to Python",
         "Freshman",
         "77.0"
        ],
        [
         "26",
         "David",
         "Intro to Python",
         "Freshman",
         "74.0"
        ],
        [
         "27",
         "Joseph",
         "Intro to Python",
         "Freshman",
         "93.0"
        ],
        [
         "28",
         "Abigail",
         "Intro to Python",
         "Freshman",
         "89.0"
        ],
        [
         "29",
         "Avery",
         "Intro to Python",
         "Freshman",
         "79.0"
        ],
        [
         "30",
         "Anthony",
         "Intro to Python",
         "Freshman",
         "84.0"
        ],
        [
         "31",
         "Dylan",
         "Intro to Python",
         "Freshman",
         "84.0"
        ],
        [
         "32",
         "Andrew",
         "Intro to Python",
         "Freshman",
         "94.0"
        ],
        [
         "33",
         "Carter",
         "Intro to Python",
         "Freshman",
         "95.0"
        ],
        [
         "34",
         "Samuel",
         "Intro to Python",
         "Freshman",
         "83.0"
        ],
        [
         "35",
         "Gabriel",
         "Intro to Python",
         "Freshman",
         "82.0"
        ],
        [
         "36",
         "Joshua",
         "Intro to Python",
         "Freshman",
         "71.0"
        ],
        [
         "37",
         "John",
         "Intro to Python",
         "Freshman",
         "50.0"
        ],
        [
         "38",
         "Luke",
         "Intro to SQL",
         "Sophomore",
         "76.0"
        ],
        [
         "39",
         "Christopher",
         "Intro to SQL",
         "Sophomore",
         "84.0"
        ],
        [
         "40",
         "Madison",
         "Intro to SQL",
         "Sophomore",
         "71.0"
        ],
        [
         "41",
         "Charlotte",
         "Intro to SQL",
         "Sophomore",
         "92.0"
        ],
        [
         "42",
         "Isaac",
         "Intro to SQL",
         "Sophomore",
         "96.0"
        ],
        [
         "43",
         "Isaac",
         "Intro to SQL",
         "Sophomore",
         "96.0"
        ],
        [
         "44",
         "Isaac",
         "Intro to SQL",
         "Sophomore",
         "96.0"
        ],
        [
         "45",
         "Harper",
         "Intro to SQL",
         "Sophomore",
         "93.0"
        ],
        [
         "46",
         "Ryan",
         "Intro to SQL",
         "Sophomore",
         "76.0"
        ],
        [
         "47",
         "Sofia",
         "Intro to SQL",
         "Sophomore",
         "79.0"
        ],
        [
         "48",
         "Elizabeth",
         "Intro to SQL",
         "Sophomore",
         "80.0"
        ],
        [
         "49",
         "Oliver",
         "Intro to SQL",
         "Sophomore",
         "81.0"
        ]
       ],
       "shape": {
        "columns": 4,
        "rows": 85
       }
      },
      "text/html": [
       "<div>\n",
       "<style scoped>\n",
       "    .dataframe tbody tr th:only-of-type {\n",
       "        vertical-align: middle;\n",
       "    }\n",
       "\n",
       "    .dataframe tbody tr th {\n",
       "        vertical-align: top;\n",
       "    }\n",
       "\n",
       "    .dataframe thead th {\n",
       "        text-align: right;\n",
       "    }\n",
       "</style>\n",
       "<table border=\"1\" class=\"dataframe\">\n",
       "  <thead>\n",
       "    <tr style=\"text-align: right;\">\n",
       "      <th></th>\n",
       "      <th>Student</th>\n",
       "      <th>Class</th>\n",
       "      <th>Year</th>\n",
       "      <th>Grade</th>\n",
       "    </tr>\n",
       "  </thead>\n",
       "  <tbody>\n",
       "    <tr>\n",
       "      <th>0</th>\n",
       "      <td>Emma</td>\n",
       "      <td>Freshman Seminar</td>\n",
       "      <td>Freshman</td>\n",
       "      <td>86.0</td>\n",
       "    </tr>\n",
       "    <tr>\n",
       "      <th>1</th>\n",
       "      <td>Olivia</td>\n",
       "      <td>Freshman Seminar</td>\n",
       "      <td>Freshman</td>\n",
       "      <td>86.0</td>\n",
       "    </tr>\n",
       "    <tr>\n",
       "      <th>2</th>\n",
       "      <td>Noah</td>\n",
       "      <td>Freshman Seminar</td>\n",
       "      <td>Freshman</td>\n",
       "      <td>86.0</td>\n",
       "    </tr>\n",
       "    <tr>\n",
       "      <th>3</th>\n",
       "      <td>Sophia</td>\n",
       "      <td>Freshman Seminar</td>\n",
       "      <td>Freshman</td>\n",
       "      <td>87.0</td>\n",
       "    </tr>\n",
       "    <tr>\n",
       "      <th>4</th>\n",
       "      <td>Liam</td>\n",
       "      <td>Freshman Seminar</td>\n",
       "      <td>Freshman</td>\n",
       "      <td>90.0</td>\n",
       "    </tr>\n",
       "    <tr>\n",
       "      <th>...</th>\n",
       "      <td>...</td>\n",
       "      <td>...</td>\n",
       "      <td>...</td>\n",
       "      <td>...</td>\n",
       "    </tr>\n",
       "    <tr>\n",
       "      <th>80</th>\n",
       "      <td>Riley</td>\n",
       "      <td>EDA</td>\n",
       "      <td>Junior</td>\n",
       "      <td>87.0</td>\n",
       "    </tr>\n",
       "    <tr>\n",
       "      <th>82</th>\n",
       "      <td>Bennett</td>\n",
       "      <td>NaN</td>\n",
       "      <td>NaN</td>\n",
       "      <td>NaN</td>\n",
       "    </tr>\n",
       "    <tr>\n",
       "      <th>83</th>\n",
       "      <td>NaN</td>\n",
       "      <td>EDA</td>\n",
       "      <td>Junior</td>\n",
       "      <td>84.0</td>\n",
       "    </tr>\n",
       "    <tr>\n",
       "      <th>84</th>\n",
       "      <td>Gavin</td>\n",
       "      <td>EDA</td>\n",
       "      <td>Senior</td>\n",
       "      <td>NaN</td>\n",
       "    </tr>\n",
       "    <tr>\n",
       "      <th>85</th>\n",
       "      <td>Calvin</td>\n",
       "      <td>NaN</td>\n",
       "      <td>NaN</td>\n",
       "      <td>100.0</td>\n",
       "    </tr>\n",
       "  </tbody>\n",
       "</table>\n",
       "<p>85 rows × 4 columns</p>\n",
       "</div>"
      ],
      "text/plain": [
       "    Student             Class      Year  Grade\n",
       "0      Emma  Freshman Seminar  Freshman   86.0\n",
       "1    Olivia  Freshman Seminar  Freshman   86.0\n",
       "2      Noah  Freshman Seminar  Freshman   86.0\n",
       "3    Sophia  Freshman Seminar  Freshman   87.0\n",
       "4      Liam  Freshman Seminar  Freshman   90.0\n",
       "..      ...               ...       ...    ...\n",
       "80    Riley               EDA    Junior   87.0\n",
       "82  Bennett               NaN       NaN    NaN\n",
       "83      NaN               EDA    Junior   84.0\n",
       "84    Gavin               EDA    Senior    NaN\n",
       "85   Calvin               NaN       NaN  100.0\n",
       "\n",
       "[85 rows x 4 columns]"
      ]
     },
     "execution_count": 59,
     "metadata": {},
     "output_type": "execute_result"
    }
   ],
   "source": [
    "# Drop rows with any missing values\n",
    "df.dropna(axis=0, how='all')\n"
   ]
  },
  {
   "cell_type": "code",
   "execution_count": null,
   "id": "27726725",
   "metadata": {},
   "outputs": [
    {
     "data": {
      "application/vnd.microsoft.datawrangler.viewer.v0+json": {
       "columns": [
        {
         "name": "index",
         "rawType": "int64",
         "type": "integer"
        },
        {
         "name": "Student",
         "rawType": "object",
         "type": "unknown"
        },
        {
         "name": "Class",
         "rawType": "object",
         "type": "unknown"
        },
        {
         "name": "Year",
         "rawType": "object",
         "type": "unknown"
        },
        {
         "name": "Grade",
         "rawType": "float64",
         "type": "float"
        }
       ],
       "conversionMethod": "pd.DataFrame",
       "ref": "866c14a1-d60f-4d23-9c46-0b391c2bc726",
       "rows": [
        [
         "0",
         "Emma",
         "Freshman Seminar",
         "Freshman",
         "86.0"
        ],
        [
         "1",
         "Olivia",
         "Freshman Seminar",
         "Freshman",
         "86.0"
        ],
        [
         "2",
         "Noah",
         "Freshman Seminar",
         "Freshman",
         "86.0"
        ],
        [
         "3",
         "Sophia",
         "Freshman Seminar",
         "Freshman",
         "87.0"
        ],
        [
         "4",
         "Liam",
         "Freshman Seminar",
         "Freshman",
         "90.0"
        ],
        [
         "5",
         "Mason",
         "Freshman Seminar",
         "Freshman",
         "90.0"
        ],
        [
         "6",
         "Isabella",
         "Freshman Seminar",
         "Freshman",
         "90.0"
        ],
        [
         "7",
         "Jacob",
         "Freshman Seminar",
         null,
         "88.0"
        ],
        [
         "8",
         "William",
         "Freshman Seminar",
         null,
         "89.0"
        ],
        [
         "9",
         "Ethan",
         "Freshman Seminar",
         null,
         "86.0"
        ],
        [
         "10",
         "Ava",
         "Freshman Seminar",
         "Freshman",
         "88.0"
        ],
        [
         "11",
         "Michael",
         "Freshman Seminar",
         "Freshman",
         "88.0"
        ],
        [
         "12",
         "Alexander",
         "Intro to Python",
         "Freshman",
         "85.0"
        ],
        [
         "13",
         "Logan",
         "Intro to Python",
         "Freshman",
         "85.0"
        ],
        [
         "14",
         "James",
         "Intro to Python",
         "Freshman",
         "82.0"
        ],
        [
         "15",
         "Daniel",
         "Intro to Python",
         "Freshman",
         "85.0"
        ],
        [
         "16",
         "Elijah",
         "Intro to Python",
         "Freshman",
         "85.0"
        ],
        [
         "17",
         "Benjamin",
         "Intro to Python",
         "Freshman",
         "81.0"
        ],
        [
         "18",
         "Mia",
         "Intro to Python",
         "Freshman",
         "80.0"
        ],
        [
         "19",
         "Mia",
         "Python",
         "Freshman",
         "80.0"
        ],
        [
         "20",
         "Jayden",
         "Intro to Python",
         "Freshman",
         "82.0"
        ],
        [
         "21",
         "Aiden",
         "Intro to Python",
         "Freshman",
         "86.0"
        ],
        [
         "22",
         "Matthew",
         "Intro to Python",
         "Freshman",
         "87.0"
        ],
        [
         "23",
         "Emily",
         "Intro to Python",
         "Freshman",
         "78.0"
        ],
        [
         "24",
         "Jackson",
         "Intro to Python",
         "Freshman",
         "88.0"
        ],
        [
         "25",
         "Lucas",
         "Intro to Python",
         "Freshman",
         "77.0"
        ],
        [
         "26",
         "David",
         "Intro to Python",
         "Freshman",
         "74.0"
        ],
        [
         "27",
         "Joseph",
         "Intro to Python",
         "Freshman",
         "93.0"
        ],
        [
         "28",
         "Abigail",
         "Intro to Python",
         "Freshman",
         "89.0"
        ],
        [
         "29",
         "Avery",
         "Intro to Python",
         "Freshman",
         "79.0"
        ],
        [
         "30",
         "Anthony",
         "Intro to Python",
         "Freshman",
         "84.0"
        ],
        [
         "31",
         "Dylan",
         "Intro to Python",
         "Freshman",
         "84.0"
        ],
        [
         "32",
         "Andrew",
         "Intro to Python",
         "Freshman",
         "94.0"
        ],
        [
         "33",
         "Carter",
         "Intro to Python",
         "Freshman",
         "95.0"
        ],
        [
         "34",
         "Samuel",
         "Intro to Python",
         "Freshman",
         "83.0"
        ],
        [
         "35",
         "Gabriel",
         "Intro to Python",
         "Freshman",
         "82.0"
        ],
        [
         "36",
         "Joshua",
         "Intro to Python",
         "Freshman",
         "71.0"
        ],
        [
         "37",
         "John",
         "Intro to Python",
         "Freshman",
         "50.0"
        ],
        [
         "38",
         "Luke",
         "Intro to SQL",
         "Sophomore",
         "76.0"
        ],
        [
         "39",
         "Christopher",
         "Intro to SQL",
         "Sophomore",
         "84.0"
        ],
        [
         "40",
         "Madison",
         "Intro to SQL",
         "Sophomore",
         "71.0"
        ],
        [
         "41",
         "Charlotte",
         "Intro to SQL",
         "Sophomore",
         "92.0"
        ],
        [
         "42",
         "Isaac",
         "Intro to SQL",
         "Sophomore",
         "96.0"
        ],
        [
         "43",
         "Isaac",
         "Intro to SQL",
         "Sophomore",
         "96.0"
        ],
        [
         "44",
         "Isaac",
         "Intro to SQL",
         "Sophomore",
         "96.0"
        ],
        [
         "45",
         "Harper",
         "Intro to SQL",
         "Sophomore",
         "93.0"
        ],
        [
         "46",
         "Ryan",
         "Intro to SQL",
         "Sophomore",
         "76.0"
        ],
        [
         "47",
         "Sofia",
         "Intro to SQL",
         "Sophomore",
         "79.0"
        ],
        [
         "48",
         "Elizabeth",
         "Intro to SQL",
         "Sophomore",
         "80.0"
        ],
        [
         "49",
         "Oliver",
         "Intro to SQL",
         "Sophomore",
         "81.0"
        ]
       ],
       "shape": {
        "columns": 4,
        "rows": 84
       }
      },
      "text/html": [
       "<div>\n",
       "<style scoped>\n",
       "    .dataframe tbody tr th:only-of-type {\n",
       "        vertical-align: middle;\n",
       "    }\n",
       "\n",
       "    .dataframe tbody tr th {\n",
       "        vertical-align: top;\n",
       "    }\n",
       "\n",
       "    .dataframe thead th {\n",
       "        text-align: right;\n",
       "    }\n",
       "</style>\n",
       "<table border=\"1\" class=\"dataframe\">\n",
       "  <thead>\n",
       "    <tr style=\"text-align: right;\">\n",
       "      <th></th>\n",
       "      <th>Student</th>\n",
       "      <th>Class</th>\n",
       "      <th>Year</th>\n",
       "      <th>Grade</th>\n",
       "    </tr>\n",
       "  </thead>\n",
       "  <tbody>\n",
       "    <tr>\n",
       "      <th>0</th>\n",
       "      <td>Emma</td>\n",
       "      <td>Freshman Seminar</td>\n",
       "      <td>Freshman</td>\n",
       "      <td>86.0</td>\n",
       "    </tr>\n",
       "    <tr>\n",
       "      <th>1</th>\n",
       "      <td>Olivia</td>\n",
       "      <td>Freshman Seminar</td>\n",
       "      <td>Freshman</td>\n",
       "      <td>86.0</td>\n",
       "    </tr>\n",
       "    <tr>\n",
       "      <th>2</th>\n",
       "      <td>Noah</td>\n",
       "      <td>Freshman Seminar</td>\n",
       "      <td>Freshman</td>\n",
       "      <td>86.0</td>\n",
       "    </tr>\n",
       "    <tr>\n",
       "      <th>3</th>\n",
       "      <td>Sophia</td>\n",
       "      <td>Freshman Seminar</td>\n",
       "      <td>Freshman</td>\n",
       "      <td>87.0</td>\n",
       "    </tr>\n",
       "    <tr>\n",
       "      <th>4</th>\n",
       "      <td>Liam</td>\n",
       "      <td>Freshman Seminar</td>\n",
       "      <td>Freshman</td>\n",
       "      <td>90.0</td>\n",
       "    </tr>\n",
       "    <tr>\n",
       "      <th>...</th>\n",
       "      <td>...</td>\n",
       "      <td>...</td>\n",
       "      <td>...</td>\n",
       "      <td>...</td>\n",
       "    </tr>\n",
       "    <tr>\n",
       "      <th>79</th>\n",
       "      <td>Connor</td>\n",
       "      <td>EDA</td>\n",
       "      <td>Junior</td>\n",
       "      <td>91.0</td>\n",
       "    </tr>\n",
       "    <tr>\n",
       "      <th>80</th>\n",
       "      <td>Riley</td>\n",
       "      <td>EDA</td>\n",
       "      <td>Junior</td>\n",
       "      <td>87.0</td>\n",
       "    </tr>\n",
       "    <tr>\n",
       "      <th>83</th>\n",
       "      <td>NaN</td>\n",
       "      <td>EDA</td>\n",
       "      <td>Junior</td>\n",
       "      <td>84.0</td>\n",
       "    </tr>\n",
       "    <tr>\n",
       "      <th>84</th>\n",
       "      <td>Gavin</td>\n",
       "      <td>EDA</td>\n",
       "      <td>Senior</td>\n",
       "      <td>NaN</td>\n",
       "    </tr>\n",
       "    <tr>\n",
       "      <th>85</th>\n",
       "      <td>Calvin</td>\n",
       "      <td>NaN</td>\n",
       "      <td>NaN</td>\n",
       "      <td>100.0</td>\n",
       "    </tr>\n",
       "  </tbody>\n",
       "</table>\n",
       "<p>84 rows × 4 columns</p>\n",
       "</div>"
      ],
      "text/plain": [
       "   Student             Class      Year  Grade\n",
       "0     Emma  Freshman Seminar  Freshman   86.0\n",
       "1   Olivia  Freshman Seminar  Freshman   86.0\n",
       "2     Noah  Freshman Seminar  Freshman   86.0\n",
       "3   Sophia  Freshman Seminar  Freshman   87.0\n",
       "4     Liam  Freshman Seminar  Freshman   90.0\n",
       "..     ...               ...       ...    ...\n",
       "79  Connor               EDA    Junior   91.0\n",
       "80   Riley               EDA    Junior   87.0\n",
       "83     NaN               EDA    Junior   84.0\n",
       "84   Gavin               EDA    Senior    NaN\n",
       "85  Calvin               NaN       NaN  100.0\n",
       "\n",
       "[84 rows x 4 columns]"
      ]
     },
     "execution_count": 61,
     "metadata": {},
     "output_type": "execute_result"
    }
   ],
   "source": [
    "# \n",
    "df.dropna(thresh=2)"
   ]
  },
  {
   "cell_type": "code",
   "execution_count": null,
   "id": "243460c8",
   "metadata": {},
   "outputs": [
    {
     "data": {
      "application/vnd.microsoft.datawrangler.viewer.v0+json": {
       "columns": [
        {
         "name": "index",
         "rawType": "int64",
         "type": "integer"
        },
        {
         "name": "Student",
         "rawType": "object",
         "type": "unknown"
        },
        {
         "name": "Class",
         "rawType": "object",
         "type": "string"
        },
        {
         "name": "Year",
         "rawType": "object",
         "type": "unknown"
        },
        {
         "name": "Grade",
         "rawType": "float64",
         "type": "float"
        }
       ],
       "conversionMethod": "pd.DataFrame",
       "ref": "a49bfc7d-aef5-43a2-915f-8de59c2cdaf3",
       "rows": [
        [
         "0",
         "Emma",
         "Freshman Seminar",
         "Freshman",
         "86.0"
        ],
        [
         "1",
         "Olivia",
         "Freshman Seminar",
         "Freshman",
         "86.0"
        ],
        [
         "2",
         "Noah",
         "Freshman Seminar",
         "Freshman",
         "86.0"
        ],
        [
         "3",
         "Sophia",
         "Freshman Seminar",
         "Freshman",
         "87.0"
        ],
        [
         "4",
         "Liam",
         "Freshman Seminar",
         "Freshman",
         "90.0"
        ],
        [
         "5",
         "Mason",
         "Freshman Seminar",
         "Freshman",
         "90.0"
        ],
        [
         "6",
         "Isabella",
         "Freshman Seminar",
         "Freshman",
         "90.0"
        ],
        [
         "7",
         "Jacob",
         "Freshman Seminar",
         null,
         "88.0"
        ],
        [
         "8",
         "William",
         "Freshman Seminar",
         null,
         "89.0"
        ],
        [
         "9",
         "Ethan",
         "Freshman Seminar",
         null,
         "86.0"
        ],
        [
         "10",
         "Ava",
         "Freshman Seminar",
         "Freshman",
         "88.0"
        ],
        [
         "11",
         "Michael",
         "Freshman Seminar",
         "Freshman",
         "88.0"
        ],
        [
         "12",
         "Alexander",
         "Intro to Python",
         "Freshman",
         "85.0"
        ],
        [
         "13",
         "Logan",
         "Intro to Python",
         "Freshman",
         "85.0"
        ],
        [
         "14",
         "James",
         "Intro to Python",
         "Freshman",
         "82.0"
        ],
        [
         "15",
         "Daniel",
         "Intro to Python",
         "Freshman",
         "85.0"
        ],
        [
         "16",
         "Elijah",
         "Intro to Python",
         "Freshman",
         "85.0"
        ],
        [
         "17",
         "Benjamin",
         "Intro to Python",
         "Freshman",
         "81.0"
        ],
        [
         "18",
         "Mia",
         "Intro to Python",
         "Freshman",
         "80.0"
        ],
        [
         "19",
         "Mia",
         "Python",
         "Freshman",
         "80.0"
        ],
        [
         "20",
         "Jayden",
         "Intro to Python",
         "Freshman",
         "82.0"
        ],
        [
         "21",
         "Aiden",
         "Intro to Python",
         "Freshman",
         "86.0"
        ],
        [
         "22",
         "Matthew",
         "Intro to Python",
         "Freshman",
         "87.0"
        ],
        [
         "23",
         "Emily",
         "Intro to Python",
         "Freshman",
         "78.0"
        ],
        [
         "24",
         "Jackson",
         "Intro to Python",
         "Freshman",
         "88.0"
        ],
        [
         "25",
         "Lucas",
         "Intro to Python",
         "Freshman",
         "77.0"
        ],
        [
         "26",
         "David",
         "Intro to Python",
         "Freshman",
         "74.0"
        ],
        [
         "27",
         "Joseph",
         "Intro to Python",
         "Freshman",
         "93.0"
        ],
        [
         "28",
         "Abigail",
         "Intro to Python",
         "Freshman",
         "89.0"
        ],
        [
         "29",
         "Avery",
         "Intro to Python",
         "Freshman",
         "79.0"
        ],
        [
         "30",
         "Anthony",
         "Intro to Python",
         "Freshman",
         "84.0"
        ],
        [
         "31",
         "Dylan",
         "Intro to Python",
         "Freshman",
         "84.0"
        ],
        [
         "32",
         "Andrew",
         "Intro to Python",
         "Freshman",
         "94.0"
        ],
        [
         "33",
         "Carter",
         "Intro to Python",
         "Freshman",
         "95.0"
        ],
        [
         "34",
         "Samuel",
         "Intro to Python",
         "Freshman",
         "83.0"
        ],
        [
         "35",
         "Gabriel",
         "Intro to Python",
         "Freshman",
         "82.0"
        ],
        [
         "36",
         "Joshua",
         "Intro to Python",
         "Freshman",
         "71.0"
        ],
        [
         "37",
         "John",
         "Intro to Python",
         "Freshman",
         "50.0"
        ],
        [
         "38",
         "Luke",
         "Intro to SQL",
         "Sophomore",
         "76.0"
        ],
        [
         "39",
         "Christopher",
         "Intro to SQL",
         "Sophomore",
         "84.0"
        ],
        [
         "40",
         "Madison",
         "Intro to SQL",
         "Sophomore",
         "71.0"
        ],
        [
         "41",
         "Charlotte",
         "Intro to SQL",
         "Sophomore",
         "92.0"
        ],
        [
         "42",
         "Isaac",
         "Intro to SQL",
         "Sophomore",
         "96.0"
        ],
        [
         "43",
         "Isaac",
         "Intro to SQL",
         "Sophomore",
         "96.0"
        ],
        [
         "44",
         "Isaac",
         "Intro to SQL",
         "Sophomore",
         "96.0"
        ],
        [
         "45",
         "Harper",
         "Intro to SQL",
         "Sophomore",
         "93.0"
        ],
        [
         "46",
         "Ryan",
         "Intro to SQL",
         "Sophomore",
         "76.0"
        ],
        [
         "47",
         "Sofia",
         "Intro to SQL",
         "Sophomore",
         "79.0"
        ],
        [
         "48",
         "Elizabeth",
         "Intro to SQL",
         "Sophomore",
         "80.0"
        ],
        [
         "49",
         "Oliver",
         "Intro to SQL",
         "Sophomore",
         "81.0"
        ]
       ],
       "shape": {
        "columns": 4,
        "rows": 83
       }
      },
      "text/html": [
       "<div>\n",
       "<style scoped>\n",
       "    .dataframe tbody tr th:only-of-type {\n",
       "        vertical-align: middle;\n",
       "    }\n",
       "\n",
       "    .dataframe tbody tr th {\n",
       "        vertical-align: top;\n",
       "    }\n",
       "\n",
       "    .dataframe thead th {\n",
       "        text-align: right;\n",
       "    }\n",
       "</style>\n",
       "<table border=\"1\" class=\"dataframe\">\n",
       "  <thead>\n",
       "    <tr style=\"text-align: right;\">\n",
       "      <th></th>\n",
       "      <th>Student</th>\n",
       "      <th>Class</th>\n",
       "      <th>Year</th>\n",
       "      <th>Grade</th>\n",
       "    </tr>\n",
       "  </thead>\n",
       "  <tbody>\n",
       "    <tr>\n",
       "      <th>0</th>\n",
       "      <td>Emma</td>\n",
       "      <td>Freshman Seminar</td>\n",
       "      <td>Freshman</td>\n",
       "      <td>86.0</td>\n",
       "    </tr>\n",
       "    <tr>\n",
       "      <th>1</th>\n",
       "      <td>Olivia</td>\n",
       "      <td>Freshman Seminar</td>\n",
       "      <td>Freshman</td>\n",
       "      <td>86.0</td>\n",
       "    </tr>\n",
       "    <tr>\n",
       "      <th>2</th>\n",
       "      <td>Noah</td>\n",
       "      <td>Freshman Seminar</td>\n",
       "      <td>Freshman</td>\n",
       "      <td>86.0</td>\n",
       "    </tr>\n",
       "    <tr>\n",
       "      <th>3</th>\n",
       "      <td>Sophia</td>\n",
       "      <td>Freshman Seminar</td>\n",
       "      <td>Freshman</td>\n",
       "      <td>87.0</td>\n",
       "    </tr>\n",
       "    <tr>\n",
       "      <th>4</th>\n",
       "      <td>Liam</td>\n",
       "      <td>Freshman Seminar</td>\n",
       "      <td>Freshman</td>\n",
       "      <td>90.0</td>\n",
       "    </tr>\n",
       "    <tr>\n",
       "      <th>...</th>\n",
       "      <td>...</td>\n",
       "      <td>...</td>\n",
       "      <td>...</td>\n",
       "      <td>...</td>\n",
       "    </tr>\n",
       "    <tr>\n",
       "      <th>78</th>\n",
       "      <td>Charles</td>\n",
       "      <td>EDA</td>\n",
       "      <td>Junior</td>\n",
       "      <td>93.0</td>\n",
       "    </tr>\n",
       "    <tr>\n",
       "      <th>79</th>\n",
       "      <td>Connor</td>\n",
       "      <td>EDA</td>\n",
       "      <td>Junior</td>\n",
       "      <td>91.0</td>\n",
       "    </tr>\n",
       "    <tr>\n",
       "      <th>80</th>\n",
       "      <td>Riley</td>\n",
       "      <td>EDA</td>\n",
       "      <td>Junior</td>\n",
       "      <td>87.0</td>\n",
       "    </tr>\n",
       "    <tr>\n",
       "      <th>83</th>\n",
       "      <td>NaN</td>\n",
       "      <td>EDA</td>\n",
       "      <td>Junior</td>\n",
       "      <td>84.0</td>\n",
       "    </tr>\n",
       "    <tr>\n",
       "      <th>84</th>\n",
       "      <td>Gavin</td>\n",
       "      <td>EDA</td>\n",
       "      <td>Senior</td>\n",
       "      <td>NaN</td>\n",
       "    </tr>\n",
       "  </tbody>\n",
       "</table>\n",
       "<p>83 rows × 4 columns</p>\n",
       "</div>"
      ],
      "text/plain": [
       "    Student             Class      Year  Grade\n",
       "0      Emma  Freshman Seminar  Freshman   86.0\n",
       "1    Olivia  Freshman Seminar  Freshman   86.0\n",
       "2      Noah  Freshman Seminar  Freshman   86.0\n",
       "3    Sophia  Freshman Seminar  Freshman   87.0\n",
       "4      Liam  Freshman Seminar  Freshman   90.0\n",
       "..      ...               ...       ...    ...\n",
       "78  Charles               EDA    Junior   93.0\n",
       "79   Connor               EDA    Junior   91.0\n",
       "80    Riley               EDA    Junior   87.0\n",
       "83      NaN               EDA    Junior   84.0\n",
       "84    Gavin               EDA    Senior    NaN\n",
       "\n",
       "[83 rows x 4 columns]"
      ]
     },
     "execution_count": 63,
     "metadata": {},
     "output_type": "execute_result"
    }
   ],
   "source": [
    "# Drop rows with missing values in the 'Class' column\n",
    "df.dropna(subset =[\"Class\"])"
   ]
  },
  {
   "cell_type": "code",
   "execution_count": null,
   "id": "4a903803",
   "metadata": {},
   "outputs": [
    {
     "data": {
      "application/vnd.microsoft.datawrangler.viewer.v0+json": {
       "columns": [
        {
         "name": "index",
         "rawType": "int64",
         "type": "integer"
        },
        {
         "name": "Student",
         "rawType": "object",
         "type": "unknown"
        },
        {
         "name": "Class",
         "rawType": "object",
         "type": "string"
        },
        {
         "name": "Year",
         "rawType": "object",
         "type": "unknown"
        },
        {
         "name": "Grade",
         "rawType": "float64",
         "type": "float"
        }
       ],
       "conversionMethod": "pd.DataFrame",
       "ref": "e47d242f-da77-4ec1-bc96-36f289e725db",
       "rows": [
        [
         "0",
         "Emma",
         "Freshman Seminar",
         "Freshman",
         "86.0"
        ],
        [
         "1",
         "Olivia",
         "Freshman Seminar",
         "Freshman",
         "86.0"
        ],
        [
         "2",
         "Noah",
         "Freshman Seminar",
         "Freshman",
         "86.0"
        ],
        [
         "3",
         "Sophia",
         "Freshman Seminar",
         "Freshman",
         "87.0"
        ],
        [
         "4",
         "Liam",
         "Freshman Seminar",
         "Freshman",
         "90.0"
        ],
        [
         "5",
         "Mason",
         "Freshman Seminar",
         "Freshman",
         "90.0"
        ],
        [
         "6",
         "Isabella",
         "Freshman Seminar",
         "Freshman",
         "90.0"
        ],
        [
         "7",
         "Jacob",
         "Freshman Seminar",
         null,
         "88.0"
        ],
        [
         "8",
         "William",
         "Freshman Seminar",
         null,
         "89.0"
        ],
        [
         "9",
         "Ethan",
         "Freshman Seminar",
         null,
         "86.0"
        ],
        [
         "10",
         "Ava",
         "Freshman Seminar",
         "Freshman",
         "88.0"
        ],
        [
         "11",
         "Michael",
         "Freshman Seminar",
         "Freshman",
         "88.0"
        ],
        [
         "12",
         "Alexander",
         "Intro to Python",
         "Freshman",
         "85.0"
        ],
        [
         "13",
         "Logan",
         "Intro to Python",
         "Freshman",
         "85.0"
        ],
        [
         "14",
         "James",
         "Intro to Python",
         "Freshman",
         "82.0"
        ],
        [
         "15",
         "Daniel",
         "Intro to Python",
         "Freshman",
         "85.0"
        ],
        [
         "16",
         "Elijah",
         "Intro to Python",
         "Freshman",
         "85.0"
        ],
        [
         "17",
         "Benjamin",
         "Intro to Python",
         "Freshman",
         "81.0"
        ],
        [
         "18",
         "Mia",
         "Intro to Python",
         "Freshman",
         "80.0"
        ],
        [
         "19",
         "Mia",
         "Python",
         "Freshman",
         "80.0"
        ],
        [
         "20",
         "Jayden",
         "Intro to Python",
         "Freshman",
         "82.0"
        ],
        [
         "21",
         "Aiden",
         "Intro to Python",
         "Freshman",
         "86.0"
        ],
        [
         "22",
         "Matthew",
         "Intro to Python",
         "Freshman",
         "87.0"
        ],
        [
         "23",
         "Emily",
         "Intro to Python",
         "Freshman",
         "78.0"
        ],
        [
         "24",
         "Jackson",
         "Intro to Python",
         "Freshman",
         "88.0"
        ],
        [
         "25",
         "Lucas",
         "Intro to Python",
         "Freshman",
         "77.0"
        ],
        [
         "26",
         "David",
         "Intro to Python",
         "Freshman",
         "74.0"
        ],
        [
         "27",
         "Joseph",
         "Intro to Python",
         "Freshman",
         "93.0"
        ],
        [
         "28",
         "Abigail",
         "Intro to Python",
         "Freshman",
         "89.0"
        ],
        [
         "29",
         "Avery",
         "Intro to Python",
         "Freshman",
         "79.0"
        ],
        [
         "30",
         "Anthony",
         "Intro to Python",
         "Freshman",
         "84.0"
        ],
        [
         "31",
         "Dylan",
         "Intro to Python",
         "Freshman",
         "84.0"
        ],
        [
         "32",
         "Andrew",
         "Intro to Python",
         "Freshman",
         "94.0"
        ],
        [
         "33",
         "Carter",
         "Intro to Python",
         "Freshman",
         "95.0"
        ],
        [
         "34",
         "Samuel",
         "Intro to Python",
         "Freshman",
         "83.0"
        ],
        [
         "35",
         "Gabriel",
         "Intro to Python",
         "Freshman",
         "82.0"
        ],
        [
         "36",
         "Joshua",
         "Intro to Python",
         "Freshman",
         "71.0"
        ],
        [
         "37",
         "John",
         "Intro to Python",
         "Freshman",
         "50.0"
        ],
        [
         "38",
         "Luke",
         "Intro to SQL",
         "Sophomore",
         "76.0"
        ],
        [
         "39",
         "Christopher",
         "Intro to SQL",
         "Sophomore",
         "84.0"
        ],
        [
         "40",
         "Madison",
         "Intro to SQL",
         "Sophomore",
         "71.0"
        ],
        [
         "41",
         "Charlotte",
         "Intro to SQL",
         "Sophomore",
         "92.0"
        ],
        [
         "42",
         "Isaac",
         "Intro to SQL",
         "Sophomore",
         "96.0"
        ],
        [
         "43",
         "Isaac",
         "Intro to SQL",
         "Sophomore",
         "96.0"
        ],
        [
         "44",
         "Isaac",
         "Intro to SQL",
         "Sophomore",
         "96.0"
        ],
        [
         "45",
         "Harper",
         "Intro to SQL",
         "Sophomore",
         "93.0"
        ],
        [
         "46",
         "Ryan",
         "Intro to SQL",
         "Sophomore",
         "76.0"
        ],
        [
         "47",
         "Sofia",
         "Intro to SQL",
         "Sophomore",
         "79.0"
        ],
        [
         "48",
         "Elizabeth",
         "Intro to SQL",
         "Sophomore",
         "80.0"
        ],
        [
         "49",
         "Oliver",
         "Intro to SQL",
         "Sophomore",
         "81.0"
        ]
       ],
       "shape": {
        "columns": 4,
        "rows": 83
       }
      },
      "text/html": [
       "<div>\n",
       "<style scoped>\n",
       "    .dataframe tbody tr th:only-of-type {\n",
       "        vertical-align: middle;\n",
       "    }\n",
       "\n",
       "    .dataframe tbody tr th {\n",
       "        vertical-align: top;\n",
       "    }\n",
       "\n",
       "    .dataframe thead th {\n",
       "        text-align: right;\n",
       "    }\n",
       "</style>\n",
       "<table border=\"1\" class=\"dataframe\">\n",
       "  <thead>\n",
       "    <tr style=\"text-align: right;\">\n",
       "      <th></th>\n",
       "      <th>Student</th>\n",
       "      <th>Class</th>\n",
       "      <th>Year</th>\n",
       "      <th>Grade</th>\n",
       "    </tr>\n",
       "  </thead>\n",
       "  <tbody>\n",
       "    <tr>\n",
       "      <th>0</th>\n",
       "      <td>Emma</td>\n",
       "      <td>Freshman Seminar</td>\n",
       "      <td>Freshman</td>\n",
       "      <td>86.0</td>\n",
       "    </tr>\n",
       "    <tr>\n",
       "      <th>1</th>\n",
       "      <td>Olivia</td>\n",
       "      <td>Freshman Seminar</td>\n",
       "      <td>Freshman</td>\n",
       "      <td>86.0</td>\n",
       "    </tr>\n",
       "    <tr>\n",
       "      <th>2</th>\n",
       "      <td>Noah</td>\n",
       "      <td>Freshman Seminar</td>\n",
       "      <td>Freshman</td>\n",
       "      <td>86.0</td>\n",
       "    </tr>\n",
       "    <tr>\n",
       "      <th>3</th>\n",
       "      <td>Sophia</td>\n",
       "      <td>Freshman Seminar</td>\n",
       "      <td>Freshman</td>\n",
       "      <td>87.0</td>\n",
       "    </tr>\n",
       "    <tr>\n",
       "      <th>4</th>\n",
       "      <td>Liam</td>\n",
       "      <td>Freshman Seminar</td>\n",
       "      <td>Freshman</td>\n",
       "      <td>90.0</td>\n",
       "    </tr>\n",
       "    <tr>\n",
       "      <th>...</th>\n",
       "      <td>...</td>\n",
       "      <td>...</td>\n",
       "      <td>...</td>\n",
       "      <td>...</td>\n",
       "    </tr>\n",
       "    <tr>\n",
       "      <th>78</th>\n",
       "      <td>Charles</td>\n",
       "      <td>EDA</td>\n",
       "      <td>Junior</td>\n",
       "      <td>93.0</td>\n",
       "    </tr>\n",
       "    <tr>\n",
       "      <th>79</th>\n",
       "      <td>Connor</td>\n",
       "      <td>EDA</td>\n",
       "      <td>Junior</td>\n",
       "      <td>91.0</td>\n",
       "    </tr>\n",
       "    <tr>\n",
       "      <th>80</th>\n",
       "      <td>Riley</td>\n",
       "      <td>EDA</td>\n",
       "      <td>Junior</td>\n",
       "      <td>87.0</td>\n",
       "    </tr>\n",
       "    <tr>\n",
       "      <th>83</th>\n",
       "      <td>NaN</td>\n",
       "      <td>EDA</td>\n",
       "      <td>Junior</td>\n",
       "      <td>84.0</td>\n",
       "    </tr>\n",
       "    <tr>\n",
       "      <th>84</th>\n",
       "      <td>Gavin</td>\n",
       "      <td>EDA</td>\n",
       "      <td>Senior</td>\n",
       "      <td>NaN</td>\n",
       "    </tr>\n",
       "  </tbody>\n",
       "</table>\n",
       "<p>83 rows × 4 columns</p>\n",
       "</div>"
      ],
      "text/plain": [
       "    Student             Class      Year  Grade\n",
       "0      Emma  Freshman Seminar  Freshman   86.0\n",
       "1    Olivia  Freshman Seminar  Freshman   86.0\n",
       "2      Noah  Freshman Seminar  Freshman   86.0\n",
       "3    Sophia  Freshman Seminar  Freshman   87.0\n",
       "4      Liam  Freshman Seminar  Freshman   90.0\n",
       "..      ...               ...       ...    ...\n",
       "78  Charles               EDA    Junior   93.0\n",
       "79   Connor               EDA    Junior   91.0\n",
       "80    Riley               EDA    Junior   87.0\n",
       "83      NaN               EDA    Junior   84.0\n",
       "84    Gavin               EDA    Senior    NaN\n",
       "\n",
       "[83 rows x 4 columns]"
      ]
     },
     "execution_count": 64,
     "metadata": {},
     "output_type": "execute_result"
    }
   ],
   "source": [
    "\n",
    "df[df[\"Class\"].notna()]"
   ]
  },
  {
   "cell_type": "code",
   "execution_count": 66,
   "id": "0629b898",
   "metadata": {},
   "outputs": [],
   "source": [
    "# Map categorical values to numeric values\n",
    "year_mapping = {'Freshman': 1, 'Sophomore': 2, 'Junior': 3, 'Senior': 4}\n",
    "df[\"Year\"] = df[\"Year\"].map(year_mapping)\n",
    "\n",
    "# Fill missing values with the median\n",
    "df[\"Year\"] = df[\"Year\"].fillna(df[\"Year\"].median())"
   ]
  },
  {
   "cell_type": "code",
   "execution_count": 67,
   "id": "dd24554f",
   "metadata": {},
   "outputs": [
    {
     "data": {
      "application/vnd.microsoft.datawrangler.viewer.v0+json": {
       "columns": [
        {
         "name": "index",
         "rawType": "int64",
         "type": "integer"
        },
        {
         "name": "Student",
         "rawType": "object",
         "type": "unknown"
        },
        {
         "name": "Class",
         "rawType": "object",
         "type": "unknown"
        },
        {
         "name": "Year",
         "rawType": "float64",
         "type": "float"
        },
        {
         "name": "Grade",
         "rawType": "float64",
         "type": "float"
        }
       ],
       "conversionMethod": "pd.DataFrame",
       "ref": "a7d20ea4-04e0-403b-ac87-6fb8894d5c8f",
       "rows": [
        [
         "0",
         "Emma",
         "Freshman Seminar",
         "1.0",
         "86.0"
        ],
        [
         "1",
         "Olivia",
         "Freshman Seminar",
         "1.0",
         "86.0"
        ],
        [
         "2",
         "Noah",
         "Freshman Seminar",
         "1.0",
         "86.0"
        ],
        [
         "3",
         "Sophia",
         "Freshman Seminar",
         "1.0",
         "87.0"
        ],
        [
         "4",
         "Liam",
         "Freshman Seminar",
         "1.0",
         "90.0"
        ],
        [
         "5",
         "Mason",
         "Freshman Seminar",
         "1.0",
         "90.0"
        ],
        [
         "6",
         "Isabella",
         "Freshman Seminar",
         "1.0",
         "90.0"
        ],
        [
         "7",
         "Jacob",
         "Freshman Seminar",
         "2.0",
         "88.0"
        ],
        [
         "8",
         "William",
         "Freshman Seminar",
         "2.0",
         "89.0"
        ],
        [
         "9",
         "Ethan",
         "Freshman Seminar",
         "2.0",
         "86.0"
        ],
        [
         "10",
         "Ava",
         "Freshman Seminar",
         "1.0",
         "88.0"
        ],
        [
         "11",
         "Michael",
         "Freshman Seminar",
         "1.0",
         "88.0"
        ],
        [
         "12",
         "Alexander",
         "Intro to Python",
         "1.0",
         "85.0"
        ],
        [
         "13",
         "Logan",
         "Intro to Python",
         "1.0",
         "85.0"
        ],
        [
         "14",
         "James",
         "Intro to Python",
         "1.0",
         "82.0"
        ],
        [
         "15",
         "Daniel",
         "Intro to Python",
         "1.0",
         "85.0"
        ],
        [
         "16",
         "Elijah",
         "Intro to Python",
         "1.0",
         "85.0"
        ],
        [
         "17",
         "Benjamin",
         "Intro to Python",
         "1.0",
         "81.0"
        ],
        [
         "18",
         "Mia",
         "Intro to Python",
         "1.0",
         "80.0"
        ],
        [
         "19",
         "Mia",
         "Python",
         "1.0",
         "80.0"
        ],
        [
         "20",
         "Jayden",
         "Intro to Python",
         "1.0",
         "82.0"
        ],
        [
         "21",
         "Aiden",
         "Intro to Python",
         "1.0",
         "86.0"
        ],
        [
         "22",
         "Matthew",
         "Intro to Python",
         "1.0",
         "87.0"
        ],
        [
         "23",
         "Emily",
         "Intro to Python",
         "1.0",
         "78.0"
        ],
        [
         "24",
         "Jackson",
         "Intro to Python",
         "1.0",
         "88.0"
        ],
        [
         "25",
         "Lucas",
         "Intro to Python",
         "1.0",
         "77.0"
        ],
        [
         "26",
         "David",
         "Intro to Python",
         "1.0",
         "74.0"
        ],
        [
         "27",
         "Joseph",
         "Intro to Python",
         "1.0",
         "93.0"
        ],
        [
         "28",
         "Abigail",
         "Intro to Python",
         "1.0",
         "89.0"
        ],
        [
         "29",
         "Avery",
         "Intro to Python",
         "1.0",
         "79.0"
        ],
        [
         "30",
         "Anthony",
         "Intro to Python",
         "1.0",
         "84.0"
        ],
        [
         "31",
         "Dylan",
         "Intro to Python",
         "1.0",
         "84.0"
        ],
        [
         "32",
         "Andrew",
         "Intro to Python",
         "1.0",
         "94.0"
        ],
        [
         "33",
         "Carter",
         "Intro to Python",
         "1.0",
         "95.0"
        ],
        [
         "34",
         "Samuel",
         "Intro to Python",
         "1.0",
         "83.0"
        ],
        [
         "35",
         "Gabriel",
         "Intro to Python",
         "1.0",
         "82.0"
        ],
        [
         "36",
         "Joshua",
         "Intro to Python",
         "1.0",
         "71.0"
        ],
        [
         "37",
         "John",
         "Intro to Python",
         "1.0",
         "50.0"
        ],
        [
         "38",
         "Luke",
         "Intro to SQL",
         "2.0",
         "76.0"
        ],
        [
         "39",
         "Christopher",
         "Intro to SQL",
         "2.0",
         "84.0"
        ],
        [
         "40",
         "Madison",
         "Intro to SQL",
         "2.0",
         "71.0"
        ],
        [
         "41",
         "Charlotte",
         "Intro to SQL",
         "2.0",
         "92.0"
        ],
        [
         "42",
         "Isaac",
         "Intro to SQL",
         "2.0",
         "96.0"
        ],
        [
         "43",
         "Isaac",
         "Intro to SQL",
         "2.0",
         "96.0"
        ],
        [
         "44",
         "Isaac",
         "Intro to SQL",
         "2.0",
         "96.0"
        ],
        [
         "45",
         "Harper",
         "Intro to SQL",
         "2.0",
         "93.0"
        ],
        [
         "46",
         "Ryan",
         "Intro to SQL",
         "2.0",
         "76.0"
        ],
        [
         "47",
         "Sofia",
         "Intro to SQL",
         "2.0",
         "79.0"
        ],
        [
         "48",
         "Elizabeth",
         "Intro to SQL",
         "2.0",
         "80.0"
        ],
        [
         "49",
         "Oliver",
         "Intro to SQL",
         "2.0",
         "81.0"
        ]
       ],
       "shape": {
        "columns": 4,
        "rows": 86
       }
      },
      "text/html": [
       "<div>\n",
       "<style scoped>\n",
       "    .dataframe tbody tr th:only-of-type {\n",
       "        vertical-align: middle;\n",
       "    }\n",
       "\n",
       "    .dataframe tbody tr th {\n",
       "        vertical-align: top;\n",
       "    }\n",
       "\n",
       "    .dataframe thead th {\n",
       "        text-align: right;\n",
       "    }\n",
       "</style>\n",
       "<table border=\"1\" class=\"dataframe\">\n",
       "  <thead>\n",
       "    <tr style=\"text-align: right;\">\n",
       "      <th></th>\n",
       "      <th>Student</th>\n",
       "      <th>Class</th>\n",
       "      <th>Year</th>\n",
       "      <th>Grade</th>\n",
       "    </tr>\n",
       "  </thead>\n",
       "  <tbody>\n",
       "    <tr>\n",
       "      <th>0</th>\n",
       "      <td>Emma</td>\n",
       "      <td>Freshman Seminar</td>\n",
       "      <td>1.0</td>\n",
       "      <td>86.0</td>\n",
       "    </tr>\n",
       "    <tr>\n",
       "      <th>1</th>\n",
       "      <td>Olivia</td>\n",
       "      <td>Freshman Seminar</td>\n",
       "      <td>1.0</td>\n",
       "      <td>86.0</td>\n",
       "    </tr>\n",
       "    <tr>\n",
       "      <th>2</th>\n",
       "      <td>Noah</td>\n",
       "      <td>Freshman Seminar</td>\n",
       "      <td>1.0</td>\n",
       "      <td>86.0</td>\n",
       "    </tr>\n",
       "    <tr>\n",
       "      <th>3</th>\n",
       "      <td>Sophia</td>\n",
       "      <td>Freshman Seminar</td>\n",
       "      <td>1.0</td>\n",
       "      <td>87.0</td>\n",
       "    </tr>\n",
       "    <tr>\n",
       "      <th>4</th>\n",
       "      <td>Liam</td>\n",
       "      <td>Freshman Seminar</td>\n",
       "      <td>1.0</td>\n",
       "      <td>90.0</td>\n",
       "    </tr>\n",
       "    <tr>\n",
       "      <th>...</th>\n",
       "      <td>...</td>\n",
       "      <td>...</td>\n",
       "      <td>...</td>\n",
       "      <td>...</td>\n",
       "    </tr>\n",
       "    <tr>\n",
       "      <th>81</th>\n",
       "      <td>NaN</td>\n",
       "      <td>NaN</td>\n",
       "      <td>2.0</td>\n",
       "      <td>NaN</td>\n",
       "    </tr>\n",
       "    <tr>\n",
       "      <th>82</th>\n",
       "      <td>Bennett</td>\n",
       "      <td>NaN</td>\n",
       "      <td>2.0</td>\n",
       "      <td>NaN</td>\n",
       "    </tr>\n",
       "    <tr>\n",
       "      <th>83</th>\n",
       "      <td>NaN</td>\n",
       "      <td>EDA</td>\n",
       "      <td>3.0</td>\n",
       "      <td>84.0</td>\n",
       "    </tr>\n",
       "    <tr>\n",
       "      <th>84</th>\n",
       "      <td>Gavin</td>\n",
       "      <td>EDA</td>\n",
       "      <td>4.0</td>\n",
       "      <td>NaN</td>\n",
       "    </tr>\n",
       "    <tr>\n",
       "      <th>85</th>\n",
       "      <td>Calvin</td>\n",
       "      <td>NaN</td>\n",
       "      <td>2.0</td>\n",
       "      <td>100.0</td>\n",
       "    </tr>\n",
       "  </tbody>\n",
       "</table>\n",
       "<p>86 rows × 4 columns</p>\n",
       "</div>"
      ],
      "text/plain": [
       "    Student             Class  Year  Grade\n",
       "0      Emma  Freshman Seminar   1.0   86.0\n",
       "1    Olivia  Freshman Seminar   1.0   86.0\n",
       "2      Noah  Freshman Seminar   1.0   86.0\n",
       "3    Sophia  Freshman Seminar   1.0   87.0\n",
       "4      Liam  Freshman Seminar   1.0   90.0\n",
       "..      ...               ...   ...    ...\n",
       "81      NaN               NaN   2.0    NaN\n",
       "82  Bennett               NaN   2.0    NaN\n",
       "83      NaN               EDA   3.0   84.0\n",
       "84    Gavin               EDA   4.0    NaN\n",
       "85   Calvin               NaN   2.0  100.0\n",
       "\n",
       "[86 rows x 4 columns]"
      ]
     },
     "execution_count": 67,
     "metadata": {},
     "output_type": "execute_result"
    }
   ],
   "source": [
    "df"
   ]
  },
  {
   "cell_type": "code",
   "execution_count": 68,
   "id": "d09aac91",
   "metadata": {},
   "outputs": [
    {
     "name": "stderr",
     "output_type": "stream",
     "text": [
      "C:\\Users\\admin\\AppData\\Local\\Temp\\ipykernel_4336\\2617004827.py:2: FutureWarning: A value is trying to be set on a copy of a DataFrame or Series through chained assignment using an inplace method.\n",
      "The behavior will change in pandas 3.0. This inplace method will never work because the intermediate object on which we are setting values always behaves as a copy.\n",
      "\n",
      "For example, when doing 'df[col].method(value, inplace=True)', try using 'df.method({col: value}, inplace=True)' or df[col] = df[col].method(value) instead, to perform the operation inplace on the original object.\n",
      "\n",
      "\n",
      "  df[\"Class\"].fillna(df[\"Class\"].mode()[0], inplace=True)\n"
     ]
    },
    {
     "data": {
      "application/vnd.microsoft.datawrangler.viewer.v0+json": {
       "columns": [
        {
         "name": "index",
         "rawType": "int64",
         "type": "integer"
        },
        {
         "name": "Student",
         "rawType": "object",
         "type": "unknown"
        },
        {
         "name": "Class",
         "rawType": "object",
         "type": "string"
        },
        {
         "name": "Year",
         "rawType": "float64",
         "type": "float"
        },
        {
         "name": "Grade",
         "rawType": "float64",
         "type": "float"
        }
       ],
       "conversionMethod": "pd.DataFrame",
       "ref": "96ceb453-65c1-4f02-b43a-92c008dbf190",
       "rows": [
        [
         "0",
         "Emma",
         "Freshman Seminar",
         "1.0",
         "86.0"
        ],
        [
         "1",
         "Olivia",
         "Freshman Seminar",
         "1.0",
         "86.0"
        ],
        [
         "2",
         "Noah",
         "Freshman Seminar",
         "1.0",
         "86.0"
        ],
        [
         "3",
         "Sophia",
         "Freshman Seminar",
         "1.0",
         "87.0"
        ],
        [
         "4",
         "Liam",
         "Freshman Seminar",
         "1.0",
         "90.0"
        ],
        [
         "5",
         "Mason",
         "Freshman Seminar",
         "1.0",
         "90.0"
        ],
        [
         "6",
         "Isabella",
         "Freshman Seminar",
         "1.0",
         "90.0"
        ],
        [
         "7",
         "Jacob",
         "Freshman Seminar",
         "2.0",
         "88.0"
        ],
        [
         "8",
         "William",
         "Freshman Seminar",
         "2.0",
         "89.0"
        ],
        [
         "9",
         "Ethan",
         "Freshman Seminar",
         "2.0",
         "86.0"
        ],
        [
         "10",
         "Ava",
         "Freshman Seminar",
         "1.0",
         "88.0"
        ],
        [
         "11",
         "Michael",
         "Freshman Seminar",
         "1.0",
         "88.0"
        ],
        [
         "12",
         "Alexander",
         "Intro to Python",
         "1.0",
         "85.0"
        ],
        [
         "13",
         "Logan",
         "Intro to Python",
         "1.0",
         "85.0"
        ],
        [
         "14",
         "James",
         "Intro to Python",
         "1.0",
         "82.0"
        ],
        [
         "15",
         "Daniel",
         "Intro to Python",
         "1.0",
         "85.0"
        ],
        [
         "16",
         "Elijah",
         "Intro to Python",
         "1.0",
         "85.0"
        ],
        [
         "17",
         "Benjamin",
         "Intro to Python",
         "1.0",
         "81.0"
        ],
        [
         "18",
         "Mia",
         "Intro to Python",
         "1.0",
         "80.0"
        ],
        [
         "19",
         "Mia",
         "Python",
         "1.0",
         "80.0"
        ],
        [
         "20",
         "Jayden",
         "Intro to Python",
         "1.0",
         "82.0"
        ],
        [
         "21",
         "Aiden",
         "Intro to Python",
         "1.0",
         "86.0"
        ],
        [
         "22",
         "Matthew",
         "Intro to Python",
         "1.0",
         "87.0"
        ],
        [
         "23",
         "Emily",
         "Intro to Python",
         "1.0",
         "78.0"
        ],
        [
         "24",
         "Jackson",
         "Intro to Python",
         "1.0",
         "88.0"
        ],
        [
         "25",
         "Lucas",
         "Intro to Python",
         "1.0",
         "77.0"
        ],
        [
         "26",
         "David",
         "Intro to Python",
         "1.0",
         "74.0"
        ],
        [
         "27",
         "Joseph",
         "Intro to Python",
         "1.0",
         "93.0"
        ],
        [
         "28",
         "Abigail",
         "Intro to Python",
         "1.0",
         "89.0"
        ],
        [
         "29",
         "Avery",
         "Intro to Python",
         "1.0",
         "79.0"
        ],
        [
         "30",
         "Anthony",
         "Intro to Python",
         "1.0",
         "84.0"
        ],
        [
         "31",
         "Dylan",
         "Intro to Python",
         "1.0",
         "84.0"
        ],
        [
         "32",
         "Andrew",
         "Intro to Python",
         "1.0",
         "94.0"
        ],
        [
         "33",
         "Carter",
         "Intro to Python",
         "1.0",
         "95.0"
        ],
        [
         "34",
         "Samuel",
         "Intro to Python",
         "1.0",
         "83.0"
        ],
        [
         "35",
         "Gabriel",
         "Intro to Python",
         "1.0",
         "82.0"
        ],
        [
         "36",
         "Joshua",
         "Intro to Python",
         "1.0",
         "71.0"
        ],
        [
         "37",
         "John",
         "Intro to Python",
         "1.0",
         "50.0"
        ],
        [
         "38",
         "Luke",
         "Intro to SQL",
         "2.0",
         "76.0"
        ],
        [
         "39",
         "Christopher",
         "Intro to SQL",
         "2.0",
         "84.0"
        ],
        [
         "40",
         "Madison",
         "Intro to SQL",
         "2.0",
         "71.0"
        ],
        [
         "41",
         "Charlotte",
         "Intro to SQL",
         "2.0",
         "92.0"
        ],
        [
         "42",
         "Isaac",
         "Intro to SQL",
         "2.0",
         "96.0"
        ],
        [
         "43",
         "Isaac",
         "Intro to SQL",
         "2.0",
         "96.0"
        ],
        [
         "44",
         "Isaac",
         "Intro to SQL",
         "2.0",
         "96.0"
        ],
        [
         "45",
         "Harper",
         "Intro to SQL",
         "2.0",
         "93.0"
        ],
        [
         "46",
         "Ryan",
         "Intro to SQL",
         "2.0",
         "76.0"
        ],
        [
         "47",
         "Sofia",
         "Intro to SQL",
         "2.0",
         "79.0"
        ],
        [
         "48",
         "Elizabeth",
         "Intro to SQL",
         "2.0",
         "80.0"
        ],
        [
         "49",
         "Oliver",
         "Intro to SQL",
         "2.0",
         "81.0"
        ]
       ],
       "shape": {
        "columns": 4,
        "rows": 86
       }
      },
      "text/html": [
       "<div>\n",
       "<style scoped>\n",
       "    .dataframe tbody tr th:only-of-type {\n",
       "        vertical-align: middle;\n",
       "    }\n",
       "\n",
       "    .dataframe tbody tr th {\n",
       "        vertical-align: top;\n",
       "    }\n",
       "\n",
       "    .dataframe thead th {\n",
       "        text-align: right;\n",
       "    }\n",
       "</style>\n",
       "<table border=\"1\" class=\"dataframe\">\n",
       "  <thead>\n",
       "    <tr style=\"text-align: right;\">\n",
       "      <th></th>\n",
       "      <th>Student</th>\n",
       "      <th>Class</th>\n",
       "      <th>Year</th>\n",
       "      <th>Grade</th>\n",
       "    </tr>\n",
       "  </thead>\n",
       "  <tbody>\n",
       "    <tr>\n",
       "      <th>0</th>\n",
       "      <td>Emma</td>\n",
       "      <td>Freshman Seminar</td>\n",
       "      <td>1.0</td>\n",
       "      <td>86.0</td>\n",
       "    </tr>\n",
       "    <tr>\n",
       "      <th>1</th>\n",
       "      <td>Olivia</td>\n",
       "      <td>Freshman Seminar</td>\n",
       "      <td>1.0</td>\n",
       "      <td>86.0</td>\n",
       "    </tr>\n",
       "    <tr>\n",
       "      <th>2</th>\n",
       "      <td>Noah</td>\n",
       "      <td>Freshman Seminar</td>\n",
       "      <td>1.0</td>\n",
       "      <td>86.0</td>\n",
       "    </tr>\n",
       "    <tr>\n",
       "      <th>3</th>\n",
       "      <td>Sophia</td>\n",
       "      <td>Freshman Seminar</td>\n",
       "      <td>1.0</td>\n",
       "      <td>87.0</td>\n",
       "    </tr>\n",
       "    <tr>\n",
       "      <th>4</th>\n",
       "      <td>Liam</td>\n",
       "      <td>Freshman Seminar</td>\n",
       "      <td>1.0</td>\n",
       "      <td>90.0</td>\n",
       "    </tr>\n",
       "    <tr>\n",
       "      <th>...</th>\n",
       "      <td>...</td>\n",
       "      <td>...</td>\n",
       "      <td>...</td>\n",
       "      <td>...</td>\n",
       "    </tr>\n",
       "    <tr>\n",
       "      <th>81</th>\n",
       "      <td>NaN</td>\n",
       "      <td>Intro to Python</td>\n",
       "      <td>2.0</td>\n",
       "      <td>NaN</td>\n",
       "    </tr>\n",
       "    <tr>\n",
       "      <th>82</th>\n",
       "      <td>Bennett</td>\n",
       "      <td>Intro to Python</td>\n",
       "      <td>2.0</td>\n",
       "      <td>NaN</td>\n",
       "    </tr>\n",
       "    <tr>\n",
       "      <th>83</th>\n",
       "      <td>NaN</td>\n",
       "      <td>EDA</td>\n",
       "      <td>3.0</td>\n",
       "      <td>84.0</td>\n",
       "    </tr>\n",
       "    <tr>\n",
       "      <th>84</th>\n",
       "      <td>Gavin</td>\n",
       "      <td>EDA</td>\n",
       "      <td>4.0</td>\n",
       "      <td>NaN</td>\n",
       "    </tr>\n",
       "    <tr>\n",
       "      <th>85</th>\n",
       "      <td>Calvin</td>\n",
       "      <td>Intro to Python</td>\n",
       "      <td>2.0</td>\n",
       "      <td>100.0</td>\n",
       "    </tr>\n",
       "  </tbody>\n",
       "</table>\n",
       "<p>86 rows × 4 columns</p>\n",
       "</div>"
      ],
      "text/plain": [
       "    Student             Class  Year  Grade\n",
       "0      Emma  Freshman Seminar   1.0   86.0\n",
       "1    Olivia  Freshman Seminar   1.0   86.0\n",
       "2      Noah  Freshman Seminar   1.0   86.0\n",
       "3    Sophia  Freshman Seminar   1.0   87.0\n",
       "4      Liam  Freshman Seminar   1.0   90.0\n",
       "..      ...               ...   ...    ...\n",
       "81      NaN   Intro to Python   2.0    NaN\n",
       "82  Bennett   Intro to Python   2.0    NaN\n",
       "83      NaN               EDA   3.0   84.0\n",
       "84    Gavin               EDA   4.0    NaN\n",
       "85   Calvin   Intro to Python   2.0  100.0\n",
       "\n",
       "[86 rows x 4 columns]"
      ]
     },
     "execution_count": 68,
     "metadata": {},
     "output_type": "execute_result"
    }
   ],
   "source": [
    "# Resolving missing values in the 'Class' column\n",
    "df[\"Class\"].fillna(df[\"Class\"].mode()[0], inplace=True)\n",
    "df"
   ]
  },
  {
   "cell_type": "code",
   "execution_count": 69,
   "id": "7426a8bc",
   "metadata": {},
   "outputs": [
    {
     "name": "stderr",
     "output_type": "stream",
     "text": [
      "C:\\Users\\admin\\AppData\\Local\\Temp\\ipykernel_4336\\217650480.py:2: FutureWarning: A value is trying to be set on a copy of a DataFrame or Series through chained assignment using an inplace method.\n",
      "The behavior will change in pandas 3.0. This inplace method will never work because the intermediate object on which we are setting values always behaves as a copy.\n",
      "\n",
      "For example, when doing 'df[col].method(value, inplace=True)', try using 'df.method({col: value}, inplace=True)' or df[col] = df[col].method(value) instead, to perform the operation inplace on the original object.\n",
      "\n",
      "\n",
      "  df[\"Student\"].fillna(df[\"Student\"].mode()[0], inplace=True)\n"
     ]
    },
    {
     "data": {
      "application/vnd.microsoft.datawrangler.viewer.v0+json": {
       "columns": [
        {
         "name": "index",
         "rawType": "int64",
         "type": "integer"
        },
        {
         "name": "Student",
         "rawType": "object",
         "type": "string"
        },
        {
         "name": "Class",
         "rawType": "object",
         "type": "string"
        },
        {
         "name": "Year",
         "rawType": "float64",
         "type": "float"
        },
        {
         "name": "Grade",
         "rawType": "float64",
         "type": "float"
        }
       ],
       "conversionMethod": "pd.DataFrame",
       "ref": "e81f886f-af5f-41f6-977b-df15482e3e3a",
       "rows": [
        [
         "0",
         "Emma",
         "Freshman Seminar",
         "1.0",
         "86.0"
        ],
        [
         "1",
         "Olivia",
         "Freshman Seminar",
         "1.0",
         "86.0"
        ],
        [
         "2",
         "Noah",
         "Freshman Seminar",
         "1.0",
         "86.0"
        ],
        [
         "3",
         "Sophia",
         "Freshman Seminar",
         "1.0",
         "87.0"
        ],
        [
         "4",
         "Liam",
         "Freshman Seminar",
         "1.0",
         "90.0"
        ],
        [
         "5",
         "Mason",
         "Freshman Seminar",
         "1.0",
         "90.0"
        ],
        [
         "6",
         "Isabella",
         "Freshman Seminar",
         "1.0",
         "90.0"
        ],
        [
         "7",
         "Jacob",
         "Freshman Seminar",
         "2.0",
         "88.0"
        ],
        [
         "8",
         "William",
         "Freshman Seminar",
         "2.0",
         "89.0"
        ],
        [
         "9",
         "Ethan",
         "Freshman Seminar",
         "2.0",
         "86.0"
        ],
        [
         "10",
         "Ava",
         "Freshman Seminar",
         "1.0",
         "88.0"
        ],
        [
         "11",
         "Michael",
         "Freshman Seminar",
         "1.0",
         "88.0"
        ],
        [
         "12",
         "Alexander",
         "Intro to Python",
         "1.0",
         "85.0"
        ],
        [
         "13",
         "Logan",
         "Intro to Python",
         "1.0",
         "85.0"
        ],
        [
         "14",
         "James",
         "Intro to Python",
         "1.0",
         "82.0"
        ],
        [
         "15",
         "Daniel",
         "Intro to Python",
         "1.0",
         "85.0"
        ],
        [
         "16",
         "Elijah",
         "Intro to Python",
         "1.0",
         "85.0"
        ],
        [
         "17",
         "Benjamin",
         "Intro to Python",
         "1.0",
         "81.0"
        ],
        [
         "18",
         "Mia",
         "Intro to Python",
         "1.0",
         "80.0"
        ],
        [
         "19",
         "Mia",
         "Python",
         "1.0",
         "80.0"
        ],
        [
         "20",
         "Jayden",
         "Intro to Python",
         "1.0",
         "82.0"
        ],
        [
         "21",
         "Aiden",
         "Intro to Python",
         "1.0",
         "86.0"
        ],
        [
         "22",
         "Matthew",
         "Intro to Python",
         "1.0",
         "87.0"
        ],
        [
         "23",
         "Emily",
         "Intro to Python",
         "1.0",
         "78.0"
        ],
        [
         "24",
         "Jackson",
         "Intro to Python",
         "1.0",
         "88.0"
        ],
        [
         "25",
         "Lucas",
         "Intro to Python",
         "1.0",
         "77.0"
        ],
        [
         "26",
         "David",
         "Intro to Python",
         "1.0",
         "74.0"
        ],
        [
         "27",
         "Joseph",
         "Intro to Python",
         "1.0",
         "93.0"
        ],
        [
         "28",
         "Abigail",
         "Intro to Python",
         "1.0",
         "89.0"
        ],
        [
         "29",
         "Avery",
         "Intro to Python",
         "1.0",
         "79.0"
        ],
        [
         "30",
         "Anthony",
         "Intro to Python",
         "1.0",
         "84.0"
        ],
        [
         "31",
         "Dylan",
         "Intro to Python",
         "1.0",
         "84.0"
        ],
        [
         "32",
         "Andrew",
         "Intro to Python",
         "1.0",
         "94.0"
        ],
        [
         "33",
         "Carter",
         "Intro to Python",
         "1.0",
         "95.0"
        ],
        [
         "34",
         "Samuel",
         "Intro to Python",
         "1.0",
         "83.0"
        ],
        [
         "35",
         "Gabriel",
         "Intro to Python",
         "1.0",
         "82.0"
        ],
        [
         "36",
         "Joshua",
         "Intro to Python",
         "1.0",
         "71.0"
        ],
        [
         "37",
         "John",
         "Intro to Python",
         "1.0",
         "50.0"
        ],
        [
         "38",
         "Luke",
         "Intro to SQL",
         "2.0",
         "76.0"
        ],
        [
         "39",
         "Christopher",
         "Intro to SQL",
         "2.0",
         "84.0"
        ],
        [
         "40",
         "Madison",
         "Intro to SQL",
         "2.0",
         "71.0"
        ],
        [
         "41",
         "Charlotte",
         "Intro to SQL",
         "2.0",
         "92.0"
        ],
        [
         "42",
         "Isaac",
         "Intro to SQL",
         "2.0",
         "96.0"
        ],
        [
         "43",
         "Isaac",
         "Intro to SQL",
         "2.0",
         "96.0"
        ],
        [
         "44",
         "Isaac",
         "Intro to SQL",
         "2.0",
         "96.0"
        ],
        [
         "45",
         "Harper",
         "Intro to SQL",
         "2.0",
         "93.0"
        ],
        [
         "46",
         "Ryan",
         "Intro to SQL",
         "2.0",
         "76.0"
        ],
        [
         "47",
         "Sofia",
         "Intro to SQL",
         "2.0",
         "79.0"
        ],
        [
         "48",
         "Elizabeth",
         "Intro to SQL",
         "2.0",
         "80.0"
        ],
        [
         "49",
         "Oliver",
         "Intro to SQL",
         "2.0",
         "81.0"
        ]
       ],
       "shape": {
        "columns": 4,
        "rows": 86
       }
      },
      "text/html": [
       "<div>\n",
       "<style scoped>\n",
       "    .dataframe tbody tr th:only-of-type {\n",
       "        vertical-align: middle;\n",
       "    }\n",
       "\n",
       "    .dataframe tbody tr th {\n",
       "        vertical-align: top;\n",
       "    }\n",
       "\n",
       "    .dataframe thead th {\n",
       "        text-align: right;\n",
       "    }\n",
       "</style>\n",
       "<table border=\"1\" class=\"dataframe\">\n",
       "  <thead>\n",
       "    <tr style=\"text-align: right;\">\n",
       "      <th></th>\n",
       "      <th>Student</th>\n",
       "      <th>Class</th>\n",
       "      <th>Year</th>\n",
       "      <th>Grade</th>\n",
       "    </tr>\n",
       "  </thead>\n",
       "  <tbody>\n",
       "    <tr>\n",
       "      <th>0</th>\n",
       "      <td>Emma</td>\n",
       "      <td>Freshman Seminar</td>\n",
       "      <td>1.0</td>\n",
       "      <td>86.0</td>\n",
       "    </tr>\n",
       "    <tr>\n",
       "      <th>1</th>\n",
       "      <td>Olivia</td>\n",
       "      <td>Freshman Seminar</td>\n",
       "      <td>1.0</td>\n",
       "      <td>86.0</td>\n",
       "    </tr>\n",
       "    <tr>\n",
       "      <th>2</th>\n",
       "      <td>Noah</td>\n",
       "      <td>Freshman Seminar</td>\n",
       "      <td>1.0</td>\n",
       "      <td>86.0</td>\n",
       "    </tr>\n",
       "    <tr>\n",
       "      <th>3</th>\n",
       "      <td>Sophia</td>\n",
       "      <td>Freshman Seminar</td>\n",
       "      <td>1.0</td>\n",
       "      <td>87.0</td>\n",
       "    </tr>\n",
       "    <tr>\n",
       "      <th>4</th>\n",
       "      <td>Liam</td>\n",
       "      <td>Freshman Seminar</td>\n",
       "      <td>1.0</td>\n",
       "      <td>90.0</td>\n",
       "    </tr>\n",
       "    <tr>\n",
       "      <th>...</th>\n",
       "      <td>...</td>\n",
       "      <td>...</td>\n",
       "      <td>...</td>\n",
       "      <td>...</td>\n",
       "    </tr>\n",
       "    <tr>\n",
       "      <th>81</th>\n",
       "      <td>Isaac</td>\n",
       "      <td>Intro to Python</td>\n",
       "      <td>2.0</td>\n",
       "      <td>NaN</td>\n",
       "    </tr>\n",
       "    <tr>\n",
       "      <th>82</th>\n",
       "      <td>Bennett</td>\n",
       "      <td>Intro to Python</td>\n",
       "      <td>2.0</td>\n",
       "      <td>NaN</td>\n",
       "    </tr>\n",
       "    <tr>\n",
       "      <th>83</th>\n",
       "      <td>Isaac</td>\n",
       "      <td>EDA</td>\n",
       "      <td>3.0</td>\n",
       "      <td>84.0</td>\n",
       "    </tr>\n",
       "    <tr>\n",
       "      <th>84</th>\n",
       "      <td>Gavin</td>\n",
       "      <td>EDA</td>\n",
       "      <td>4.0</td>\n",
       "      <td>NaN</td>\n",
       "    </tr>\n",
       "    <tr>\n",
       "      <th>85</th>\n",
       "      <td>Calvin</td>\n",
       "      <td>Intro to Python</td>\n",
       "      <td>2.0</td>\n",
       "      <td>100.0</td>\n",
       "    </tr>\n",
       "  </tbody>\n",
       "</table>\n",
       "<p>86 rows × 4 columns</p>\n",
       "</div>"
      ],
      "text/plain": [
       "    Student             Class  Year  Grade\n",
       "0      Emma  Freshman Seminar   1.0   86.0\n",
       "1    Olivia  Freshman Seminar   1.0   86.0\n",
       "2      Noah  Freshman Seminar   1.0   86.0\n",
       "3    Sophia  Freshman Seminar   1.0   87.0\n",
       "4      Liam  Freshman Seminar   1.0   90.0\n",
       "..      ...               ...   ...    ...\n",
       "81    Isaac   Intro to Python   2.0    NaN\n",
       "82  Bennett   Intro to Python   2.0    NaN\n",
       "83    Isaac               EDA   3.0   84.0\n",
       "84    Gavin               EDA   4.0    NaN\n",
       "85   Calvin   Intro to Python   2.0  100.0\n",
       "\n",
       "[86 rows x 4 columns]"
      ]
     },
     "execution_count": 69,
     "metadata": {},
     "output_type": "execute_result"
    }
   ],
   "source": [
    "# Resolving missing values in the 'Student' column\n",
    "df[\"Student\"].fillna(df[\"Student\"].mode()[0], inplace=True)\n",
    "df"
   ]
  },
  {
   "cell_type": "code",
   "execution_count": 79,
   "id": "85b901ee",
   "metadata": {},
   "outputs": [
    {
     "name": "stderr",
     "output_type": "stream",
     "text": [
      "C:\\Users\\admin\\AppData\\Local\\Temp\\ipykernel_4336\\651984323.py:2: FutureWarning: A value is trying to be set on a copy of a DataFrame or Series through chained assignment using an inplace method.\n",
      "The behavior will change in pandas 3.0. This inplace method will never work because the intermediate object on which we are setting values always behaves as a copy.\n",
      "\n",
      "For example, when doing 'df[col].method(value, inplace=True)', try using 'df.method({col: value}, inplace=True)' or df[col] = df[col].method(value) instead, to perform the operation inplace on the original object.\n",
      "\n",
      "\n",
      "  df['Grade'].fillna(df['Grade'].mean(), inplace=True)\n"
     ]
    },
    {
     "data": {
      "application/vnd.microsoft.datawrangler.viewer.v0+json": {
       "columns": [
        {
         "name": "index",
         "rawType": "int64",
         "type": "integer"
        },
        {
         "name": "Student",
         "rawType": "object",
         "type": "string"
        },
        {
         "name": "Class",
         "rawType": "object",
         "type": "string"
        },
        {
         "name": "Year",
         "rawType": "float64",
         "type": "float"
        },
        {
         "name": "Grade",
         "rawType": "float64",
         "type": "float"
        }
       ],
       "conversionMethod": "pd.DataFrame",
       "ref": "345a38d5-895c-4061-b9cd-06a0becc3634",
       "rows": [
        [
         "0",
         "Emma",
         "Freshman Seminar",
         "1.0",
         "86.0"
        ],
        [
         "1",
         "Olivia",
         "Freshman Seminar",
         "1.0",
         "86.0"
        ],
        [
         "2",
         "Noah",
         "Freshman Seminar",
         "1.0",
         "86.0"
        ],
        [
         "3",
         "Sophia",
         "Freshman Seminar",
         "1.0",
         "87.0"
        ],
        [
         "4",
         "Liam",
         "Freshman Seminar",
         "1.0",
         "90.0"
        ],
        [
         "5",
         "Mason",
         "Freshman Seminar",
         "1.0",
         "90.0"
        ],
        [
         "6",
         "Isabella",
         "Freshman Seminar",
         "1.0",
         "90.0"
        ],
        [
         "7",
         "Jacob",
         "Freshman Seminar",
         "2.0",
         "88.0"
        ],
        [
         "8",
         "William",
         "Freshman Seminar",
         "2.0",
         "89.0"
        ],
        [
         "9",
         "Ethan",
         "Freshman Seminar",
         "2.0",
         "86.0"
        ],
        [
         "10",
         "Ava",
         "Freshman Seminar",
         "1.0",
         "88.0"
        ],
        [
         "11",
         "Michael",
         "Freshman Seminar",
         "1.0",
         "88.0"
        ],
        [
         "12",
         "Alexander",
         "Intro to Python",
         "1.0",
         "85.0"
        ],
        [
         "13",
         "Logan",
         "Intro to Python",
         "1.0",
         "85.0"
        ],
        [
         "14",
         "James",
         "Intro to Python",
         "1.0",
         "82.0"
        ],
        [
         "15",
         "Daniel",
         "Intro to Python",
         "1.0",
         "85.0"
        ],
        [
         "16",
         "Elijah",
         "Intro to Python",
         "1.0",
         "85.0"
        ],
        [
         "17",
         "Benjamin",
         "Intro to Python",
         "1.0",
         "81.0"
        ],
        [
         "18",
         "Mia",
         "Intro to Python",
         "1.0",
         "80.0"
        ],
        [
         "19",
         "Mia",
         "Python",
         "1.0",
         "80.0"
        ],
        [
         "20",
         "Jayden",
         "Intro to Python",
         "1.0",
         "82.0"
        ],
        [
         "21",
         "Aiden",
         "Intro to Python",
         "1.0",
         "86.0"
        ],
        [
         "22",
         "Matthew",
         "Intro to Python",
         "1.0",
         "87.0"
        ],
        [
         "23",
         "Emily",
         "Intro to Python",
         "1.0",
         "78.0"
        ],
        [
         "24",
         "Jackson",
         "Intro to Python",
         "1.0",
         "88.0"
        ],
        [
         "25",
         "Lucas",
         "Intro to Python",
         "1.0",
         "77.0"
        ],
        [
         "26",
         "David",
         "Intro to Python",
         "1.0",
         "74.0"
        ],
        [
         "27",
         "Joseph",
         "Intro to Python",
         "1.0",
         "93.0"
        ],
        [
         "28",
         "Abigail",
         "Intro to Python",
         "1.0",
         "89.0"
        ],
        [
         "29",
         "Avery",
         "Intro to Python",
         "1.0",
         "79.0"
        ],
        [
         "30",
         "Anthony",
         "Intro to Python",
         "1.0",
         "84.0"
        ],
        [
         "31",
         "Dylan",
         "Intro to Python",
         "1.0",
         "84.0"
        ],
        [
         "32",
         "Andrew",
         "Intro to Python",
         "1.0",
         "94.0"
        ],
        [
         "33",
         "Carter",
         "Intro to Python",
         "1.0",
         "95.0"
        ],
        [
         "34",
         "Samuel",
         "Intro to Python",
         "1.0",
         "83.0"
        ],
        [
         "35",
         "Gabriel",
         "Intro to Python",
         "1.0",
         "82.0"
        ],
        [
         "36",
         "Joshua",
         "Intro to Python",
         "1.0",
         "71.0"
        ],
        [
         "37",
         "John",
         "Intro to Python",
         "1.0",
         "50.0"
        ],
        [
         "38",
         "Luke",
         "Intro to SQL",
         "2.0",
         "76.0"
        ],
        [
         "39",
         "Christopher",
         "Intro to SQL",
         "2.0",
         "84.0"
        ],
        [
         "40",
         "Madison",
         "Intro to SQL",
         "2.0",
         "71.0"
        ],
        [
         "41",
         "Charlotte",
         "Intro to SQL",
         "2.0",
         "92.0"
        ],
        [
         "42",
         "Isaac",
         "Intro to SQL",
         "2.0",
         "96.0"
        ],
        [
         "43",
         "Isaac",
         "Intro to SQL",
         "2.0",
         "96.0"
        ],
        [
         "44",
         "Isaac",
         "Intro to SQL",
         "2.0",
         "96.0"
        ],
        [
         "45",
         "Harper",
         "Intro to SQL",
         "2.0",
         "93.0"
        ],
        [
         "46",
         "Ryan",
         "Intro to SQL",
         "2.0",
         "76.0"
        ],
        [
         "47",
         "Sofia",
         "Intro to SQL",
         "2.0",
         "79.0"
        ],
        [
         "48",
         "Elizabeth",
         "Intro to SQL",
         "2.0",
         "80.0"
        ],
        [
         "49",
         "Oliver",
         "Intro to SQL",
         "2.0",
         "81.0"
        ]
       ],
       "shape": {
        "columns": 4,
        "rows": 86
       }
      },
      "text/html": [
       "<div>\n",
       "<style scoped>\n",
       "    .dataframe tbody tr th:only-of-type {\n",
       "        vertical-align: middle;\n",
       "    }\n",
       "\n",
       "    .dataframe tbody tr th {\n",
       "        vertical-align: top;\n",
       "    }\n",
       "\n",
       "    .dataframe thead th {\n",
       "        text-align: right;\n",
       "    }\n",
       "</style>\n",
       "<table border=\"1\" class=\"dataframe\">\n",
       "  <thead>\n",
       "    <tr style=\"text-align: right;\">\n",
       "      <th></th>\n",
       "      <th>Student</th>\n",
       "      <th>Class</th>\n",
       "      <th>Year</th>\n",
       "      <th>Grade</th>\n",
       "    </tr>\n",
       "  </thead>\n",
       "  <tbody>\n",
       "    <tr>\n",
       "      <th>0</th>\n",
       "      <td>Emma</td>\n",
       "      <td>Freshman Seminar</td>\n",
       "      <td>1.0</td>\n",
       "      <td>86.0</td>\n",
       "    </tr>\n",
       "    <tr>\n",
       "      <th>1</th>\n",
       "      <td>Olivia</td>\n",
       "      <td>Freshman Seminar</td>\n",
       "      <td>1.0</td>\n",
       "      <td>86.0</td>\n",
       "    </tr>\n",
       "    <tr>\n",
       "      <th>2</th>\n",
       "      <td>Noah</td>\n",
       "      <td>Freshman Seminar</td>\n",
       "      <td>1.0</td>\n",
       "      <td>86.0</td>\n",
       "    </tr>\n",
       "    <tr>\n",
       "      <th>3</th>\n",
       "      <td>Sophia</td>\n",
       "      <td>Freshman Seminar</td>\n",
       "      <td>1.0</td>\n",
       "      <td>87.0</td>\n",
       "    </tr>\n",
       "    <tr>\n",
       "      <th>4</th>\n",
       "      <td>Liam</td>\n",
       "      <td>Freshman Seminar</td>\n",
       "      <td>1.0</td>\n",
       "      <td>90.0</td>\n",
       "    </tr>\n",
       "    <tr>\n",
       "      <th>...</th>\n",
       "      <td>...</td>\n",
       "      <td>...</td>\n",
       "      <td>...</td>\n",
       "      <td>...</td>\n",
       "    </tr>\n",
       "    <tr>\n",
       "      <th>81</th>\n",
       "      <td>Isaac</td>\n",
       "      <td>Intro to Python</td>\n",
       "      <td>2.0</td>\n",
       "      <td>85.7</td>\n",
       "    </tr>\n",
       "    <tr>\n",
       "      <th>82</th>\n",
       "      <td>Bennett</td>\n",
       "      <td>Intro to Python</td>\n",
       "      <td>2.0</td>\n",
       "      <td>85.7</td>\n",
       "    </tr>\n",
       "    <tr>\n",
       "      <th>83</th>\n",
       "      <td>Isaac</td>\n",
       "      <td>EDA</td>\n",
       "      <td>3.0</td>\n",
       "      <td>84.0</td>\n",
       "    </tr>\n",
       "    <tr>\n",
       "      <th>84</th>\n",
       "      <td>Gavin</td>\n",
       "      <td>EDA</td>\n",
       "      <td>4.0</td>\n",
       "      <td>85.7</td>\n",
       "    </tr>\n",
       "    <tr>\n",
       "      <th>85</th>\n",
       "      <td>Calvin</td>\n",
       "      <td>Intro to Python</td>\n",
       "      <td>2.0</td>\n",
       "      <td>100.0</td>\n",
       "    </tr>\n",
       "  </tbody>\n",
       "</table>\n",
       "<p>86 rows × 4 columns</p>\n",
       "</div>"
      ],
      "text/plain": [
       "    Student             Class  Year  Grade\n",
       "0      Emma  Freshman Seminar   1.0   86.0\n",
       "1    Olivia  Freshman Seminar   1.0   86.0\n",
       "2      Noah  Freshman Seminar   1.0   86.0\n",
       "3    Sophia  Freshman Seminar   1.0   87.0\n",
       "4      Liam  Freshman Seminar   1.0   90.0\n",
       "..      ...               ...   ...    ...\n",
       "81    Isaac   Intro to Python   2.0   85.7\n",
       "82  Bennett   Intro to Python   2.0   85.7\n",
       "83    Isaac               EDA   3.0   84.0\n",
       "84    Gavin               EDA   4.0   85.7\n",
       "85   Calvin   Intro to Python   2.0  100.0\n",
       "\n",
       "[86 rows x 4 columns]"
      ]
     },
     "execution_count": 79,
     "metadata": {},
     "output_type": "execute_result"
    }
   ],
   "source": [
    "# Resolving missing values in the 'Grade' column\n",
    "df['Grade'].fillna(df['Grade'].mean(), inplace=True) \n",
    "df['Grade'] = df['Grade'].round(1)  #  Round to 2 decimal places\n",
    "df"
   ]
  },
  {
   "cell_type": "code",
   "execution_count": 83,
   "id": "7eb7bef3",
   "metadata": {},
   "outputs": [],
   "source": [
    "# Save the cleaned DataFrame to a new CSV file  \n",
    "df.to_csv( 'Data/Student_Grades_Cleaned.csv', index=False)"
   ]
  },
  {
   "cell_type": "code",
   "execution_count": null,
   "id": "78e4f3be",
   "metadata": {},
   "outputs": [],
   "source": [
    "df"
   ]
  }
 ],
 "metadata": {
  "kernelspec": {
   "display_name": "Python 3",
   "language": "python",
   "name": "python3"
  },
  "language_info": {
   "codemirror_mode": {
    "name": "ipython",
    "version": 3
   },
   "file_extension": ".py",
   "mimetype": "text/x-python",
   "name": "python",
   "nbconvert_exporter": "python",
   "pygments_lexer": "ipython3",
   "version": "3.12.6"
  }
 },
 "nbformat": 4,
 "nbformat_minor": 5
}
