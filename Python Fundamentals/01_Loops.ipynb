{
 "cells": [
  {
   "cell_type": "markdown",
   "id": "13ab3543",
   "metadata": {},
   "source": [
    "# <h3> Loops in Python - For, While and Nested Loops </h3>\n",
    "- Loops in Python are used to repeat actions efficiently. The main types are For loops (counting through items) and While loops (based on conditions).\n",
    "#<h3> While Loop in Python</h3>\n",
    "- In Python, a while loop is used to execute a block of statements repeatedly until a given condition is satisfied. When the condition becomes false, the line immediately after the loop in the program is executed.\n",
    "- With the while loop we can execute a set of statements as long as a condition is true.\n",
    "\n",
    "- While loop Syntax:\n",
    "   While expression:\n",
    "      statements(s)"
   ]
  },
  {
   "cell_type": "code",
   "execution_count": 2,
   "id": "19a44546",
   "metadata": {},
   "outputs": [
    {
     "name": "stdout",
     "output_type": "stream",
     "text": [
      "hello\n",
      "hello\n",
      "hello\n"
     ]
    }
   ],
   "source": [
    "# While loop\n",
    "i = 0\n",
    "while i < 3:\n",
    "    print(\"hello\")\n",
    "    i +=1"
   ]
  },
  {
   "cell_type": "code",
   "execution_count": 6,
   "id": "b4c7ffdc",
   "metadata": {},
   "outputs": [
    {
     "name": "stdout",
     "output_type": "stream",
     "text": [
      "1\n",
      "2\n",
      "3\n",
      "4\n",
      "5\n"
     ]
    }
   ],
   "source": [
    "# print i as long as i less than 6.\n",
    "i = 1\n",
    "while i < 6:\n",
    "    print(i)\n",
    "    i +=1"
   ]
  },
  {
   "cell_type": "markdown",
   "id": "410388d6",
   "metadata": {},
   "source": [
    "# <h3>With the else statement</h3>\n",
    "-  we can run a block of code once when the condition no longer is true"
   ]
  },
  {
   "cell_type": "code",
   "execution_count": 3,
   "id": "314088ac",
   "metadata": {},
   "outputs": [
    {
     "name": "stdout",
     "output_type": "stream",
     "text": [
      "1\n",
      "2\n",
      "3\n",
      "4\n",
      "No braek\n",
      "\n"
     ]
    }
   ],
   "source": [
    "# Using else statement with While Loop in Python\n",
    "i = 0\n",
    "while i < 4:\n",
    "    i +=1\n",
    "    print(i)\n",
    "else:\n",
    "    print(\"No braek\\n\")    "
   ]
  },
  {
   "cell_type": "markdown",
   "id": "96265151",
   "metadata": {},
   "source": [
    "# <h3>The break Statement </h3>\n",
    "With the break statement we can stop the loop even if the while condition is true:"
   ]
  },
  {
   "cell_type": "code",
   "execution_count": null,
   "id": "6a41ee9d",
   "metadata": {},
   "outputs": [
    {
     "name": "stdout",
     "output_type": "stream",
     "text": [
      "1\n",
      "2\n",
      "3\n"
     ]
    }
   ],
   "source": [
    "# excute the loop when i is 3.\n",
    "i = 1 \n",
    "while i < 6:\n",
    "    print(i)\n",
    "    if i == 3:\n",
    "        break\n",
    "    i +=1"
   ]
  },
  {
   "cell_type": "markdown",
   "id": "429b5a10",
   "metadata": {},
   "source": [
    "# <h3> The Continue statement </h3>\n",
    "- With the continue statement we can stop the current iteration, and continue the next:"
   ]
  },
  {
   "cell_type": "code",
   "execution_count": 8,
   "id": "f11f35b5",
   "metadata": {},
   "outputs": [
    {
     "name": "stdout",
     "output_type": "stream",
     "text": [
      "1\n",
      "2\n",
      "4\n",
      "5\n",
      "6\n"
     ]
    }
   ],
   "source": [
    "# Continue to the next iteration if i is 3.\n",
    "i = 0\n",
    "while i < 6:\n",
    "    i +=1\n",
    "    if i ==3:\n",
    "        continue\n",
    "    print(i) "
   ]
  },
  {
   "cell_type": "code",
   "execution_count": null,
   "id": "a12d15b8",
   "metadata": {},
   "outputs": [],
   "source": [
    "# Infinite While Loop in Python\n",
    "count = 0\n",
    "while (count == 0):\n",
    "    print(\"{hello Geek}\")"
   ]
  },
  {
   "cell_type": "markdown",
   "id": "03e88e5d",
   "metadata": {},
   "source": [
    "# <h3>For Loop in Python </h3>\n",
    "- For loops are used for sequential traversal. For example: traversing a list or string or array etc. In Python, there is \"for in\" loop which is similar to foreach loop in other languages.\n",
    "- With the for loop we can execute a set of statements, once for each item in a list, tuple, set etc.\n",
    "\n",
    "- for iterator_var in sequence:\n",
    "    statements(s)"
   ]
  },
  {
   "cell_type": "markdown",
   "id": "c8c44c74",
   "metadata": {},
   "source": [
    "# <h3>The range() Function</h3>\n",
    "To loop through a set of code a specified number of times, we can use the range() function,"
   ]
  },
  {
   "cell_type": "code",
   "execution_count": 5,
   "id": "fa83ed10",
   "metadata": {},
   "outputs": [
    {
     "name": "stdout",
     "output_type": "stream",
     "text": [
      "0\n",
      "1\n",
      "2\n",
      "3\n"
     ]
    }
   ],
   "source": [
    "n = 4\n",
    "for i in range(0, n):\n",
    "    print(i)"
   ]
  },
  {
   "cell_type": "markdown",
   "id": "a825ef92",
   "metadata": {},
   "source": [
    "-  The range() function defaults to increment the sequence by 1, however it is possible to specify the increment value by adding a third parameter: range(2, 30, 3)"
   ]
  },
  {
   "cell_type": "code",
   "execution_count": 17,
   "id": "21e6ce43",
   "metadata": {},
   "outputs": [
    {
     "name": "stdout",
     "output_type": "stream",
     "text": [
      "2\n",
      "5\n",
      "8\n",
      "11\n",
      "14\n",
      "17\n",
      "20\n",
      "23\n",
      "26\n",
      "29\n"
     ]
    }
   ],
   "source": [
    "# Increment the sequence with 3 (default is 1):\n",
    "for i in range(2, 30, 3):\n",
    "    print(i)"
   ]
  },
  {
   "cell_type": "code",
   "execution_count": 9,
   "id": "320ec984",
   "metadata": {},
   "outputs": [
    {
     "name": "stdout",
     "output_type": "stream",
     "text": [
      "0123456789"
     ]
    }
   ],
   "source": [
    "for i in range(10):\n",
    "    print(i , end=\"\")"
   ]
  },
  {
   "cell_type": "code",
   "execution_count": 11,
   "id": "e19d98b8",
   "metadata": {},
   "outputs": [
    {
     "name": "stdout",
     "output_type": "stream",
     "text": [
      "Apple\n",
      "Mango\n",
      "Banana\n",
      "grape\n"
     ]
    }
   ],
   "source": [
    "fruits = ['Apple', 'Mango','Banana','grape']\n",
    "for fruit in fruits:\n",
    "    print(fruit)"
   ]
  },
  {
   "cell_type": "code",
   "execution_count": 15,
   "id": "f9414eda",
   "metadata": {},
   "outputs": [
    {
     "name": "stdout",
     "output_type": "stream",
     "text": [
      "\n",
      " total: 1\n",
      "\n",
      " total: 3\n",
      "\n",
      " total: 6\n",
      "\n",
      " total: 10\n"
     ]
    }
   ],
   "source": [
    "total = 0\n",
    "for i in range(1, 5):\n",
    "    total = total + i\n",
    "    print(\"\\n total:\", total)"
   ]
  },
  {
   "cell_type": "markdown",
   "id": "d317d0c9",
   "metadata": {},
   "source": [
    "#<h3> Else in For Loop<h3>\n",
    "- The else keyword in a for loop specifies a block of code to be executed when the loop is finished:"
   ]
  },
  {
   "cell_type": "code",
   "execution_count": 18,
   "id": "dd918f91",
   "metadata": {},
   "outputs": [
    {
     "name": "stdout",
     "output_type": "stream",
     "text": [
      "0\n",
      "1\n",
      "2\n",
      "3\n",
      "4\n",
      "5\n",
      "Finally finshed!\n"
     ]
    }
   ],
   "source": [
    "# Print all numbers from 0 to 5, and print a message when the loop has ended:\n",
    "for x in range(6):\n",
    "    print(x)\n",
    "else:\n",
    "    print(\"Finally finshed!\")\n"
   ]
  },
  {
   "cell_type": "code",
   "execution_count": 16,
   "id": "4014c3c3",
   "metadata": {},
   "outputs": [
    {
     "name": "stdout",
     "output_type": "stream",
     "text": [
      "1\n",
      "2\n",
      "3\n",
      "No break \n",
      "\n"
     ]
    }
   ],
   "source": [
    "# for loop with else\n",
    "for i in range(1, 4):\n",
    "    print(i)\n",
    "else:\n",
    "    print(\"No break \\n\")    "
   ]
  },
  {
   "cell_type": "markdown",
   "id": "9eea1397",
   "metadata": {},
   "source": []
  }
 ],
 "metadata": {
  "kernelspec": {
   "display_name": "Python 3",
   "language": "python",
   "name": "python3"
  },
  "language_info": {
   "codemirror_mode": {
    "name": "ipython",
    "version": 3
   },
   "file_extension": ".py",
   "mimetype": "text/x-python",
   "name": "python",
   "nbconvert_exporter": "python",
   "pygments_lexer": "ipython3",
   "version": "3.12.1"
  }
 },
 "nbformat": 4,
 "nbformat_minor": 5
}
