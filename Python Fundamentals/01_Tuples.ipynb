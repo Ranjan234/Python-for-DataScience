{
 "cells": [
  {
   "cell_type": "markdown",
   "id": "27c71059",
   "metadata": {},
   "source": [
    "# Tuples\n",
    "1. introduction to tuples\n",
    "2. Creating Tuples\n",
    "3. Accessingtuple elements\n",
    "4. Tuple opeartions\n",
    "5. Tuple Methods\n",
    "6. Packing and updating tuples\n",
    "7. Immutable nature of tuples\n",
    "8. Nested tuples\n",
    "9. Practical examples and common errors"
   ]
  },
  {
   "cell_type": "code",
   "execution_count": 1,
   "id": "cd5240f6",
   "metadata": {},
   "outputs": [
    {
     "name": "stdout",
     "output_type": "stream",
     "text": [
      "<class 'tuple'>\n"
     ]
    }
   ],
   "source": [
    "\n",
    "## creating tuple\n",
    "empty_tuple =()\n",
    "print(type(empty_tuple))"
   ]
  },
  {
   "cell_type": "code",
   "execution_count": 2,
   "id": "6db16893",
   "metadata": {},
   "outputs": [
    {
     "name": "stdout",
     "output_type": "stream",
     "text": [
      "<class 'list'>\n",
      "<class 'tuple'>\n"
     ]
    }
   ],
   "source": [
    "lst = list()\n",
    "print(type(lst))\n",
    "tpl = tuple()\n",
    "print(type(tpl))"
   ]
  },
  {
   "cell_type": "code",
   "execution_count": 3,
   "id": "1d794148",
   "metadata": {},
   "outputs": [
    {
     "data": {
      "text/plain": [
       "(1, 2, 3, 4, 5, 6)"
      ]
     },
     "execution_count": 3,
     "metadata": {},
     "output_type": "execute_result"
    }
   ],
   "source": [
    "\n",
    "numbers = tuple([1,2,3,4,5,6,])\n",
    "numbers\n"
   ]
  },
  {
   "cell_type": "code",
   "execution_count": 4,
   "id": "3382a64b",
   "metadata": {},
   "outputs": [
    {
     "data": {
      "text/plain": [
       "list"
      ]
     },
     "execution_count": 4,
     "metadata": {},
     "output_type": "execute_result"
    }
   ],
   "source": [
    "\n",
    "list((1,2,3,4,5,6))\n",
    "list"
   ]
  },
  {
   "cell_type": "code",
   "execution_count": 5,
   "id": "be8385dc",
   "metadata": {},
   "outputs": [
    {
     "data": {
      "text/plain": [
       "(1, 'hello world', 3.45, True)"
      ]
     },
     "execution_count": 5,
     "metadata": {},
     "output_type": "execute_result"
    }
   ],
   "source": [
    "\n",
    "mixed_tuple =(1, 'hello world',3.45,True)\n",
    "mixed_tuple"
   ]
  },
  {
   "cell_type": "code",
   "execution_count": 6,
   "id": "0a2687d4",
   "metadata": {},
   "outputs": [
    {
     "data": {
      "text/plain": [
       "(1, 3, 5)"
      ]
     },
     "execution_count": 6,
     "metadata": {},
     "output_type": "execute_result"
    }
   ],
   "source": [
    "## accessing tuple\n",
    "numbers[3]\n",
    "\n",
    "numbers[::2]"
   ]
  },
  {
   "cell_type": "code",
   "execution_count": 7,
   "id": "bba76d4e",
   "metadata": {},
   "outputs": [
    {
     "data": {
      "text/plain": [
       "(1, 'hello world', 3.45, True, 1, 'hello world', 3.45, True)"
      ]
     },
     "execution_count": 7,
     "metadata": {},
     "output_type": "execute_result"
    }
   ],
   "source": [
    "\n",
    "## tuple operations\n",
    "concatenation_tuple = numbers + mixed_tuple\n",
    "concatenation_tuple\n",
    "\n",
    "mixed_tuple * 2"
   ]
  },
  {
   "cell_type": "code",
   "execution_count": 8,
   "id": "df62b071",
   "metadata": {},
   "outputs": [
    {
     "name": "stdout",
     "output_type": "stream",
     "text": [
      "[1, 2, 3, 4, 5, 6]\n",
      "[1, 'soumya', 3, 4, 5, 6]\n"
     ]
    },
    {
     "ename": "TypeError",
     "evalue": "'tuple' object does not support item assignment",
     "output_type": "error",
     "traceback": [
      "\u001b[31m---------------------------------------------------------------------------\u001b[39m",
      "\u001b[31mTypeError\u001b[39m                                 Traceback (most recent call last)",
      "\u001b[36mCell\u001b[39m\u001b[36m \u001b[39m\u001b[32mIn[8]\u001b[39m\u001b[32m, line 10\u001b[39m\n\u001b[32m      7\u001b[39m lst[\u001b[32m1\u001b[39m]= \u001b[33m\"\u001b[39m\u001b[33msoumya\u001b[39m\u001b[33m\"\u001b[39m\n\u001b[32m      8\u001b[39m \u001b[38;5;28mprint\u001b[39m(lst)\n\u001b[32m---> \u001b[39m\u001b[32m10\u001b[39m \u001b[43mnumbers\u001b[49m\u001b[43m[\u001b[49m\u001b[32;43m1\u001b[39;49m\u001b[43m]\u001b[49m= \u001b[33m\"\u001b[39m\u001b[33msoumya\u001b[39m\u001b[33m\"\u001b[39m\n",
      "\u001b[31mTypeError\u001b[39m: 'tuple' object does not support item assignment"
     ]
    }
   ],
   "source": [
    "## immutable nature of tuples\n",
    "## tuples are immutable\n",
    "\n",
    "lst = [1,2,3,4,5,6]\n",
    "print(lst)\n",
    "\n",
    "lst[1]= \"soumya\"\n",
    "print(lst)\n",
    "\n",
    "numbers[1]= \"soumya\"\n"
   ]
  },
  {
   "cell_type": "code",
   "execution_count": 9,
   "id": "fbb6a24e",
   "metadata": {},
   "outputs": [
    {
     "name": "stdout",
     "output_type": "stream",
     "text": [
      "1\n"
     ]
    }
   ],
   "source": [
    "## tuple methods\n",
    "print(numbers.count(1))\n",
    "# print(mixed_tuple.index(2))"
   ]
  },
  {
   "cell_type": "code",
   "execution_count": 10,
   "id": "aa788909",
   "metadata": {},
   "outputs": [
    {
     "name": "stdout",
     "output_type": "stream",
     "text": [
      "(1, 'helo', 3.24)\n"
     ]
    }
   ],
   "source": [
    "## packing and unpacking tuple\n",
    "packed_tuple = 1, \"helo\",3.24\n",
    "print(packed_tuple)\n"
   ]
  },
  {
   "cell_type": "code",
   "execution_count": 11,
   "id": "bc47bf83",
   "metadata": {},
   "outputs": [
    {
     "name": "stdout",
     "output_type": "stream",
     "text": [
      "1\n",
      "helo\n",
      "3.24\n"
     ]
    }
   ],
   "source": [
    "## unpacking tuple\n",
    "a,b,c = packed_tuple\n",
    "print(a)\n",
    "print(b)\n",
    "print(c)"
   ]
  },
  {
   "cell_type": "code",
   "execution_count": 12,
   "id": "fd0d06d0",
   "metadata": {},
   "outputs": [
    {
     "name": "stdout",
     "output_type": "stream",
     "text": [
      "1\n",
      "[2, 3, 4, 5]\n",
      "6\n"
     ]
    }
   ],
   "source": [
    "# unpacking with\n",
    "numbers =(1,2,3,4,5,6)\n",
    "first, *middle, last = numbers\n",
    "print(first)\n",
    "print(middle)\n",
    "print(last)"
   ]
  },
  {
   "cell_type": "code",
   "execution_count": 13,
   "id": "f665f3ff",
   "metadata": {},
   "outputs": [],
   "source": [
    "## nested tuple\n",
    "## nested list\n",
    "lst =[[1,2,3,4],[6,7,8,9],[1,\"hello\",3.14,\"c\"]]\n",
    "lst[0][0:3]\n",
    "\n",
    "lst[2][0:3]\n",
    "\n",
    "nested_tuple = ((1,2,3), (\"a\",\"b\",\"c\"),(True, False))"
   ]
  },
  {
   "cell_type": "code",
   "execution_count": 14,
   "id": "46397cd4",
   "metadata": {},
   "outputs": [
    {
     "name": "stdout",
     "output_type": "stream",
     "text": [
      "b\n",
      "c\n"
     ]
    }
   ],
   "source": [
    "## access the elements inside a tuple\n",
    "print(nested_tuple[1][1])\n",
    "\n",
    "print(nested_tuple[1][2])\n"
   ]
  },
  {
   "cell_type": "code",
   "execution_count": 15,
   "id": "f00aa404",
   "metadata": {},
   "outputs": [
    {
     "name": "stdout",
     "output_type": "stream",
     "text": [
      "1\n",
      "2\n",
      "3\n",
      "a\n",
      "b\n",
      "c\n",
      "True\n",
      "False\n"
     ]
    }
   ],
   "source": [
    "\n",
    "## iterating over nested tuples\n",
    "for sub_tuple in nested_tuple:\n",
    "  for item in sub_tuple:\n",
    "    print(item)"
   ]
  },
  {
   "cell_type": "code",
   "execution_count": 16,
   "id": "c161e86a",
   "metadata": {},
   "outputs": [
    {
     "name": "stdout",
     "output_type": "stream",
     "text": [
      "1 2 3 3\n",
      "a b c c\n",
      "True False False\n"
     ]
    }
   ],
   "source": [
    "## in second form\n",
    "for sub_tuple in nested_tuple:\n",
    "  for item in sub_tuple:\n",
    "       print(item, end=\" \")\n",
    "  print(item)\n"
   ]
  },
  {
   "cell_type": "code",
   "execution_count": null,
   "id": "50946cd9",
   "metadata": {},
   "outputs": [],
   "source": []
  }
 ],
 "metadata": {
  "kernelspec": {
   "display_name": "Python 3",
   "language": "python",
   "name": "python3"
  },
  "language_info": {
   "codemirror_mode": {
    "name": "ipython",
    "version": 3
   },
   "file_extension": ".py",
   "mimetype": "text/x-python",
   "name": "python",
   "nbconvert_exporter": "python",
   "pygments_lexer": "ipython3",
   "version": "3.12.1"
  }
 },
 "nbformat": 4,
 "nbformat_minor": 5
}
