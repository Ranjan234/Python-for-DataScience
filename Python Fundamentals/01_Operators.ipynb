{
 "cells": [
  {
   "cell_type": "markdown",
   "id": "af093c06",
   "metadata": {},
   "source": [
    "# In Python programming, Operators in general are used to perform operations on values and variables. These are standard symbols used for logical and arithmetic operations. In this article, we will look into different types of Python operators. \n",
    "- OPERATORS: These are the special symbols. Eg- + , * , /, etc.\n",
    "- OPERAND: It is the value on which the operator is applied."
   ]
  },
  {
   "cell_type": "markdown",
   "id": "714cedf9",
   "metadata": {},
   "source": [
    "# Types of Operators in Python\n",
    "- Arithmetic Operators\n",
    "- Comparison Operators\n",
    "- Logical Operators\n",
    "- Bitwise Operators\n",
    "- Assignment Operators\n",
    "- Identity Operators and Membership Operators"
   ]
  },
  {
   "cell_type": "code",
   "execution_count": 1,
   "id": "4d32b98d",
   "metadata": {},
   "outputs": [
    {
     "name": "stdout",
     "output_type": "stream",
     "text": [
      "a + b = 60\n",
      "a - b = -20\n",
      "a * b = 800\n",
      "a / b = 0.5\n",
      "a // b = 0\n",
      "a % b = 20\n",
      "a ** b = 400\n"
     ]
    }
   ],
   "source": [
    "# Arithmetic Operators in Python:\n",
    "# +, -, *, /, //, %, **\n",
    "a = 20\n",
    "b = 40\n",
    "# +: Addition\n",
    "print(\"a + b =\", a + b)  # Output: 60\n",
    "# -: Subtraction\n",
    "print(\"a - b =\", a - b)  # Output: -20\n",
    "# *: Multiplication\n",
    "print(\"a * b =\", a * b)  # Output: 800\n",
    "# /: Division\n",
    "print(\"a / b =\", a / b)  # Output: 0.5\n",
    "# //: Floor Division\n",
    "print(\"a // b =\", a // b)  # Output: 0\n",
    "# %: Modulus\n",
    "print(\"a % b =\", a % b)  # Output: 20\n",
    "# **: Exponentiation\n",
    "print(\"a ** b =\", a ** 2)  # Output: 400\n",
    "# Using variables with arithmetic operators\n"
   ]
  },
  {
   "cell_type": "code",
   "execution_count": null,
   "id": "151587f2",
   "metadata": {},
   "outputs": [
    {
     "name": "stdout",
     "output_type": "stream",
     "text": [
      "x == y: False\n",
      "x != y: True\n",
      "x > y: False\n",
      "x < y: True\n",
      "x >= y: False\n",
      "x <= y: True\n"
     ]
    }
   ],
   "source": [
    "# Comparison of Python Operators\n",
    "x = 10\n",
    "y = 20\n",
    "# ==: Equal to\n",
    "print(\"x == y:\", x == y)  # Output: False\n",
    "# !=: Not equal to\n",
    "print(\"x != y:\", x != y)  # Output: True\n",
    "# >: Greater than\n",
    "print(\"x > y:\", x > y)  # Output: False\n",
    "# <: Less than\n",
    "print(\"x < y:\", x < y)  # Output: True\n",
    "# >=: Greater than or equal to\n",
    "print(\"x >= y:\", x >= y)  # Output: False\n",
    "# <=: Less than or equal to\n",
    "print(\"x <= y:\", x <= y)  # Output: True\n",
    "# Using variables with comparison operators"
   ]
  },
  {
   "cell_type": "code",
   "execution_count": 3,
   "id": "1ca66dbd",
   "metadata": {},
   "outputs": [
    {
     "name": "stdout",
     "output_type": "stream",
     "text": [
      "a and b: False\n",
      "a or b: True\n",
      "not a: False\n"
     ]
    }
   ],
   "source": [
    "# Logical Operators in Python:\n",
    "# and, or, not\n",
    "a = True\n",
    "b = False\n",
    "# and: Logical AND\n",
    "print(\"a and b:\", a and b)  # Output: False\n",
    "# or: Logical OR\n",
    "print(\"a or b:\", a or b)  # Output: True\n",
    "# not: Logical NOT\n",
    "print(\"not a:\", not a)  # Output: False\n",
    "# Using variables with logical operators\n"
   ]
  },
  {
   "cell_type": "code",
   "execution_count": 3,
   "id": "e97a7c14",
   "metadata": {},
   "outputs": [
    {
     "name": "stdout",
     "output_type": "stream",
     "text": [
      "False\n",
      "True\n",
      "False\n"
     ]
    }
   ],
   "source": [
    "a = 20\n",
    "b = 10\n",
    "c = 30\n",
    "print(a>b and b>c)\n",
    "print(a<b or c>b)\n",
    "print(a<b or a>c)"
   ]
  },
  {
   "cell_type": "code",
   "execution_count": 8,
   "id": "79d5cea5",
   "metadata": {},
   "outputs": [
    {
     "name": "stdout",
     "output_type": "stream",
     "text": [
      "30\n",
      "10\n",
      "10\n"
     ]
    }
   ],
   "source": [
    "# Shortcut operator\n",
    "a = 10\n",
    "b = 20\n",
    "a += b\n",
    "print(a)\n",
    "a -= b\n",
    "print(a)\n",
    "b -= a\n",
    "print(b)"
   ]
  },
  {
   "cell_type": "code",
   "execution_count": 3,
   "id": "e1022d08",
   "metadata": {},
   "outputs": [
    {
     "name": "stdout",
     "output_type": "stream",
     "text": [
      "6\n",
      "3.0\n",
      "1.0\n",
      "1.0\n"
     ]
    }
   ],
   "source": [
    "a = 3\n",
    "b = 2\n",
    "a *=b\n",
    "print(a)\n",
    "a /=b\n",
    "print(a)\n",
    "a //=b\n",
    "print(a)\n",
    "a **=b\n",
    "print(a)\n"
   ]
  },
  {
   "cell_type": "code",
   "execution_count": null,
   "id": "55b96adf",
   "metadata": {},
   "outputs": [
    {
     "name": "stdout",
     "output_type": "stream",
     "text": [
      "a & b = 0\n",
      "a | b = 14\n",
      "a ^ b = 14\n",
      "~a = -11\n",
      "a << 2 = 40\n",
      "a >> 2 = 2\n"
     ]
    }
   ],
   "source": [
    "# Bitwise Operators in Python:\n",
    "# &, |, ^, ~, <<, >>\n",
    "a = 10  # 1010 in binary\n",
    "b = 4   # 0100 in binary\n",
    "# &: Bitwise AND\n",
    "print(\"a & b =\", a & b)  # Output: 0 (0000 in binary)\n",
    "# |: Bitwise OR\n",
    "print(\"a | b =\", a | b)  # Output: 14 (1110 in binary)\n",
    "# ^: Bitwise XOR\n",
    "print(\"a ^ b =\", a ^ b)  # Output: 14 (1110 in binary)\n",
    "# ~: Bitwise NOT\n",
    "print(\"~a =\", ~a)  # Output: -11 (inverts bits)\n",
    "# <<: Left Shift\n",
    "print(\"a << 2 =\", a << 2)  # Output: 40 (10100 in binary)\n",
    "# >>: Right Shift\n",
    "print(\"a >> 2 =\", a >> 2)  # Output: 2 (0010 in binary)\n"
   ]
  },
  {
   "cell_type": "code",
   "execution_count": 3,
   "id": "ed2647f8",
   "metadata": {},
   "outputs": [
    {
     "name": "stdout",
     "output_type": "stream",
     "text": [
      "24\n",
      "1\n"
     ]
    }
   ],
   "source": [
    "a = 10\n",
    "b = 6\n",
    "print(b<<2)\n",
    "print(b>>2)"
   ]
  },
  {
   "cell_type": "code",
   "execution_count": 4,
   "id": "ccb89fc9",
   "metadata": {},
   "outputs": [
    {
     "name": "stdout",
     "output_type": "stream",
     "text": [
      "14\n"
     ]
    }
   ],
   "source": [
    "print(a|b)"
   ]
  },
  {
   "cell_type": "code",
   "execution_count": null,
   "id": "7f8fc12b",
   "metadata": {},
   "outputs": [
    {
     "name": "stdout",
     "output_type": "stream",
     "text": [
      "x = 5\n",
      "x after x += y: 10\n",
      "x after x -= y: 5\n",
      "x after x *= y: 25\n",
      "x after x /= y: 5.0\n",
      "x after x //= y: 1.0\n",
      "x after x %= y: 1.0\n",
      "x after x **= 2: 1.0\n"
     ]
    }
   ],
   "source": [
    "# Assignment Operators in Python:\n",
    "# =, +=, -=, *=, /=, //=, %=, **=\n",
    "x = 5\n",
    "y = x\n",
    "# =: Assignment\n",
    "print(\"x =\", x)\n",
    "# +=: Add and assign\n",
    "x += y  # x = x + \n",
    "print(\"x after x += y:\", x)  \n",
    "# -=: Subtract and assign\n",
    "x -= y  # x = x - y\n",
    "print(\"x after x -= y:\", x)  \n",
    "# *=: Multiply and assign\n",
    "x *= y  # x = x * y\n",
    "print(\"x after x *= y:\", x)  \n",
    "# /=: Divide and assign\n",
    "x /= y  # x = x / y\n",
    "print(\"x after x /= y:\", x) \n",
    "# //=: Floor divide and assign\n",
    "x //= y  # x = x // y\n",
    "print(\"x after x //= y:\", x)  \n",
    "# %=: Modulus and assign\n",
    "x %= y  # x = x % y\n",
    "print(\"x after x %= y:\", x)  \n",
    "# **=: Exponentiate and assign\n",
    "x **= 2  # x = x ** 2\n",
    "print(\"x after x **= 2:\", x)  \n",
    "# Using variables with assignment operators"
   ]
  },
  {
   "cell_type": "code",
   "execution_count": 11,
   "id": "ebf06010",
   "metadata": {},
   "outputs": [
    {
     "name": "stdout",
     "output_type": "stream",
     "text": [
      "a after a += b: 30\n",
      "b after b -= a: -10\n",
      "b after b *= a: -300\n",
      "b after b /= a: -10.0\n",
      "b after b //= a: -1.0\n",
      "b after b %= a: 29.0\n"
     ]
    }
   ],
   "source": [
    "a = 10\n",
    "b = 20\n",
    "a +=b \n",
    "print(\"a after a += b:\", a)  # Output: 30\n",
    "b -= a\n",
    "print(\"b after b -= a:\", b)  # Output: -10\n",
    "b *= a\n",
    "print(\"b after b *= a:\", b)  # Output: -300\n",
    "b /= a\n",
    "print(\"b after b /= a:\", b)  # Output: -10.0\n",
    "b //= a\n",
    "print(\"b after b //= a:\", b)  # Output: -1.0\n",
    "b %= a\n",
    "print(\"b after b %= a:\", b)  # Output: 20.0"
   ]
  },
  {
   "cell_type": "markdown",
   "id": "7a23d804",
   "metadata": {},
   "source": [
    "# Identity Operators in Python\n",
    "- In Python, is and is not are the identity operators both are used to check if two values are located on the same part of the memory. Two variables that are equal do not imply that they are identical. \n",
    "- is          True if the operands are identical \n",
    "- is not      True if the operands are not  identical "
   ]
  },
  {
   "cell_type": "code",
   "execution_count": 12,
   "id": "2fa30213",
   "metadata": {},
   "outputs": [
    {
     "name": "stdout",
     "output_type": "stream",
     "text": [
      "True\n",
      "True\n",
      "False\n",
      "False\n"
     ]
    }
   ],
   "source": [
    "a = 10\n",
    "b = 20\n",
    "c = a\n",
    "print(a is not b)  # Output: True (a and b are not the same object) \n",
    "print(a is c)      # Output: True (a and c refer to the same object)\n",
    "print(a is b)      # Output: False (a and b are different objects)\n",
    "print(a is not c)  # Output: False (a and c refer to the same object)\n",
    "# Identity Operators in Python:"
   ]
  },
  {
   "cell_type": "markdown",
   "id": "6c93442f",
   "metadata": {},
   "source": [
    "# Membership Operators in python\n",
    "- In Python, in and not in are the membership operators that are used to test whether a value or variable is in a sequence.\n",
    "- in            True if value is found in the sequence\n",
    "- not in        True if value is not found in the sequence"
   ]
  },
  {
   "cell_type": "code",
   "execution_count": 17,
   "id": "6b7488a3",
   "metadata": {},
   "outputs": [
    {
     "name": "stdout",
     "output_type": "stream",
     "text": [
      "True\n",
      "False\n"
     ]
    }
   ],
   "source": [
    "x = 30\n",
    "y = 60\n",
    "list = [10, 20, 30, 40, 50, 70]\n",
    "# in: Membership operator\n",
    "print(x in list)  # Output: True (30 is in the list)\n",
    "print(y in list)  # Output: true (50 is in the list)\n"
   ]
  },
  {
   "cell_type": "code",
   "execution_count": 18,
   "id": "66b1b55e",
   "metadata": {},
   "outputs": [
    {
     "name": "stdout",
     "output_type": "stream",
     "text": [
      "30 is in the list\n",
      "60 is not in the list\n"
     ]
    }
   ],
   "source": [
    "if (x not in list):\n",
    "    print(x, \"is not in the list\")  # Output: 30 is not in the list\n",
    "else:\n",
    "    print(x, \"is in the list\")\n",
    "if (y not in list):\n",
    "    print(y, \"is not in the list\")  # Output: 60 is not in the list\n",
    "else:\n",
    "    print(y, \"is in the list\")\n",
    "# not in: Membership operator\n"
   ]
  },
  {
   "cell_type": "code",
   "execution_count": null,
   "id": "646943de",
   "metadata": {},
   "outputs": [],
   "source": []
  },
  {
   "cell_type": "markdown",
   "id": "9264a760",
   "metadata": {},
   "source": [
    "# Ternary Operator in Python\n",
    "- In Python, Ternary operators also known as conditional expressions are operators that evaluate something based on a condition being true or false."
   ]
  },
  {
   "cell_type": "code",
   "execution_count": 19,
   "id": "b8ec42da",
   "metadata": {},
   "outputs": [
    {
     "name": "stdout",
     "output_type": "stream",
     "text": [
      "b is greater than a\n"
     ]
    }
   ],
   "source": [
    "a, b = 10, 20\n",
    "# Ternary Operator in Python (Conditional Expression)\n",
    "result = \"a is greater than b\" if a > b else \"b is greater than a\"\n",
    "print(result)  # Output: b is greater than a"
   ]
  },
  {
   "cell_type": "code",
   "execution_count": 20,
   "id": "bd50e41e",
   "metadata": {},
   "outputs": [
    {
     "name": "stdout",
     "output_type": "stream",
     "text": [
      "Minimum value is: 10\n"
     ]
    }
   ],
   "source": [
    "min = a if a< b else b\n",
    "print(\"Minimum value is:\", min)  # Output: Minimum value is: 10"
   ]
  },
  {
   "cell_type": "code",
   "execution_count": 21,
   "id": "249a5812",
   "metadata": {},
   "outputs": [
    {
     "name": "stdout",
     "output_type": "stream",
     "text": [
      "3\n"
     ]
    }
   ],
   "source": [
    "nums = [1, 2, 3, 4, 5]\n",
    "print(nums[0] + nums [1])"
   ]
  },
  {
   "cell_type": "markdown",
   "id": "4afffef6",
   "metadata": {},
   "source": [
    "# Operator Precedence in Python\n",
    "- This is used in an expression with more than one operator with different precedence to determine which operation to perform first."
   ]
  },
  {
   "cell_type": "code",
   "execution_count": null,
   "id": "60a110b1",
   "metadata": {},
   "outputs": [
    {
     "name": "stdout",
     "output_type": "stream",
     "text": [
      "Result of expression: 607.5\n"
     ]
    }
   ],
   "source": [
    "expr = 10 + 20 * 30 - 5 / 2\n",
    "print(\"Result of expression:\", expr)  # Output: Result of expression: 607.5\n"
   ]
  },
  {
   "cell_type": "code",
   "execution_count": 23,
   "id": "6e391b92",
   "metadata": {},
   "outputs": [
    {
     "name": "stdout",
     "output_type": "stream",
     "text": [
      "Welcome, Alice! You are an adult.\n"
     ]
    }
   ],
   "source": [
    "name = \"Alice\"\n",
    "age = 30\n",
    "\n",
    "if name == \"Alice\" or name == \" Alex\" and age > 18:\n",
    "    print(\"Welcome, Alice! You are an adult.\")\n",
    "else:\n",
    "    print(\"Access denied. You are not Alice or not an adult.\")\n",
    "\n",
    "    "
   ]
  },
  {
   "cell_type": "markdown",
   "id": "789136fa",
   "metadata": {},
   "source": [
    "# Operator Associativity in Python\n",
    "- If an expression contains two or more operators with the same precedence then Operator Associativity is used to determine. It can either be Left to Right or from Right to Left"
   ]
  },
  {
   "cell_type": "code",
   "execution_count": 24,
   "id": "45e36ad1",
   "metadata": {},
   "outputs": [
    {
     "name": "stdout",
     "output_type": "stream",
     "text": [
      "97.0\n",
      "97\n",
      "6\n",
      "8\n",
      "10\n",
      "10.5\n",
      "512\n"
     ]
    }
   ],
   "source": [
    "print(100/ 10 * 10 - 5 + 2)  \n",
    "print(100 // 10 * 10 - 5 + 2)\n",
    "print(5 - 2 + 3)\n",
    "print(5 * 2 - 3 + 1)\n",
    "print(5 + 2 * 3 - 1)\n",
    "print(5 + 2 * 3 - 1 / 2)\n",
    "print(2 ** 3 ** 2)"
   ]
  },
  {
   "cell_type": "code",
   "execution_count": null,
   "id": "b2703d51",
   "metadata": {},
   "outputs": [],
   "source": []
  }
 ],
 "metadata": {
  "kernelspec": {
   "display_name": "Python 3",
   "language": "python",
   "name": "python3"
  },
  "language_info": {
   "codemirror_mode": {
    "name": "ipython",
    "version": 3
   },
   "file_extension": ".py",
   "mimetype": "text/x-python",
   "name": "python",
   "nbconvert_exporter": "python",
   "pygments_lexer": "ipython3",
   "version": "3.12.1"
  }
 },
 "nbformat": 4,
 "nbformat_minor": 5
}
