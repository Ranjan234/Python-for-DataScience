{
 "cells": [
  {
   "cell_type": "code",
   "execution_count": 3,
   "id": "ba95d415",
   "metadata": {},
   "outputs": [
    {
     "name": "stdout",
     "output_type": "stream",
     "text": [
      "Sum of first 10 natural number is : 55\n"
     ]
    }
   ],
   "source": [
    "#1. W.A.P to cimpute the sum of first 10 natural nos.\n",
    "i = 1\n",
    "total = 0\n",
    "while (i<= 10):\n",
    "    total = total + i\n",
    "    i = i +1\n",
    "print(\"Sum of first 10 natural number is :\", total)    "
   ]
  },
  {
   "cell_type": "code",
   "execution_count": 4,
   "id": "42f52faa",
   "metadata": {},
   "outputs": [
    {
     "name": "stdout",
     "output_type": "stream",
     "text": [
      "Sum of digits: 7\n"
     ]
    }
   ],
   "source": [
    "# W.A.P to compute sum of digits in a given number\n",
    "# input : enter any number : 125\n",
    "# output : sum of digits = 8\n",
    "n  =int (input(\"Enter any numebr\"))\n",
    "total = 0\n",
    "\n",
    "while(n>0):\n",
    "    d = n % 10\n",
    "    total = total + d\n",
    "    n = n//10\n",
    "print(\"Sum of digits:\", total)    "
   ]
  },
  {
   "cell_type": "code",
   "execution_count": 5,
   "id": "0733683c",
   "metadata": {},
   "outputs": [
    {
     "name": "stdout",
     "output_type": "stream",
     "text": [
      "1 2 3 4 5 6 7 8 9 10 "
     ]
    }
   ],
   "source": [
    "# W.A.p to display numbers from 1 to n\n",
    "# input - 10\n",
    "# output - 1 2 3 4 5 6 7 8 9 10\n",
    "n = int(input(\"Enter the value of n:\"))\n",
    "for i in range(1, n+1):\n",
    "    print(i, end=' ')"
   ]
  },
  {
   "cell_type": "code",
   "execution_count": null,
   "id": "7e0e04f2",
   "metadata": {},
   "outputs": [
    {
     "name": "stdout",
     "output_type": "stream",
     "text": [
      "The factorial is: 120\n"
     ]
    }
   ],
   "source": [
    "# W.A.P to find the factorial of a given number.\n",
    "# input = 5\n",
    "# output = 120\n",
    "\n",
    "n = int (input(\"Enter the value of n:\"))\n",
    "f = 1\n",
    "for i in range(1, n+1):\n",
    "    f = f * i\n",
    "print(\"The factorial is:\", f)    \n",
    "\n"
   ]
  },
  {
   "cell_type": "code",
   "execution_count": 7,
   "id": "70dd154d",
   "metadata": {},
   "outputs": [
    {
     "name": "stdout",
     "output_type": "stream",
     "text": [
      "n value must be non-negative value\n",
      "The factorial is: 1\n"
     ]
    }
   ],
   "source": [
    "# W.A.P to find the factorial of a given number.using non-negative value\n",
    "# input = -5\n",
    "# output = 120\n",
    "\n",
    "n = int (input(\"Enter the value of n:\"))\n",
    "f = 1\n",
    "if (n<0):\n",
    "    print(\"n value must be non-negative value\")\n",
    "else:    \n",
    "  for i in range(1, n+1):\n",
    "    f = f * i\n",
    "print(\"The factorial is:\", f) "
   ]
  },
  {
   "cell_type": "markdown",
   "id": "35b515cc",
   "metadata": {},
   "source": [
    "## Using function"
   ]
  },
  {
   "cell_type": "code",
   "execution_count": 13,
   "id": "b1f76cde",
   "metadata": {},
   "outputs": [
    {
     "name": "stdout",
     "output_type": "stream",
     "text": [
      "Hello soumya\n"
     ]
    }
   ],
   "source": [
    "# Try taking a user input and printing space separated “Hello” and input (without quotes) in the editor below.\n",
    "\n",
    "def main():\n",
    "    user_input = input(\"Enter something: \")\n",
    "    print(\"Hello\", user_input)\n",
    "    return 0 \n",
    "\n",
    "if __name__ == \"__main__\":\n",
    "    main()"
   ]
  },
  {
   "cell_type": "code",
   "execution_count": null,
   "id": "50e6656a",
   "metadata": {},
   "outputs": [
    {
     "name": "stdout",
     "output_type": "stream",
     "text": [
      "Sum: 15\n",
      "Difference: 9\n",
      "Product: 36\n",
      "Quotient: 4.0\n",
      "Remainder: 0\n",
      "Exponentiation: 1728\n",
      "Integer Division: 4\n"
     ]
    }
   ],
   "source": [
    "# Arithmetic Operators on numbers\n",
    "def main():\n",
    "    # Read two integers from the user in one line, separated by space\n",
    "    a_str, b_str = input().split()\n",
    "    a = int(a_str)\n",
    "    b = int(b_str)\n",
    "\n",
    "    # print the sum of the two numbers\n",
    "    print(\"Sum:\", a + b)\n",
    "\n",
    "    # print the difference of the two numbers\n",
    "    print(\"Difference:\", a - b)\n",
    "\n",
    "    # print the product of the two numbers\n",
    "    print(\"Product:\", a * b)\n",
    "\n",
    "    # print the quotient of the two numbers\n",
    "    if b != 0:\n",
    "        print(\"Quotient:\", a / b)\n",
    "    else:\n",
    "        print(\"Cannot divide by zero\")\n",
    "\n",
    "    # print the remainder of the two numbers\n",
    "    if b != 0:\n",
    "        print(\"Remainder:\", a % b)\n",
    "    else:\n",
    "        print(\"Cannot divide by zero for remainder\")\n",
    "\n",
    "    # print the exponentiation of the two numbers\n",
    "    print(\"Exponentiation:\", a ** b)\n",
    "\n",
    "    # print the integer division of the two numbers\n",
    "    if b != 0:\n",
    "        print(\"Integer Division:\", a // b)\n",
    "    else:\n",
    "        print(\"Cannot divide by zero for integer division\")\n",
    "\n",
    "\n",
    "\n",
    "if __name__ == \"__main__\":\n",
    "     main()\n"
   ]
  },
  {
   "cell_type": "code",
   "execution_count": 11,
   "id": "17bec617",
   "metadata": {},
   "outputs": [
    {
     "name": "stdout",
     "output_type": "stream",
     "text": [
      "Concatenation: Hellosoumya\n",
      "Repetition: HelloHelloHelloHelloHelloHello\n",
      "'Hello' is not a substring of 'soumya'\n"
     ]
    }
   ],
   "source": [
    "# Arithmetic Operators on strings\n",
    "def string_operations():\n",
    "    # Read two strings from the user in one line, separated by space\n",
    "    str1, str2 = input().split()\n",
    "\n",
    "    # Concatenate the two strings\n",
    "    print(\"Concatenation:\", str1 + str2)\n",
    "\n",
    "    # Repeat the first string a number of times equal to the length of the second string\n",
    "    print(\"Repetition:\", str1 * len(str2))\n",
    "\n",
    "    # Check if the first string is a substring of the second\n",
    "    if str1 in str2:\n",
    "        print(f\"'{str1}' is a substring of '{str2}'\")\n",
    "    else:\n",
    "        print(f\"'{str1}' is not a substring of '{str2}'\")\n",
    "\n",
    "\n",
    "if __name__ == \"__main__\":\n",
    "    string_operations()   \n"
   ]
  },
  {
   "cell_type": "code",
   "execution_count": 14,
   "id": "aa38ea3c",
   "metadata": {},
   "outputs": [
    {
     "name": "stdout",
     "output_type": "stream",
     "text": [
      "String1: InterviewBit\n",
      "String2: Don't change the variable name\n",
      "Integer: 11\n",
      "Float: 20.000000\n"
     ]
    }
   ],
   "source": [
    "def main():\n",
    "    # Assign values to the following variable as described above\n",
    "    # Don't change the variable name\n",
    "    my_string1 = \"InterviewBit\"\n",
    "    my_string2 = \"Don't change the variable name\"\n",
    "    my_int = int(11.0)\n",
    "    my_float = float(20)\n",
    "    \n",
    "    # Don't change the below code\n",
    "    print(\"String1: %s\" % my_string1)\n",
    "    print(\"String2: %s\" % my_string2)\n",
    "    print(\"Integer: %d\" % my_int)\n",
    "    print(\"Float: %f\" % my_float)\n",
    "    return 0\n",
    "\n",
    "if __name__ == '__main__':\n",
    "    main()"
   ]
  }
 ],
 "metadata": {
  "kernelspec": {
   "display_name": "Python 3",
   "language": "python",
   "name": "python3"
  },
  "language_info": {
   "codemirror_mode": {
    "name": "ipython",
    "version": 3
   },
   "file_extension": ".py",
   "mimetype": "text/x-python",
   "name": "python",
   "nbconvert_exporter": "python",
   "pygments_lexer": "ipython3",
   "version": "3.12.1"
  }
 },
 "nbformat": 4,
 "nbformat_minor": 5
}
