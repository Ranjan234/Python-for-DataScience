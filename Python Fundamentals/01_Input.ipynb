{
 "cells": [
  {
   "cell_type": "markdown",
   "id": "8bef67fe",
   "metadata": {},
   "source": [
    " Python input() function is used to take user input. By default, it returns the user input in form of a string. "
   ]
  },
  {
   "cell_type": "code",
   "execution_count": 4,
   "id": "95b09dc9",
   "metadata": {},
   "outputs": [
    {
     "name": "stdout",
     "output_type": "stream",
     "text": [
      "Hello, soumya | Welcome !\n"
     ]
    }
   ],
   "source": [
    "Name = input(\"Enter Your name:\")\n",
    "print(\"Hello,\", Name, \"| Welcome !\")"
   ]
  },
  {
   "cell_type": "markdown",
   "id": "1e12a504",
   "metadata": {},
   "source": [
    "# Take multiple input in python\n",
    "- We are taking multiple input from the user in a single line spliting the values entered by the user into separate variables for each value using the split() method."
   ]
  },
  {
   "cell_type": "code",
   "execution_count": 6,
   "id": "c6c0ad8a",
   "metadata": {},
   "outputs": [
    {
     "name": "stdout",
     "output_type": "stream",
     "text": [
      "Number of boys: 34\n",
      "Number of girls: 45\n"
     ]
    }
   ],
   "source": [
    "# taking two inputs at a time \n",
    "x, y = input(\"Enter two values :\").split()\n",
    "print(\"Number of boys:\", x)\n",
    "print(\"Number of girls:\", y)"
   ]
  },
  {
   "cell_type": "code",
   "execution_count": 8,
   "id": "87a5a012",
   "metadata": {},
   "outputs": [
    {
     "name": "stdout",
     "output_type": "stream",
     "text": [
      "Total number of students: 40\n",
      "No of boys: 30\n",
      "No of girls: 10\n"
     ]
    }
   ],
   "source": [
    "# taking three input at a time\n",
    "x, y, z = input(\"Enter three values:\" ).split()\n",
    "print(\"Total number of students:\", x)\n",
    "print(\"No of boys:\", y)\n",
    "print(\"No of girls:\", z)"
   ]
  },
  {
   "cell_type": "markdown",
   "id": "9e68180e",
   "metadata": {},
   "source": [
    "# Take conditional input from user in python."
   ]
  },
  {
   "cell_type": "code",
   "execution_count": 9,
   "id": "72bfafa7",
   "metadata": {},
   "outputs": [
    {
     "name": "stdout",
     "output_type": "stream",
     "text": [
      "You are an adult.\n"
     ]
    }
   ],
   "source": [
    "# Promting the user for input\n",
    "age_input = input(\"Enter your age:\")\n",
    "\n",
    "# Converting the input to an integer\n",
    "age = int(age_input)\n",
    "\n",
    "# Checking conditions based on user input\n",
    "if age < 0:\n",
    "    print(\"Please enter a valid age.\")\n",
    "elif age < 18 :\n",
    "    print(\"You are a minor.\")   \n",
    "elif age >= 18 and age < 65:\n",
    "    print(\"You are an adult.\")\n",
    "else:\n",
    "    print(\"You are a senior citizen.\")    \n"
   ]
  },
  {
   "cell_type": "markdown",
   "id": "51d77fcd",
   "metadata": {},
   "source": [
    "## How to change the type of input in python\n",
    "- By default input() function helps in taking user as string. if any user wants to take input as int or float, we just need to typecast it."
   ]
  },
  {
   "cell_type": "code",
   "execution_count": 10,
   "id": "20b6bb48",
   "metadata": {},
   "outputs": [
    {
     "name": "stdout",
     "output_type": "stream",
     "text": [
      "red\n"
     ]
    }
   ],
   "source": [
    "# Taking input as string \n",
    "color = input(\"What color is rose?: \")\n",
    "print(color)"
   ]
  },
  {
   "cell_type": "code",
   "execution_count": null,
   "id": "79155e86",
   "metadata": {},
   "outputs": [
    {
     "name": "stdout",
     "output_type": "stream",
     "text": [
      "40\n"
     ]
    }
   ],
   "source": [
    "# Taking input as int\n",
    "# Typecasting to int\n",
    "n = int(input(\"How many roses?: \"))\n",
    "print(n)"
   ]
  },
  {
   "cell_type": "code",
   "execution_count": 12,
   "id": "95144a16",
   "metadata": {},
   "outputs": [
    {
     "data": {
      "text/plain": [
       "30.0"
      ]
     },
     "execution_count": 12,
     "metadata": {},
     "output_type": "execute_result"
    }
   ],
   "source": [
    "# Taking input as float\n",
    "# Typecasting to float\n",
    "price = float(input(\"Price of the rose :\"))\n",
    "price"
   ]
  },
  {
   "cell_type": "code",
   "execution_count": 3,
   "id": "c430a01d",
   "metadata": {},
   "outputs": [
    {
     "data": {
      "text/plain": [
       "20"
      ]
     },
     "execution_count": 3,
     "metadata": {},
     "output_type": "execute_result"
    }
   ],
   "source": [
    "float(10)\n",
    "str(10)\n",
    "int(20.0)"
   ]
  },
  {
   "cell_type": "code",
   "execution_count": 6,
   "id": "37c5da12",
   "metadata": {},
   "outputs": [
    {
     "name": "stdout",
     "output_type": "stream",
     "text": [
      "Average of two no.:  0.5\n",
      "0.5\n"
     ]
    }
   ],
   "source": [
    "a = int(input(\"Enter first no.:\"))\n",
    "b = int(input(\"Enter second no.\"))\n",
    "avg = a / b\n",
    "print(\"Average of two no.: \", avg)\n",
    "print(round(avg, 2))"
   ]
  },
  {
   "cell_type": "code",
   "execution_count": 8,
   "id": "24578cfb",
   "metadata": {},
   "outputs": [
    {
     "name": "stdout",
     "output_type": "stream",
     "text": [
      "The arae of circle: 78.53\n",
      "Circumeference of the circle : 31.412\n"
     ]
    }
   ],
   "source": [
    "radius = float(input(\"Enter the radius\"))\n",
    "area = 3.1412 * radius * radius\n",
    "circumeference = 2 * 3.1412 * radius\n",
    "print(\"The arae of circle:\", area)\n",
    "print(\"Circumeference of the circle :\", circumeference)"
   ]
  },
  {
   "cell_type": "code",
   "execution_count": 13,
   "id": "0216c42b",
   "metadata": {},
   "outputs": [
    {
     "name": "stdout",
     "output_type": "stream",
     "text": [
      "<class 'str'>\n",
      "<class 'int'>\n",
      "<class 'float'>\n",
      "<class 'tuple'>\n",
      "<class 'list'>\n",
      "<class 'dict'>\n"
     ]
    }
   ],
   "source": [
    "# Find DataType of input in Python\n",
    "\n",
    "a = \"Hello Soumya\"\n",
    "b = 300\n",
    "c = 499.0\n",
    "d = (\"som\", \"agni\",\"lima\")\n",
    "e = [\"Deba\", \"love\" \"Yopu\"]\n",
    "f = {\"name\":\"lima\", \"age\":23, \"place\":\"jajpur\"}\n",
    "\n",
    "print(type(a))\n",
    "print(type(b))\n",
    "print(type(c))\n",
    "print(type(d))\n",
    "print(type(e))\n",
    "print(type(f))"
   ]
  },
  {
   "cell_type": "markdown",
   "id": "56b36a40",
   "metadata": {},
   "source": [
    "# Output Formating\n",
    "- Output formatting in python with various techniques including the format() method, manipulation of the sep and end parameters, f-string and the versatile % operator."
   ]
  },
  {
   "cell_type": "code",
   "execution_count": 2,
   "id": "42d40fc9",
   "metadata": {},
   "outputs": [
    {
     "name": "stdout",
     "output_type": "stream",
     "text": [
      "Amount: $150.78\n"
     ]
    }
   ],
   "source": [
    "amount = 150.78\n",
    "print(\"Amount: ${:.2f}\". format(amount))"
   ]
  },
  {
   "cell_type": "code",
   "execution_count": 3,
   "id": "d619b726",
   "metadata": {},
   "outputs": [
    {
     "name": "stdout",
     "output_type": "stream",
     "text": [
      "Python@GeeksforGeeks\n"
     ]
    }
   ],
   "source": [
    "# end parameter with '@'\n",
    "print(\"Python\", end='@')\n",
    "print(\"GeeksforGeeks\")"
   ]
  },
  {
   "cell_type": "code",
   "execution_count": 8,
   "id": "27979cbd",
   "metadata": {},
   "outputs": [
    {
     "name": "stdout",
     "output_type": "stream",
     "text": [
      "SOU\n",
      "25-05-2025\n",
      "soumya@geeksforgeeks\n"
     ]
    }
   ],
   "source": [
    "# Separating with comma\n",
    "print('S', 'O','U', sep = '')\n",
    "\n",
    "# for formatting a date\n",
    "print('25', '05', '2025', sep = '-')\n",
    "\n",
    "# another\n",
    "print('soumya','geeksforgeeks', sep = '@')"
   ]
  },
  {
   "cell_type": "code",
   "execution_count": 15,
   "id": "3428c111",
   "metadata": {},
   "outputs": [
    {
     "name": "stdout",
     "output_type": "stream",
     "text": [
      "Hello, My name is Debasmita and I'm 23 years old.\n",
      "My name is Soumya Ranjan Sahoo. I belong from BBSR and 25 yrs old. I am a Data Analyst.\n"
     ]
    }
   ],
   "source": [
    "# using F-string\n",
    "name = 'Debasmita'\n",
    "age =  23\n",
    "print(f\"Hello, My name is {name} and I'm {age} years old.\")\n",
    "\n",
    "#\n",
    "Name = 'Soumya Ranjan Sahoo'\n",
    "Age = 25\n",
    "City = 'BBSR'\n",
    "Designation = 'Data Analyst'\n",
    "print(f\"My name is {Name}. I belong from {City} and {Age} yrs old. I am a {Designation}.\")"
   ]
  },
  {
   "cell_type": "markdown",
   "id": "0c935f4b",
   "metadata": {},
   "source": [
    "# Using % operator\n",
    "- We can use '%' operator. % values are replaced with zero or more value of elements. The formatting using % is smaller to that of 'printf' in the c programming olanguage.\n",
    "* %d - Integer\n",
    "* %f- Float\n",
    "* %s - String\n",
    "* %x - Hexadecimal\n",
    "* %o - Octal"
   ]
  },
  {
   "cell_type": "code",
   "execution_count": 18,
   "id": "f90b58d2",
   "metadata": {},
   "outputs": [
    {
     "name": "stdout",
     "output_type": "stream",
     "text": [
      "The sum is 55\n"
     ]
    }
   ],
   "source": [
    "# Using % Operator\n",
    "# Taking input from the user\n",
    "num = int(input(\"Enter a value\"))\n",
    "\n",
    "add = num + 5\n",
    "\n",
    "print(\"The sum is %d\" %add)"
   ]
  },
  {
   "cell_type": "code",
   "execution_count": null,
   "id": "404a2736",
   "metadata": {},
   "outputs": [],
   "source": []
  }
 ],
 "metadata": {
  "kernelspec": {
   "display_name": "Python 3",
   "language": "python",
   "name": "python3"
  },
  "language_info": {
   "codemirror_mode": {
    "name": "ipython",
    "version": 3
   },
   "file_extension": ".py",
   "mimetype": "text/x-python",
   "name": "python",
   "nbconvert_exporter": "python",
   "pygments_lexer": "ipython3",
   "version": "3.12.1"
  }
 },
 "nbformat": 4,
 "nbformat_minor": 5
}
