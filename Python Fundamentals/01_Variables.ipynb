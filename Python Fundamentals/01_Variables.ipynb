{
 "cells": [
  {
   "cell_type": "markdown",
   "id": "1b87e05b",
   "metadata": {},
   "source": [
    "# Variables\n",
    "- A variable is a location in memory used to some data(value)\n",
    "- They are given unique names to differentiate between different memory locations. \n",
    "- The rules for writting a variable name is same as the rules for writting identifiers in Python.\n"
   ]
  },
  {
   "cell_type": "markdown",
   "id": "aa6483d9",
   "metadata": {},
   "source": []
  },
  {
   "cell_type": "code",
   "execution_count": null,
   "id": "bc2617c0",
   "metadata": {},
   "outputs": [
    {
     "name": "stdout",
     "output_type": "stream",
     "text": [
      "4 5 Soumya\n"
     ]
    }
   ],
   "source": [
    "# We use the assignment operator(=) to assign values to a variable\n",
    "a = 4\n",
    "b = 5\n",
    "c = \"Soumya\"\n",
    "\n",
    "print(a, b,c)"
   ]
  },
  {
   "cell_type": "code",
   "execution_count": 9,
   "id": "aa99ebf8",
   "metadata": {},
   "outputs": [
    {
     "name": "stdout",
     "output_type": "stream",
     "text": [
      "34 56 ML\n",
      "Soumya Soumya Soumya\n"
     ]
    }
   ],
   "source": [
    "# Assign multiple variable \n",
    "a, b, c = 34, 56, \"ML\"\n",
    "print(a, b, c)\n",
    "\n",
    "a = b = c = \"Soumya\" # assing same value to multiple variables at once.\n",
    "\n",
    "print(a, b,c)"
   ]
  },
  {
   "cell_type": "markdown",
   "id": "5b7e2e86",
   "metadata": {},
   "source": [
    "# Storage Location"
   ]
  },
  {
   "cell_type": "code",
   "execution_count": null,
   "id": "9c884570",
   "metadata": {},
   "outputs": [
    {
     "name": "stdout",
     "output_type": "stream",
     "text": [
      "108695621601320\n",
      "108695621601320\n"
     ]
    }
   ],
   "source": [
    "x = 5\n",
    "y = 5\n",
    "print(id(x))  # print address of variable x\n",
    "print(id(y))  # print address of variable of y\n",
    "# x and y points to same memory location"
   ]
  },
  {
   "cell_type": "code",
   "execution_count": 14,
   "id": "cb16778c",
   "metadata": {},
   "outputs": [
    {
     "name": "stdout",
     "output_type": "stream",
     "text": [
      "108695621601352\n"
     ]
    }
   ],
   "source": [
    "y = 6\n",
    "print(id(y))"
   ]
  },
  {
   "cell_type": "code",
   "execution_count": 1,
   "id": "186ca06b",
   "metadata": {},
   "outputs": [],
   "source": [
    "age = 35\n",
    "_color = \"Red\"\n",
    "total_score = 40"
   ]
  },
  {
   "cell_type": "code",
   "execution_count": 2,
   "id": "b8e35253",
   "metadata": {},
   "outputs": [
    {
     "ename": "SyntaxError",
     "evalue": "invalid decimal literal (3742342830.py, line 2)",
     "output_type": "error",
     "traceback": [
      "  \u001b[36mCell\u001b[39m\u001b[36m \u001b[39m\u001b[32mIn[2]\u001b[39m\u001b[32m, line 2\u001b[39m\n\u001b[31m    \u001b[39m\u001b[31m1name = \"error\" # starts with digit\u001b[39m\n    ^\n\u001b[31mSyntaxError\u001b[39m\u001b[31m:\u001b[39m invalid decimal literal\n"
     ]
    }
   ],
   "source": [
    "# invalid variables\n",
    "1name = \"error\" # starts with digit\n",
    "class = 10  # class is a keyword\n",
    "user-name = \"Doe\" # contains a hypen\n"
   ]
  },
  {
   "cell_type": "markdown",
   "id": "9e94161a",
   "metadata": {},
   "source": [
    "# Type casting variable\n",
    "-  Type casting refers to the process of converting the value of one data type into another. Python provides several built-in functions to facilitate casting, including int(), float() and string() among there."
   ]
  },
  {
   "cell_type": "code",
   "execution_count": 4,
   "id": "72d8d497",
   "metadata": {},
   "outputs": [
    {
     "name": "stdout",
     "output_type": "stream",
     "text": [
      "28\n",
      "6.0\n",
      "35\n"
     ]
    }
   ],
   "source": [
    "# casting variables\n",
    "s = \"28\"  # Initialy a string\n",
    "n = int(s)  # Cast string to integer\n",
    "\n",
    "cnt = 6\n",
    "f  = float(cnt) # Cats integer to float\n",
    "\n",
    "age = 35\n",
    "a2 = str(age) #Cast integer to string\n",
    "\n",
    "print(s)\n",
    "print(f)\n",
    "print(a2)"
   ]
  },
  {
   "cell_type": "code",
   "execution_count": 5,
   "id": "18d0ba62",
   "metadata": {},
   "outputs": [
    {
     "name": "stdout",
     "output_type": "stream",
     "text": [
      "<class 'int'>\n",
      "<class 'float'>\n",
      "<class 'str'>\n",
      "<class 'list'>\n",
      "<class 'tuple'>\n",
      "<class 'dict'>\n",
      "<class 'bool'>\n"
     ]
    }
   ],
   "source": [
    "# Define variables with different data types\n",
    "n = 45\n",
    "f = 3.45\n",
    "s = \"soumya\"\n",
    "li = [2,3,4]\n",
    "d = (46,547,896)\n",
    "h = {'key':'value'}\n",
    "bool =True\n",
    "\n",
    "# print type of variables\n",
    "print(type(n))\n",
    "print(type(f))\n",
    "print(type(s))\n",
    "print(type(li))\n",
    "print(type(d))\n",
    "print(type(h))\n",
    "print(type(bool))"
   ]
  },
  {
   "cell_type": "markdown",
   "id": "28cdc5c5",
   "metadata": {},
   "source": [
    "# Scope of variables\n",
    "- There are two methods local and global variable."
   ]
  },
  {
   "cell_type": "code",
   "execution_count": 6,
   "id": "0454b3bf",
   "metadata": {},
   "outputs": [
    {
     "name": "stdout",
     "output_type": "stream",
     "text": [
      " I am local\n"
     ]
    }
   ],
   "source": [
    "# Local variable\n",
    "def f():\n",
    "    a = \" I am local\"\n",
    "    print(a)\n",
    "\n",
    "f()    "
   ]
  },
  {
   "cell_type": "code",
   "execution_count": 8,
   "id": "3df514c3",
   "metadata": {},
   "outputs": [
    {
     "name": "stdout",
     "output_type": "stream",
     "text": [
      " Modified globally\n",
      " Modified globally\n"
     ]
    }
   ],
   "source": [
    "# Global variable\n",
    "a = \"I am global\"\n",
    "\n",
    "def f():\n",
    "    global a \n",
    "    a = \" Modified globally\"\n",
    "    print(a)\n",
    "\n",
    "f()   \n",
    "print(a)"
   ]
  },
  {
   "cell_type": "markdown",
   "id": "d3743de5",
   "metadata": {},
   "source": [
    "# Delete a variable using del keyword"
   ]
  },
  {
   "cell_type": "code",
   "execution_count": 10,
   "id": "34cf4532",
   "metadata": {},
   "outputs": [
    {
     "name": "stdout",
     "output_type": "stream",
     "text": [
      "30\n"
     ]
    }
   ],
   "source": [
    "# Assigning value to variable\n",
    "x  = 30\n",
    "print(x) \n",
    "\n",
    "# removing the variable using del\n",
    "del x"
   ]
  },
  {
   "cell_type": "code",
   "execution_count": 11,
   "id": "6dad5306",
   "metadata": {},
   "outputs": [
    {
     "name": "stdout",
     "output_type": "stream",
     "text": [
      "59 5\n"
     ]
    }
   ],
   "source": [
    "# Swapping two variables\n",
    "# Using multiple  assignment, we can swap the values of two variables \n",
    "# without needing a temporary variable.\n",
    "a, b = 5, 59\n",
    "a, b = b, a\n",
    "print(a, b)"
   ]
  },
  {
   "cell_type": "code",
   "execution_count": 1,
   "id": "603db833",
   "metadata": {},
   "outputs": [
    {
     "name": "stdout",
     "output_type": "stream",
     "text": [
      "Before Swapping:\n",
      "a =  12 b =  11\n",
      "After Swapping:\n",
      "a =  11 b =  12\n"
     ]
    }
   ],
   "source": [
    "a = 12\n",
    "b = 11\n",
    "print(\"Before Swapping:\")\n",
    "print(\"a = \", a, \"b = \", b)\n",
    "a , b = b , a\n",
    "print(\"After Swapping:\")\n",
    "print(\"a = \", a, \"b = \", b)\n"
   ]
  },
  {
   "cell_type": "code",
   "execution_count": 2,
   "id": "0ca4ee81",
   "metadata": {},
   "outputs": [
    {
     "name": "stdout",
     "output_type": "stream",
     "text": [
      "Before Swapping:\n",
      "a =  12 b =  11\n",
      "After Swapping:\n",
      "a =  11 b =  12\n"
     ]
    }
   ],
   "source": [
    "a = 12\n",
    "b = 11\n",
    "print(\"Before Swapping:\")\n",
    "print(\"a = \", a, \"b = \", b)\n",
    "temp = a\n",
    "a = b\n",
    "b = temp\n",
    "print(\"After Swapping:\")\n",
    "print(\"a = \", a, \"b = \", b)"
   ]
  }
 ],
 "metadata": {
  "kernelspec": {
   "display_name": "Python 3",
   "language": "python",
   "name": "python3"
  },
  "language_info": {
   "codemirror_mode": {
    "name": "ipython",
    "version": 3
   },
   "file_extension": ".py",
   "mimetype": "text/x-python",
   "name": "python",
   "nbconvert_exporter": "python",
   "pygments_lexer": "ipython3",
   "version": "3.12.1"
  }
 },
 "nbformat": 4,
 "nbformat_minor": 5
}
