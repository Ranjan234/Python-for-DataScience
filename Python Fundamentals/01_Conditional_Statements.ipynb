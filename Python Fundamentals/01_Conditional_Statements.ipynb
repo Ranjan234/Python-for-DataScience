{
 "cells": [
  {
   "cell_type": "markdown",
   "id": "ee5a441a",
   "metadata": {},
   "source": [
    "<h3> Conditional statements in Python are used to execute certain blocks of code based on specific conditions. These statements help control the flow of a program, making it behave differently in different situations.</h3>\n",
    " "
   ]
  },
  {
   "cell_type": "markdown",
   "id": "c231d85d",
   "metadata": {},
   "source": [
    "<h3> If Conditional Statement in Python\n",
    "- If statement is the simplest form of a conditional statement. It executes a block of code if the given condition is true.</h3>"
   ]
  },
  {
   "cell_type": "markdown",
   "id": "6d5c92fa",
   "metadata": {},
   "source": [
    "if conditoin:\n",
    "     # body of if statement"
   ]
  },
  {
   "cell_type": "code",
   "execution_count": 1,
   "id": "e1cdaa4c",
   "metadata": {},
   "outputs": [
    {
     "name": "stdout",
     "output_type": "stream",
     "text": [
      "x is less than y\n"
     ]
    }
   ],
   "source": [
    "x = int(input(\"What's x?\"))\n",
    "y = int(input(\"what's y?\"))\n",
    "if x < y:\n",
    "    print(\"x is less than y\")\n",
    "if x > y:\n",
    "    print(\"x is greater than y\")\n",
    "if x == y:\n",
    "    print(\"x is equal to y\")        "
   ]
  },
  {
   "cell_type": "code",
   "execution_count": 2,
   "id": "c7c64519",
   "metadata": {},
   "outputs": [
    {
     "name": "stdout",
     "output_type": "stream",
     "text": [
      "Invalid marks\n"
     ]
    }
   ],
   "source": [
    "marks = int(input(\"Enter marks obtained in a test:\"))\n",
    "if (marks < 0 or marks > 100):\n",
    "    print(\"Invalid marks\")"
   ]
  },
  {
   "cell_type": "code",
   "execution_count": null,
   "id": "a6b17c9a",
   "metadata": {},
   "outputs": [],
   "source": []
  },
  {
   "cell_type": "markdown",
   "id": "fd94452f",
   "metadata": {},
   "source": [
    " if else statement\n",
    "\n",
    "if condition:\n",
    "   - block of code  if condition is true\n",
    "\n",
    "else: \n",
    "\n",
    "    - block of code if condition is flase\n"
   ]
  },
  {
   "cell_type": "code",
   "execution_count": 3,
   "id": "58b6391d",
   "metadata": {},
   "outputs": [
    {
     "name": "stdout",
     "output_type": "stream",
     "text": [
      "Even\n"
     ]
    }
   ],
   "source": [
    "x = int(input(\"What's x ?\"))\n",
    "\n",
    "if x % 2 == 0:\n",
    "    print(\"Even\")\n",
    "else:\n",
    "    print(\"Odd\")"
   ]
  },
  {
   "cell_type": "code",
   "execution_count": 4,
   "id": "a218ea2d",
   "metadata": {},
   "outputs": [
    {
     "name": "stdout",
     "output_type": "stream",
     "text": [
      "Given values not same\n"
     ]
    }
   ],
   "source": [
    "a = int(input(\"Enter value1:\"))\n",
    "b = int(input(\"Enter value2:\"))\n",
    "\n",
    "if (a==b):\n",
    "    print(\"Given values are same\")\n",
    "else:\n",
    "    print(\"Given values not same\")    \n",
    "\n"
   ]
  },
  {
   "cell_type": "code",
   "execution_count": null,
   "id": "f182ba8f",
   "metadata": {},
   "outputs": [
    {
     "name": "stdout",
     "output_type": "stream",
     "text": [
      "Result: Pass\n"
     ]
    }
   ],
   "source": [
    "# short hand if else\n",
    "marks = 45\n",
    "res = \"Pass\" if marks >= 40 else \"Fail\"\n",
    "\n",
    "print(f\"Result: {res}\")"
   ]
  },
  {
   "cell_type": "markdown",
   "id": "e8fa391d",
   "metadata": {},
   "source": [
    "# Nested if statement\n",
    "if condition1:\n",
    "\n",
    "   - statement block-1\n",
    "\n",
    "   if condition 2:\n",
    "\n",
    "  -  statement block -2"
   ]
  },
  {
   "cell_type": "code",
   "execution_count": 5,
   "id": "982e5a3d",
   "metadata": {},
   "outputs": [
    {
     "name": "stdout",
     "output_type": "stream",
     "text": [
      "Number is negative\n"
     ]
    }
   ],
   "source": [
    "Num = int(input(\"Enter a number:\\n\"))\n",
    "\n",
    "if (Num == 0 ):\n",
    "    if (Num >= 0):\n",
    "        print(\"Number is 0\")\n",
    "    else:\n",
    "        print(\"Number is positive \")\n",
    "else:\n",
    "    print(\"Number is negative\")        "
   ]
  },
  {
   "cell_type": "code",
   "execution_count": 11,
   "id": "e71454e8",
   "metadata": {},
   "outputs": [
    {
     "name": "stdout",
     "output_type": "stream",
     "text": [
      "30% senior discount!\n"
     ]
    }
   ],
   "source": [
    "age = 70\n",
    "is_member = True\n",
    "\n",
    "if age >= 60:\n",
    "    if is_member:\n",
    "        print(\"30% senior discount!\")\n",
    "    else:\n",
    "        print(\"20% senior discount.\")\n",
    "else:\n",
    "    print(\"Not eligible for a senior discount.\")"
   ]
  },
  {
   "cell_type": "code",
   "execution_count": 6,
   "id": "88744b56",
   "metadata": {},
   "outputs": [
    {
     "name": "stdout",
     "output_type": "stream",
     "text": [
      "6 is biggest\n"
     ]
    }
   ],
   "source": [
    "a = int(input(\"Enter value 1:\"))\n",
    "b = int(input(\"Enter value 2:\"))\n",
    "\n",
    "if (a !=b):\n",
    "    if (a > b):\n",
    "        print(a, \"is biggest\")\n",
    "    else:\n",
    "        print(b , 'is biggest')\n",
    "else:\n",
    "    print(\"Both values are same\")            "
   ]
  },
  {
   "cell_type": "markdown",
   "id": "64826d78",
   "metadata": {},
   "source": [
    "<h3> if...elif..else statement</h3>\n",
    "\n",
    "if condition 1:\n",
    "    \n",
    "    - condition block 1\n",
    "elif condition 2 :\n",
    "\n",
    "   - condition block 2 \n",
    "\n",
    "else:\n",
    "\n",
    "  - code block 2       "
   ]
  },
  {
   "cell_type": "code",
   "execution_count": 7,
   "id": "bc46806a",
   "metadata": {},
   "outputs": [
    {
     "name": "stdout",
     "output_type": "stream",
     "text": [
      "x is less than y\n"
     ]
    }
   ],
   "source": [
    "x = int(input(\"What's X?\"))\n",
    "y = int(input(\"What's Y?\"))\n",
    "\n",
    "if x < y:\n",
    "    print(\"x is less than y\")\n",
    "elif x > y:\n",
    "    print(\"x is greater than y\")\n",
    "else:\n",
    "    print(\"x is equal to y\")        "
   ]
  },
  {
   "cell_type": "markdown",
   "id": "034c5c4b",
   "metadata": {},
   "source": [
    "<h4>Ternary Conditional Statement in Python\n",
    "A ternary conditional statement is a compact way to write an if-else condition in a single line. It’s sometimes called a \"conditional expression.\"</h4>"
   ]
  },
  {
   "cell_type": "code",
   "execution_count": 12,
   "id": "08dd5811",
   "metadata": {},
   "outputs": [
    {
     "name": "stdout",
     "output_type": "stream",
     "text": [
      "Adult\n"
     ]
    }
   ],
   "source": [
    "# Assign a value based on a condition\n",
    "age = 20\n",
    "s = \"Adult\" if age >= 18 else \"Minor\"\n",
    "\n",
    "print(s)"
   ]
  },
  {
   "cell_type": "markdown",
   "id": "2c7550d5",
   "metadata": {},
   "source": [
    "# Match-Case Statement in Python\n",
    "match-case statement is Python's version of a switch-case found in other languages. It allows us to match a variable's value against a set of patterns."
   ]
  },
  {
   "cell_type": "code",
   "execution_count": 8,
   "id": "a07c451a",
   "metadata": {},
   "outputs": [
    {
     "name": "stdout",
     "output_type": "stream",
     "text": [
      "Two or Three\n"
     ]
    }
   ],
   "source": [
    "number = 2\n",
    "\n",
    "match number:\n",
    "    case 1:\n",
    "        print(\"One\")\n",
    "    case 2 | 3:\n",
    "        print(\"Two or Three\")\n",
    "    case _:\n",
    "        print(\"Other number\")"
   ]
  },
  {
   "cell_type": "code",
   "execution_count": 9,
   "id": "b461d794",
   "metadata": {},
   "outputs": [
    {
     "name": "stdout",
     "output_type": "stream",
     "text": [
      "Frideay\n"
     ]
    }
   ],
   "source": [
    "day = 5\n",
    "\n",
    "match day:\n",
    "    case 1:\n",
    "        print(\"Moday\")\n",
    "    case 2:\n",
    "        print(\"Tuesday\")\n",
    "    case 3:\n",
    "        print(\"Wednesday\")   \n",
    "    case 4:\n",
    "        print(\"Tuesday\")\n",
    "    case 5:\n",
    "        print(\"Frideay\")\n",
    "    case 6:\n",
    "        print(\"Saturday\")\n",
    "    case 7:\n",
    "        print(\"Sunday\")        \n"
   ]
  },
  {
   "cell_type": "markdown",
   "id": "d6fe517a",
   "metadata": {},
   "source": []
  }
 ],
 "metadata": {
  "kernelspec": {
   "display_name": "Python 3",
   "language": "python",
   "name": "python3"
  },
  "language_info": {
   "codemirror_mode": {
    "name": "ipython",
    "version": 3
   },
   "file_extension": ".py",
   "mimetype": "text/x-python",
   "name": "python",
   "nbconvert_exporter": "python",
   "pygments_lexer": "ipython3",
   "version": "3.12.1"
  }
 },
 "nbformat": 4,
 "nbformat_minor": 5
}
