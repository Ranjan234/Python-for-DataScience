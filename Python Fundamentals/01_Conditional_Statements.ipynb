{
 "cells": [
  {
   "cell_type": "markdown",
   "id": "ee5a441a",
   "metadata": {},
   "source": [
    "<h3> Conditional statements in Python are used to execute certain blocks of code based on specific conditions. These statements help control the flow of a program, making it behave differently in different situations.</h3>"
   ]
  },
  {
   "cell_type": "markdown",
   "id": "c231d85d",
   "metadata": {},
   "source": [
    "<h3> If Conditional Statement in Python\n",
    "- If statement is the simplest form of a conditional statement. It executes a block of code if the given condition is true.</h3>"
   ]
  },
  {
   "cell_type": "markdown",
   "id": "6d5c92fa",
   "metadata": {},
   "source": []
  }
 ],
 "metadata": {
  "language_info": {
   "name": "python"
  }
 },
 "nbformat": 4,
 "nbformat_minor": 5
}
