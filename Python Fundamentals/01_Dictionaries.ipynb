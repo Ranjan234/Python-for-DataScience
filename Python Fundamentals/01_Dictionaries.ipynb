{
 "cells": [
  {
   "cell_type": "markdown",
   "id": "b25a24f1",
   "metadata": {},
   "source": [
    "# Introduction to Dictionaries\n",
    "- Dictionaries are unordered collection of items. They store data in key-value pairs. keys must be unique and immutable(e.g, strings, numbers, or tuple). While value can be of any type. "
   ]
  },
  {
   "cell_type": "markdown",
   "id": "52105a92",
   "metadata": {},
   "source": [
    "1. Introduction to Dictionaries\n",
    "2. Creating dictionaries\n",
    "3. Accessing Dictionaries Elements\n",
    "4. Modifying Dictionaries Elements\n",
    "5. Dictionaries Methods\n",
    "6. Iteraing Over Dictionaries\n",
    "7. Nested Dictionaries Elements\n",
    "8. Dictionaries Comprehenship\n",
    "9. Practical Examples and common Errors\n"
   ]
  },
  {
   "cell_type": "code",
   "execution_count": 3,
   "id": "064bae94",
   "metadata": {},
   "outputs": [
    {
     "name": "stdout",
     "output_type": "stream",
     "text": [
      "<class 'dict'>\n"
     ]
    }
   ],
   "source": [
    "## Creating dictionaries\n",
    "\n",
    "empty_dic ={}\n",
    "print(type\n",
    "      (empty_dic))"
   ]
  },
  {
   "cell_type": "code",
   "execution_count": 2,
   "id": "5c995cf7",
   "metadata": {},
   "outputs": [
    {
     "data": {
      "text/plain": [
       "{}"
      ]
     },
     "execution_count": 2,
     "metadata": {},
     "output_type": "execute_result"
    }
   ],
   "source": [
    "empty_dic = dict()\n",
    "empty_dic"
   ]
  },
  {
   "cell_type": "code",
   "execution_count": 6,
   "id": "a9d94613",
   "metadata": {},
   "outputs": [
    {
     "name": "stdout",
     "output_type": "stream",
     "text": [
      "{'name': 'soumya', 'age': 24, 'grade': 'A'}\n",
      "<class 'dict'>\n"
     ]
    }
   ],
   "source": [
    "student = {\"name\":\"soumya\",\n",
    "             \"age\":24,\n",
    "             \"grade\":\"A\"}\n",
    "print(student)\n",
    "print(type(student))"
   ]
  },
  {
   "cell_type": "code",
   "execution_count": 30,
   "id": "ec4946bf",
   "metadata": {},
   "outputs": [
    {
     "name": "stdout",
     "output_type": "stream",
     "text": [
      "soumya 24\n"
     ]
    }
   ],
   "source": [
    "## Accessing dictionary elements\n",
    "student={'name': 'soumya', 'age': 24, 'grade': 'A'}\n",
    "print(student[\"name\"],\n",
    "student[\"age\"])"
   ]
  },
  {
   "cell_type": "code",
   "execution_count": 31,
   "id": "19cbe996",
   "metadata": {},
   "outputs": [
    {
     "name": "stdout",
     "output_type": "stream",
     "text": [
      "soumya\n",
      "A\n"
     ]
    }
   ],
   "source": [
    "print(student[\"name\"])\n",
    "print(student[\"grade\"])"
   ]
  },
  {
   "cell_type": "code",
   "execution_count": 18,
   "id": "967aad30",
   "metadata": {},
   "outputs": [
    {
     "name": "stdout",
     "output_type": "stream",
     "text": [
      "A\n",
      "None\n"
     ]
    }
   ],
   "source": [
    "## using get() method\n",
    "print(student.get(\"grade\"))\n",
    "print(student.get(\"last_name\"))"
   ]
  },
  {
   "cell_type": "code",
   "execution_count": 32,
   "id": "4cc83be1",
   "metadata": {},
   "outputs": [
    {
     "name": "stdout",
     "output_type": "stream",
     "text": [
      "{'name': 'soumya', 'age': 24, 'grade': 'A'}\n"
     ]
    }
   ],
   "source": [
    "## Modifying dictionary elements\n",
    "## Dictionary are mutable, so you can add, update or delete elements\n",
    "print(student)"
   ]
  },
  {
   "cell_type": "code",
   "execution_count": 33,
   "id": "3a798e2e",
   "metadata": {},
   "outputs": [
    {
     "name": "stdout",
     "output_type": "stream",
     "text": [
      "{'name': 'soumya', 'age': 33, 'grade': 'A'}\n",
      "{'name': 'soumya', 'age': 33, 'grade': 'A', 'address': 'Delhi'}\n"
     ]
    }
   ],
   "source": [
    "student[\"age\"]=33  ## update value for a key\n",
    "print(student)\n",
    "student[\"address\"]= \"Delhi\" # added a new key and value\n",
    "print(student)"
   ]
  },
  {
   "cell_type": "code",
   "execution_count": 34,
   "id": "d7aeb9bb",
   "metadata": {},
   "outputs": [
    {
     "name": "stdout",
     "output_type": "stream",
     "text": [
      "{'name': 'soumya', 'grade': 'A', 'address': 'Delhi'}\n"
     ]
    }
   ],
   "source": [
    "# delete the key\n",
    "del student['age']\n",
    "\n",
    "print(student)"
   ]
  },
  {
   "cell_type": "code",
   "execution_count": 39,
   "id": "6751cd3c",
   "metadata": {},
   "outputs": [
    {
     "name": "stdout",
     "output_type": "stream",
     "text": [
      "dict_keys(['name', 'grade', 'address'])\n",
      "dict_values(['soumya', 'A', 'Delhi'])\n",
      "dict_items([('name', 'soumya'), ('grade', 'A'), ('address', 'Delhi')])\n"
     ]
    }
   ],
   "source": [
    "## Dictionary methods\n",
    "keys = student.keys() # All the keys\n",
    "print(keys)\n",
    "\n",
    "values = student.values() # All the values\n",
    "print(values)\n",
    "\n",
    "items = student.items() # All key value pairs\n",
    "print(items)"
   ]
  },
  {
   "cell_type": "code",
   "execution_count": 40,
   "id": "8e3396fd",
   "metadata": {},
   "outputs": [
    {
     "name": "stdout",
     "output_type": "stream",
     "text": [
      "{'name': 'soumya', 'grade': 'A', 'address': 'Delhi'}\n",
      "{'name': 'soumya', 'grade': 'A', 'address': 'Delhi'}\n"
     ]
    }
   ],
   "source": [
    "## Shallow copy\n",
    "student_copy = student\n",
    "print(student)\n",
    "print(student_copy)"
   ]
  },
  {
   "cell_type": "code",
   "execution_count": 41,
   "id": "7b2b8fe5",
   "metadata": {},
   "outputs": [
    {
     "name": "stdout",
     "output_type": "stream",
     "text": [
      "{'name': 'soumya2', 'grade': 'A', 'address': 'Delhi'}\n",
      "{'name': 'soumya2', 'grade': 'A', 'address': 'Delhi'}\n"
     ]
    }
   ],
   "source": [
    "student[\"name\"]=\"soumya2\"\n",
    "print(student)\n",
    "print(student_copy)\n"
   ]
  },
  {
   "cell_type": "code",
   "execution_count": 43,
   "id": "67b33302",
   "metadata": {},
   "outputs": [
    {
     "name": "stdout",
     "output_type": "stream",
     "text": [
      "{'name': 'soumya2', 'grade': 'A', 'address': 'Delhi'}\n",
      "{'name': 'soumya2', 'grade': 'A', 'address': 'Delhi'}\n"
     ]
    }
   ],
   "source": [
    "student_copy1 = student.copy() ## shallow copy\n",
    "print(student_copy1)\n",
    "print(student)"
   ]
  },
  {
   "cell_type": "code",
   "execution_count": 44,
   "id": "939134bc",
   "metadata": {},
   "outputs": [
    {
     "name": "stdout",
     "output_type": "stream",
     "text": [
      "{'name': 'soumya2', 'grade': 'A', 'address': 'Delhi'}\n",
      "{'name': 'soumya3', 'grade': 'A', 'address': 'Delhi'}\n"
     ]
    }
   ],
   "source": [
    "student[\"name\"]= \"soumya3\"\n",
    "print(student_copy1)\n",
    "print(student)"
   ]
  },
  {
   "cell_type": "code",
   "execution_count": 46,
   "id": "80437758",
   "metadata": {},
   "outputs": [
    {
     "name": "stdout",
     "output_type": "stream",
     "text": [
      "name\n",
      "grade\n",
      "address\n"
     ]
    }
   ],
   "source": [
    "## iterating over dictionaries\n",
    "## use loops to iterative over dictioanaries\n",
    "\n",
    "# Iterating over keys\n",
    "for keys in student.keys():\n",
    "    print(keys)"
   ]
  },
  {
   "cell_type": "code",
   "execution_count": 47,
   "id": "e455c4b1",
   "metadata": {},
   "outputs": [
    {
     "name": "stdout",
     "output_type": "stream",
     "text": [
      "soumya3\n",
      "A\n",
      "Delhi\n"
     ]
    }
   ],
   "source": [
    "## Iterate Over Values\n",
    "for values in student.values():\n",
    "    print(values)"
   ]
  },
  {
   "cell_type": "code",
   "execution_count": 48,
   "id": "10c9376c",
   "metadata": {},
   "outputs": [
    {
     "name": "stdout",
     "output_type": "stream",
     "text": [
      "name:soumya3\n",
      "grade:A\n",
      "address:Delhi\n"
     ]
    }
   ],
   "source": [
    "## Iterate over key value pairs\n",
    "for key, values in student.items():\n",
    "    print(f\"{key}:{values}\")"
   ]
  },
  {
   "cell_type": "code",
   "execution_count": 49,
   "id": "3833e4d5",
   "metadata": {},
   "outputs": [
    {
     "name": "stdout",
     "output_type": "stream",
     "text": [
      "{'studemt1': {'name': 'lima', 'age': 23}, 'student2': {'name': 'papni', 'age': 24}}\n"
     ]
    }
   ],
   "source": [
    "## nested dictionaries\n",
    "students = {\n",
    "    \"studemt1\":{\"name\":\"lima\",\"age\":23},\n",
    "    \"student2\":{\"name\":\"papni\",\"age\":24}\n",
    "}\n",
    "print(students)"
   ]
  },
  {
   "cell_type": "code",
   "execution_count": 50,
   "id": "8dfa0c3a",
   "metadata": {},
   "outputs": [
    {
     "name": "stdout",
     "output_type": "stream",
     "text": [
      "lima\n",
      "24\n"
     ]
    }
   ],
   "source": [
    "## Access nested dictionaries\n",
    "print(students[\"studemt1\"][\"name\"])\n",
    "print(students[\"student2\"]['age'])"
   ]
  },
  {
   "cell_type": "code",
   "execution_count": 51,
   "id": "5d811b8a",
   "metadata": {},
   "outputs": [
    {
     "data": {
      "text/plain": [
       "dict_items([('studemt1', {'name': 'lima', 'age': 23}), ('student2', {'name': 'papni', 'age': 24})])"
      ]
     },
     "execution_count": 51,
     "metadata": {},
     "output_type": "execute_result"
    }
   ],
   "source": [
    "students.items()"
   ]
  },
  {
   "cell_type": "code",
   "execution_count": 54,
   "id": "50a4ad94",
   "metadata": {},
   "outputs": [
    {
     "name": "stdout",
     "output_type": "stream",
     "text": [
      "studemt1:{'name': 'lima', 'age': 23}\n",
      "name:lima\n",
      "age:23\n",
      "student2:{'name': 'papni', 'age': 24}\n",
      "name:papni\n",
      "age:24\n"
     ]
    }
   ],
   "source": [
    "## iterating over nested dictionaries\n",
    "for student_id,student_info in students.items():\n",
    "    print(f\"{student_id}:{student_info}\")\n",
    "    for key,value in student_info.items():\n",
    "        print(f\"{key}:{value}\")"
   ]
  },
  {
   "cell_type": "code",
   "execution_count": 55,
   "id": "e091f559",
   "metadata": {},
   "outputs": [
    {
     "name": "stdout",
     "output_type": "stream",
     "text": [
      "{0: 0, 1: 1, 2: 4, 3: 9, 4: 16}\n"
     ]
    }
   ],
   "source": [
    "## Dictionary Comphrehension\n",
    "squares = {x:x**2 for x in range(5)}\n",
    "print(squares)"
   ]
  },
  {
   "cell_type": "code",
   "execution_count": null,
   "id": "b267cbb8",
   "metadata": {},
   "outputs": [
    {
     "name": "stdout",
     "output_type": "stream",
     "text": [
      "{0: 0, 2: 4, 4: 16, 6: 36, 8: 64}\n"
     ]
    }
   ],
   "source": [
    "## Conditional dictionary Comhrehension\n",
    "evens = {x:x**2 for x in range(10) if x %2==0}\n",
    "print(evens)"
   ]
  },
  {
   "cell_type": "code",
   "execution_count": 58,
   "id": "71f2b9b4",
   "metadata": {},
   "outputs": [
    {
     "name": "stdout",
     "output_type": "stream",
     "text": [
      "{1: 1, 2: 2, 3: 4, 4: 4}\n"
     ]
    }
   ],
   "source": [
    "## Practical examples\n",
    "## use a dictionary to count the frequency of elements in list\n",
    "\n",
    "numbers = [1,2,2,3,3,3,3,4,4,4,4]\n",
    "frequency ={}\n",
    "\n",
    "for number in numbers:\n",
    "    if number in frequency:\n",
    "        frequency[number]+=1\n",
    "    else:\n",
    "        frequency[number]=1\n",
    "print(frequency)            "
   ]
  },
  {
   "cell_type": "code",
   "execution_count": 59,
   "id": "96bef99a",
   "metadata": {},
   "outputs": [
    {
     "name": "stdout",
     "output_type": "stream",
     "text": [
      "{'a': 1, 'b': 3, 'c': 4}\n"
     ]
    }
   ],
   "source": [
    "## Merge two dictionaries into one\n",
    "\n",
    "dict1 = {\"a\":1,\"b\":2}\n",
    "dict2 = {\"b\":3, \"c\":4}\n",
    "merged_dict = {**dict1, **dict2}\n",
    "print(merged_dict)"
   ]
  },
  {
   "cell_type": "code",
   "execution_count": null,
   "id": "8409db2b",
   "metadata": {},
   "outputs": [],
   "source": []
  }
 ],
 "metadata": {
  "kernelspec": {
   "display_name": "Python 3",
   "language": "python",
   "name": "python3"
  },
  "language_info": {
   "codemirror_mode": {
    "name": "ipython",
    "version": 3
   },
   "file_extension": ".py",
   "mimetype": "text/x-python",
   "name": "python",
   "nbconvert_exporter": "python",
   "pygments_lexer": "ipython3",
   "version": "3.12.1"
  }
 },
 "nbformat": 4,
 "nbformat_minor": 5
}
