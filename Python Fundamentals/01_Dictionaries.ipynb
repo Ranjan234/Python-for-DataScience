{
 "cells": [
  {
   "cell_type": "markdown",
   "id": "b25a24f1",
   "metadata": {},
   "source": [
    "# Introduction to Dictionaries\n",
    "- Dictionaries are unordered collection of items. They store data in key-value pairs. keys must be unique and immutable(e.g, strings, numbers, or tuple). While value can be of any type. "
   ]
  },
  {
   "cell_type": "markdown",
   "id": "52105a92",
   "metadata": {},
   "source": [
    "1. Introduction to Dictionaries\n",
    "2. Creating dictionaries\n",
    "3. Accessing Dictionaries Elements\n",
    "4. Modifying Dictionaries Elements\n",
    "5. Dictionaries Methods\n",
    "6. Iteraing Over Dictionaries\n",
    "7. Nested Dictionaries Elements\n",
    "8. Dictionaries Comprehenship\n",
    "9. Practical Examples and common Errors\n"
   ]
  },
  {
   "cell_type": "code",
   "execution_count": 3,
   "id": "064bae94",
   "metadata": {},
   "outputs": [
    {
     "name": "stdout",
     "output_type": "stream",
     "text": [
      "<class 'dict'>\n"
     ]
    }
   ],
   "source": [
    "## Creating dictionaries\n",
    "\n",
    "empty_dic ={}\n",
    "print(type\n",
    "      (empty_dic))"
   ]
  },
  {
   "cell_type": "code",
   "execution_count": 2,
   "id": "5c995cf7",
   "metadata": {},
   "outputs": [
    {
     "data": {
      "text/plain": [
       "{}"
      ]
     },
     "execution_count": 2,
     "metadata": {},
     "output_type": "execute_result"
    }
   ],
   "source": [
    "empty_dic = dict()\n",
    "empty_dic"
   ]
  },
  {
   "cell_type": "code",
   "execution_count": 6,
   "id": "a9d94613",
   "metadata": {},
   "outputs": [
    {
     "name": "stdout",
     "output_type": "stream",
     "text": [
      "{'name': 'soumya', 'age': 24, 'grade': 'A'}\n",
      "<class 'dict'>\n"
     ]
    }
   ],
   "source": [
    "student = {\"name\":\"soumya\",\n",
    "             \"age\":24,\n",
    "             \"grade\":\"A\"}\n",
    "print(student)\n",
    "print(type(student))"
   ]
  },
  {
   "cell_type": "code",
   "execution_count": null,
   "id": "ec4946bf",
   "metadata": {},
   "outputs": [],
   "source": []
  }
 ],
 "metadata": {
  "kernelspec": {
   "display_name": "Python 3",
   "language": "python",
   "name": "python3"
  },
  "language_info": {
   "codemirror_mode": {
    "name": "ipython",
    "version": 3
   },
   "file_extension": ".py",
   "mimetype": "text/x-python",
   "name": "python",
   "nbconvert_exporter": "python",
   "pygments_lexer": "ipython3",
   "version": "3.12.1"
  }
 },
 "nbformat": 4,
 "nbformat_minor": 5
}
