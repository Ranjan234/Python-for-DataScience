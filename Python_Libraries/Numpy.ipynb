{
 "cells": [
  {
   "cell_type": "markdown",
   "id": "4acf48a9",
   "metadata": {},
   "source": []
  },
  {
   "cell_type": "markdown",
   "id": "a6a091fd",
   "metadata": {},
   "source": []
  },
  {
   "cell_type": "markdown",
   "id": "36c4bd70",
   "metadata": {},
   "source": []
  },
  {
   "cell_type": "markdown",
   "id": "169a4d99",
   "metadata": {},
   "source": []
  },
  {
   "cell_type": "markdown",
   "id": "ce20bcf3",
   "metadata": {},
   "source": []
  },
  {
   "cell_type": "markdown",
   "id": "e83b4f92",
   "metadata": {},
   "source": []
  },
  {
   "cell_type": "markdown",
   "id": "487c7549",
   "metadata": {},
   "source": []
  },
  {
   "cell_type": "markdown",
   "id": "ee86ff52",
   "metadata": {},
   "source": []
  },
  {
   "cell_type": "markdown",
   "id": "32d77ac6",
   "metadata": {},
   "source": []
  },
  {
   "cell_type": "markdown",
   "id": "04bc0ad4",
   "metadata": {},
   "source": []
  },
  {
   "cell_type": "markdown",
   "id": "48035483",
   "metadata": {},
   "source": []
  },
  {
   "cell_type": "code",
   "execution_count": null,
   "id": "b83fbab2",
   "metadata": {},
   "outputs": [],
   "source": []
  },
  {
   "cell_type": "markdown",
   "id": "fea4ee68",
   "metadata": {},
   "source": []
  }
 ],
 "metadata": {
  "language_info": {
   "name": "python"
  }
 },
 "nbformat": 4,
 "nbformat_minor": 5
}
