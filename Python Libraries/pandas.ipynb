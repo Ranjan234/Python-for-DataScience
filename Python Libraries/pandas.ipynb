{
 "cells": [
  {
   "cell_type": "markdown",
   "id": "c97e341e",
   "metadata": {},
   "source": [
    "# Pandas DataFrame Series\n",
    "- "
   ]
  },
  {
   "cell_type": "code",
   "execution_count": null,
   "id": "6cb00bb1",
   "metadata": {},
   "outputs": [],
   "source": [
    "import pandas as pd"
   ]
  },
  {
   "cell_type": "code",
   "execution_count": null,
   "id": "9da04690",
   "metadata": {},
   "outputs": [],
   "source": [
    "## series\n",
    "# A pandas series is a one-dimensional array-like object that can hold any data type. \n",
    "data = [1,2,3, 4,5]\n",
    "series=pd.Series(data)\n",
    "series"
   ]
  },
  {
   "cell_type": "code",
   "execution_count": null,
   "id": "a9ccb35f",
   "metadata": {},
   "outputs": [],
   "source": []
  }
 ],
 "metadata": {
  "kernelspec": {
   "display_name": "base",
   "language": "python",
   "name": "python3"
  },
  "language_info": {
   "name": "python",
   "version": "3.12.3"
  }
 },
 "nbformat": 4,
 "nbformat_minor": 5
}
