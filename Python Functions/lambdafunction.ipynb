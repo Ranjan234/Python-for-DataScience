{
 "cells": [
  {
   "cell_type": "markdown",
   "id": "05422dc5",
   "metadata": {},
   "source": [
    "# Lambda Function in Python\n",
    "-Lambda functions are small anonymous functions defined using the lambda keyword. They can have any number of arguments but only one expression.They are commonly used for short operations or as arguments to higher-order functions."
   ]
  },
  {
   "cell_type": "code",
   "execution_count": 1,
   "id": "39f72f8a",
   "metadata": {},
   "outputs": [
    {
     "data": {
      "text/plain": [
       "<function __main__.<lambda>(arguments)>"
      ]
     },
     "execution_count": 1,
     "metadata": {},
     "output_type": "execute_result"
    }
   ],
   "source": [
    "# Syntax\n",
    "lambda arguments: expression"
   ]
  },
  {
   "cell_type": "code",
   "execution_count": 2,
   "id": "18dd6b5e",
   "metadata": {},
   "outputs": [],
   "source": [
    "def addition(a,b):\n",
    "    return a + b"
   ]
  },
  {
   "cell_type": "code",
   "execution_count": 3,
   "id": "2ad83cfa",
   "metadata": {},
   "outputs": [
    {
     "data": {
      "text/plain": [
       "7"
      ]
     },
     "execution_count": 3,
     "metadata": {},
     "output_type": "execute_result"
    }
   ],
   "source": [
    "addition(2,5)"
   ]
  },
  {
   "cell_type": "code",
   "execution_count": 4,
   "id": "0a2062e7",
   "metadata": {},
   "outputs": [
    {
     "data": {
      "text/plain": [
       "function"
      ]
     },
     "execution_count": 4,
     "metadata": {},
     "output_type": "execute_result"
    }
   ],
   "source": [
    "addition = lambda a,b: a + b\n",
    "type(addition)  # <class 'function'>"
   ]
  },
  {
   "cell_type": "code",
   "execution_count": 5,
   "id": "6f984f21",
   "metadata": {},
   "outputs": [
    {
     "name": "stdout",
     "output_type": "stream",
     "text": [
      "7\n"
     ]
    }
   ],
   "source": [
    "print(addition(3,4))"
   ]
  },
  {
   "cell_type": "code",
   "execution_count": 6,
   "id": "56b35925",
   "metadata": {},
   "outputs": [
    {
     "data": {
      "text/plain": [
       "True"
      ]
     },
     "execution_count": 6,
     "metadata": {},
     "output_type": "execute_result"
    }
   ],
   "source": [
    "def even(num):\n",
    "    if num%2 ==0:\n",
    "        return True\n",
    "    \n",
    "even(24)    "
   ]
  },
  {
   "cell_type": "code",
   "execution_count": null,
   "id": "909e5df4",
   "metadata": {},
   "outputs": [
    {
     "data": {
      "text/plain": [
       "True"
      ]
     },
     "execution_count": 7,
     "metadata": {},
     "output_type": "execute_result"
    }
   ],
   "source": [
    "even1 = lambda num:num%2==0\n",
    "even1(10)"
   ]
  },
  {
   "cell_type": "code",
   "execution_count": 8,
   "id": "1e8c73f8",
   "metadata": {},
   "outputs": [
    {
     "data": {
      "text/plain": [
       "75"
      ]
     },
     "execution_count": 8,
     "metadata": {},
     "output_type": "execute_result"
    }
   ],
   "source": [
    "def addition(x,y,z):\n",
    "    return x+y+z\n",
    "\n",
    "addition(14,25,36)"
   ]
  },
  {
   "cell_type": "code",
   "execution_count": 9,
   "id": "8a8a63b6",
   "metadata": {},
   "outputs": [
    {
     "data": {
      "text/plain": [
       "69"
      ]
     },
     "execution_count": 9,
     "metadata": {},
     "output_type": "execute_result"
    }
   ],
   "source": [
    "addition=lambda x,y,z:x+y+z\n",
    "addition(12,23,34)"
   ]
  },
  {
   "cell_type": "code",
   "execution_count": null,
   "id": "b17f5904",
   "metadata": {},
   "outputs": [
    {
     "data": {
      "text/plain": [
       "9"
      ]
     },
     "execution_count": 10,
     "metadata": {},
     "output_type": "execute_result"
    }
   ],
   "source": [
    "## map() - applies a function to all items in a list\n",
    "numbers = [1,2,3,4,5,6]\n",
    "def sqaure(number):\n",
    "      return number **2\n",
    "\n",
    "sqaure(3)"
   ]
  },
  {
   "cell_type": "code",
   "execution_count": 12,
   "id": "ab61a048",
   "metadata": {},
   "outputs": [
    {
     "data": {
      "text/plain": [
       "[1, 4, 9, 16, 25, 36]"
      ]
     },
     "execution_count": 12,
     "metadata": {},
     "output_type": "execute_result"
    }
   ],
   "source": [
    "list(map(lambda x:x**2, numbers))"
   ]
  },
  {
   "cell_type": "code",
   "execution_count": null,
   "id": "a21d7e70",
   "metadata": {},
   "outputs": [],
   "source": []
  },
  {
   "cell_type": "markdown",
   "id": "082d3af7",
   "metadata": {},
   "source": [
    "# Map() function in Python\n",
    "- The map() function applies a given function to all items in an input list(or any other iterable )and returns a map object (an iterator). This is particulariy useful for transforming data in a list comprehensively.\n"
   ]
  },
  {
   "cell_type": "code",
   "execution_count": 13,
   "id": "7335a336",
   "metadata": {},
   "outputs": [
    {
     "data": {
      "text/plain": [
       "100"
      ]
     },
     "execution_count": 13,
     "metadata": {},
     "output_type": "execute_result"
    }
   ],
   "source": [
    "def sqaure(x):\n",
    "    return x*x\n",
    "\n",
    "sqaure(10)    "
   ]
  },
  {
   "cell_type": "code",
   "execution_count": 16,
   "id": "2135603e",
   "metadata": {},
   "outputs": [
    {
     "data": {
      "text/plain": [
       "[1, 4, 9, 16, 25, 36, 49, 64]"
      ]
     },
     "execution_count": 16,
     "metadata": {},
     "output_type": "execute_result"
    }
   ],
   "source": [
    "numbers= [1,2,3,4,5,6,7,8]\n",
    "\n",
    "list(map(sqaure, numbers))"
   ]
  },
  {
   "cell_type": "code",
   "execution_count": 17,
   "id": "e8aea08b",
   "metadata": {},
   "outputs": [
    {
     "data": {
      "text/plain": [
       "[1, 4, 9, 16, 25, 36, 49, 64]"
      ]
     },
     "execution_count": 17,
     "metadata": {},
     "output_type": "execute_result"
    }
   ],
   "source": [
    "## lambda function with map\n",
    "numbers= [1,2,3,4,5,6,7,8]\n",
    "\n",
    "list(map(lambda x: x*x, numbers))"
   ]
  },
  {
   "cell_type": "code",
   "execution_count": 20,
   "id": "be113b84",
   "metadata": {},
   "outputs": [
    {
     "name": "stdout",
     "output_type": "stream",
     "text": [
      "[5, 7, 9]\n"
     ]
    }
   ],
   "source": [
    "### map multiple items\n",
    "numbers1= [1,2,3]\n",
    "numbers2 = [4,5,6]\n",
    "\n",
    "added_numbers = list(map(lambda x,y:x+y, numbers1,numbers2))\n",
    "print(added_numbers)"
   ]
  },
  {
   "cell_type": "code",
   "execution_count": 2,
   "id": "2e9827f5",
   "metadata": {},
   "outputs": [
    {
     "name": "stdout",
     "output_type": "stream",
     "text": [
      "[1, 2, 3, 4]\n"
     ]
    }
   ],
   "source": [
    "## map() to convert a list of string to integers\n",
    "##Use map to convert string to integers\n",
    "str_numbers = ['1','2','3','4',]\n",
    "int_numbers = list(map(int, str_numbers))\n",
    "\n",
    "print(int_numbers)"
   ]
  },
  {
   "cell_type": "code",
   "execution_count": 4,
   "id": "87f4a2ee",
   "metadata": {},
   "outputs": [
    {
     "name": "stdout",
     "output_type": "stream",
     "text": [
      "['APPLE', 'BANANA', 'CHERRY']\n",
      "['apple', 'banana', 'cherry']\n"
     ]
    }
   ],
   "source": [
    "words = ['Apple','BaNana','Cherry']\n",
    "upper_word = list(map(str.upper, words))\n",
    "lower_word  =list(map(str.lower,words))\n",
    "print(upper_word)\n",
    "print(lower_word)\n"
   ]
  },
  {
   "cell_type": "code",
   "execution_count": 8,
   "id": "4be4193d",
   "metadata": {},
   "outputs": [
    {
     "data": {
      "text/plain": [
       "['krish', 'soumya', 'Akash', 'Binya']"
      ]
     },
     "execution_count": 8,
     "metadata": {},
     "output_type": "execute_result"
    }
   ],
   "source": [
    "def get_name(person):\n",
    "    return person['name']\n",
    "\n",
    "people=[\n",
    "    {'name':'krish','age':34},\n",
    "    {'name':'soumya','age':25},\n",
    "    {'name':'Akash','age':22},\n",
    "    {'name':'Binya','age':21}\n",
    "]\n",
    "list(map(get_name,people))"
   ]
  },
  {
   "cell_type": "markdown",
   "id": "c67fdc72",
   "metadata": {},
   "source": [
    "### The map() function is a powerful tool for applying transformations to iterable data structures. It can be used with regualr functions. Lambda functions, and even multiple iterables, providing a versatile approach to data processing in Python. By understanding and utilizing map(). "
   ]
  },
  {
   "cell_type": "code",
   "execution_count": null,
   "id": "c41a1f1b",
   "metadata": {},
   "outputs": [],
   "source": []
  },
  {
   "cell_type": "markdown",
   "id": "4b0d24de",
   "metadata": {},
   "source": [
    "## The Filter() function in Python\n",
    "- The filter () function constructs an iterator from elements of an iterable fro which a function returns true. It is ued to filter out items from a list (any other iterable) based on a condition."
   ]
  },
  {
   "cell_type": "code",
   "execution_count": 9,
   "id": "70b6bdaf",
   "metadata": {},
   "outputs": [],
   "source": [
    "def even(num):\n",
    "    if num%2==0:\n",
    "        return True"
   ]
  },
  {
   "cell_type": "code",
   "execution_count": 10,
   "id": "e2cdff2e",
   "metadata": {},
   "outputs": [
    {
     "data": {
      "text/plain": [
       "True"
      ]
     },
     "execution_count": 10,
     "metadata": {},
     "output_type": "execute_result"
    }
   ],
   "source": [
    "even(34)"
   ]
  },
  {
   "cell_type": "code",
   "execution_count": 12,
   "id": "675b468e",
   "metadata": {},
   "outputs": [
    {
     "data": {
      "text/plain": [
       "[2, 4, 6, 8, 10, 12]"
      ]
     },
     "execution_count": 12,
     "metadata": {},
     "output_type": "execute_result"
    }
   ],
   "source": [
    "lst=[1,2,3,4,5,6,7,8,9,10,11,12]\n",
    "\n",
    "list(filter(even, lst))"
   ]
  },
  {
   "cell_type": "code",
   "execution_count": 19,
   "id": "b37b343d",
   "metadata": {},
   "outputs": [
    {
     "name": "stdout",
     "output_type": "stream",
     "text": [
      "[6, 7, 8, 9]\n"
     ]
    }
   ],
   "source": [
    "### filter with lambda function\n",
    "numbers =[1,2,3,4,5,6,7,8,9]\n",
    "greater_than_fuve = list(filter(lambda x:x>5, numbers))\n",
    "print(greater_than_fuve)"
   ]
  },
  {
   "cell_type": "code",
   "execution_count": 20,
   "id": "5ef9621b",
   "metadata": {},
   "outputs": [
    {
     "name": "stdout",
     "output_type": "stream",
     "text": [
      "[6, 8]\n"
     ]
    }
   ],
   "source": [
    "## with multiple condition\n",
    "numbers =[1,2,3,4,5,6,7,8,9]\n",
    "even_and_greater_than_five= list(filter(lambda x:x>5 and x%2==0,numbers))\n",
    "print(even_and_greater_than_five)"
   ]
  },
  {
   "cell_type": "code",
   "execution_count": 25,
   "id": "b624f68c",
   "metadata": {},
   "outputs": [
    {
     "data": {
      "text/plain": [
       "[{'name': 'krish', 'age': 34},\n",
       " {'name': 'Akash', 'age': 27},\n",
       " {'name': 'Binya', 'age': 26}]"
      ]
     },
     "execution_count": 25,
     "metadata": {},
     "output_type": "execute_result"
    }
   ],
   "source": [
    "#filter() to check if the age is greater than 25 in dictionary\n",
    "people=[\n",
    "    {'name':'krish','age':34},\n",
    "    {'name':'soumya','age':25},\n",
    "    {'name':'Akash','age':27},\n",
    "    {'name':'Binya','age':26}\n",
    "]\n",
    "\n",
    "def age_greater_than_25(person):\n",
    "    return person['age']>25\n",
    "\n",
    "list(filter(age_greater_than_25, people))"
   ]
  },
  {
   "cell_type": "markdown",
   "id": "206c0d27",
   "metadata": {},
   "source": [
    "## Conclusion\n",
    "- The filter funciton is a powerful tool for creating iterators that filter items out of an iterable based on a function. It is commonly used for data cleaning, filtering objects, and removing unwanted elements from lists. By mastering filter()."
   ]
  },
  {
   "cell_type": "code",
   "execution_count": null,
   "id": "207693b9",
   "metadata": {},
   "outputs": [],
   "source": []
  }
 ],
 "metadata": {
  "kernelspec": {
   "display_name": "Python 3",
   "language": "python",
   "name": "python3"
  },
  "language_info": {
   "codemirror_mode": {
    "name": "ipython",
    "version": 3
   },
   "file_extension": ".py",
   "mimetype": "text/x-python",
   "name": "python",
   "nbconvert_exporter": "python",
   "pygments_lexer": "ipython3",
   "version": "3.12.6"
  }
 },
 "nbformat": 4,
 "nbformat_minor": 5
}
