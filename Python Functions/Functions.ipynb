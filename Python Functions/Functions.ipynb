{
 "cells": [
  {
   "cell_type": "markdown",
   "id": "e16c1c7b",
   "metadata": {},
   "source": [
    "# Course out line\n",
    "- Introduction to functions\n",
    "- Defining finctions\n",
    "- Calling finctions\n",
    "- Function overlaoding\n",
    "- Default parameters\n",
    "- Variable- Length Arguments\n",
    "- Return statement"
   ]
  },
  {
   "cell_type": "markdown",
   "id": "b03c2bcc",
   "metadata": {},
   "source": []
  },
  {
   "cell_type": "markdown",
   "id": "e86caeb9",
   "metadata": {},
   "source": [
    "- Function is a block of code that performs a specific task. functions help in organizing code, reusing code, and improving readability."
   ]
  },
  {
   "cell_type": "code",
   "execution_count": 1,
   "id": "8d9954f4",
   "metadata": {},
   "outputs": [],
   "source": [
    "## Syntax\n",
    "def function_name(parameters):\n",
    "    \"\"\"Docstring\"\"\"\n",
    "    # function body\n",
    "    return expression"
   ]
  },
  {
   "cell_type": "code",
   "execution_count": 7,
   "id": "075246bb",
   "metadata": {},
   "outputs": [],
   "source": [
    "## Why functions?\n",
    "\n",
    "def even_or_odd(num):\n",
    "    \"\"\" This  function finds even or odd\"\"\"\n",
    "    if num % 2==0:\n",
    "        print(\"The number is even\")\n",
    "    else:\n",
    "        print(\"The number is odd\")           "
   ]
  },
  {
   "cell_type": "code",
   "execution_count": 10,
   "id": "19250192",
   "metadata": {},
   "outputs": [
    {
     "name": "stdout",
     "output_type": "stream",
     "text": [
      "The number is odd\n"
     ]
    }
   ],
   "source": [
    "# Call this function\n",
    "even_or_odd(99)"
   ]
  },
  {
   "cell_type": "code",
   "execution_count": 11,
   "id": "0858240c",
   "metadata": {},
   "outputs": [
    {
     "name": "stdout",
     "output_type": "stream",
     "text": [
      "9\n"
     ]
    }
   ],
   "source": [
    "# function mulitple paarmeters\n",
    "def add(a, b, c):\n",
    "    return a +b+c\n",
    "result = add(2, 3,4)\n",
    "print(result)"
   ]
  },
  {
   "cell_type": "code",
   "execution_count": 14,
   "id": "be676cce",
   "metadata": {},
   "outputs": [
    {
     "name": "stdout",
     "output_type": "stream",
     "text": [
      "Hello Guest Welcome to the paradise\n"
     ]
    }
   ],
   "source": [
    "## Default parameter\n",
    "\n",
    "def greet(name= \"Guest\"):\n",
    "    print(f\"Hello {name} Welcome to the paradise\")\n",
    "\n",
    "greet()    \n"
   ]
  },
  {
   "cell_type": "code",
   "execution_count": 15,
   "id": "bc299082",
   "metadata": {},
   "outputs": [
    {
     "name": "stdout",
     "output_type": "stream",
     "text": [
      "Hello Soumya Welcome to the paradise\n"
     ]
    }
   ],
   "source": [
    "def greet(name= \"Guest\"):\n",
    "    print(f\"Hello {name} Welcome to the paradise\")\n",
    "\n",
    "greet(\"Soumya\") "
   ]
  },
  {
   "cell_type": "code",
   "execution_count": null,
   "id": "3f497773",
   "metadata": {},
   "outputs": [],
   "source": [
    "## Variable length arguments\n",
    "# Position and keyword arguments\n",
    "\n",
    "def print_numbers(*soumya):\n",
    "    for number in soumya:\n",
    "     print(number)"
   ]
  },
  {
   "cell_type": "code",
   "execution_count": 19,
   "id": "b5f220e3",
   "metadata": {},
   "outputs": [
    {
     "name": "stdout",
     "output_type": "stream",
     "text": [
      "1\n",
      "2\n",
      "3\n",
      "4\n",
      "soumya\n"
     ]
    }
   ],
   "source": [
    "print_numbers(1,2,3,4,\"soumya\")"
   ]
  },
  {
   "cell_type": "code",
   "execution_count": 20,
   "id": "797df1da",
   "metadata": {},
   "outputs": [],
   "source": [
    "# Positional arguments\n",
    "def print_numbers(*args):\n",
    "    for number in args:\n",
    "     print(number)"
   ]
  },
  {
   "cell_type": "code",
   "execution_count": 21,
   "id": "45197579",
   "metadata": {},
   "outputs": [
    {
     "name": "stdout",
     "output_type": "stream",
     "text": [
      "1\n",
      "2\n",
      "3\n",
      "soumya\n"
     ]
    }
   ],
   "source": [
    "print_numbers(1,2,3,'soumya')"
   ]
  },
  {
   "cell_type": "code",
   "execution_count": 23,
   "id": "05a617ca",
   "metadata": {},
   "outputs": [],
   "source": [
    "# keyword arguments\n",
    "def print_details(**kwargs):\n",
    "    for key,value in kwargs.items():\n",
    "        print(f\"{key}:{value}\")"
   ]
  },
  {
   "cell_type": "code",
   "execution_count": 24,
   "id": "b2671bb7",
   "metadata": {},
   "outputs": [
    {
     "name": "stdout",
     "output_type": "stream",
     "text": [
      "name:Soumya\n",
      "age:25\n",
      "state:Odisha\n"
     ]
    }
   ],
   "source": [
    "print_details(name= \"Soumya\", age = 25, state= \"Odisha\")"
   ]
  },
  {
   "cell_type": "code",
   "execution_count": 25,
   "id": "51d06a8f",
   "metadata": {},
   "outputs": [],
   "source": [
    "def print_details(*args, **kwargs):\n",
    "    for val in args:\n",
    "        print(f\"Positional argument:{val}\")\n",
    "        \n",
    "    for key,value in kwargs.items():\n",
    "        print(f\"{key}:{value}\")"
   ]
  },
  {
   "cell_type": "code",
   "execution_count": 26,
   "id": "0428d5c4",
   "metadata": {},
   "outputs": [
    {
     "name": "stdout",
     "output_type": "stream",
     "text": [
      "Positional argument:1\n",
      "Positional argument:2\n",
      "Positional argument:3\n",
      "name:Soumya\n",
      "age:25\n",
      "state:Odisha\n"
     ]
    }
   ],
   "source": [
    "print_details(1,2,3, name= \"Soumya\", age = 25, state= \"Odisha\")"
   ]
  },
  {
   "cell_type": "code",
   "execution_count": 30,
   "id": "54996d4e",
   "metadata": {},
   "outputs": [
    {
     "data": {
      "text/plain": [
       "6"
      ]
     },
     "execution_count": 30,
     "metadata": {},
     "output_type": "execute_result"
    }
   ],
   "source": [
    "## return statements\n",
    "def multiply(a, b):\n",
    "    return a*b\n",
    "\n",
    "multiply(2,3)"
   ]
  },
  {
   "cell_type": "code",
   "execution_count": 32,
   "id": "57f8ac86",
   "metadata": {},
   "outputs": [
    {
     "data": {
      "text/plain": [
       "(8, 4)"
      ]
     },
     "execution_count": 32,
     "metadata": {},
     "output_type": "execute_result"
    }
   ],
   "source": [
    "## Return multiple parameters\n",
    "def multiply(a, b):\n",
    "    return a*b, b\n",
    "\n",
    "multiply(2, 4)"
   ]
  },
  {
   "cell_type": "code",
   "execution_count": null,
   "id": "b2f0c9a5",
   "metadata": {},
   "outputs": [],
   "source": []
  }
 ],
 "metadata": {
  "kernelspec": {
   "display_name": "Python 3",
   "language": "python",
   "name": "python3"
  },
  "language_info": {
   "codemirror_mode": {
    "name": "ipython",
    "version": 3
   },
   "file_extension": ".py",
   "mimetype": "text/x-python",
   "name": "python",
   "nbconvert_exporter": "python",
   "pygments_lexer": "ipython3",
   "version": "3.12.1"
  }
 },
 "nbformat": 4,
 "nbformat_minor": 5
}
