{
 "cells": [
  {
   "cell_type": "markdown",
   "id": "42107132",
   "metadata": {},
   "source": [
    "# Real -World examples Using In Python\n",
    " * List are one of the most commonly used data structure in Python, thanks to their versatility and ease of use. Here are several practical examples that illustrate thier use i real-world scenerios."
   ]
  },
  {
   "cell_type": "markdown",
   "id": "f3534bac",
   "metadata": {},
   "source": [
    "# Example 1: Manage A To Do List\n",
    "  * Create a To Do Keep Track OF tasks"
   ]
  },
  {
   "cell_type": "code",
   "execution_count": 8,
   "id": "26f1ff7f",
   "metadata": {},
   "outputs": [
    {
     "name": "stdout",
     "output_type": "stream",
     "text": [
      "Don't forget to pay the utility bills\n",
      "To Do List remaining\n",
      "-Buy Groceries\n",
      "-Pay Bills\n",
      "-Scheduling meeting\n",
      "-Go for a Run\n"
     ]
    }
   ],
   "source": [
    "to_do_list=[\"Buy Groceries\", \"Clean the House\", \"Pay Bills\"]\n",
    "to_do_list\n",
    "## Adding to track\n",
    "to_do_list.append(\"Scheduling meeting\")\n",
    "to_do_list.append(\"Go for a Run\")\n",
    "to_do_list\n",
    "# ## Removing a completed task\n",
    "to_do_list.remove(\"Clean the House\")\n",
    "to_do_list\n",
    "\n",
    "## Checking if a task is in the list\n",
    "if \"Pay Bills\" in to_do_list:\n",
    "    print(\"Don't forget to pay the utility bills\")\n",
    "\n",
    "print(\"To Do List remaining\") \n",
    "for task in to_do_list:\n",
    "    print(f\"-{task}\")   "
   ]
  },
  {
   "cell_type": "markdown",
   "id": "745bda5d",
   "metadata": {},
   "source": [
    "# Example 2: Organizing Students Grades\n",
    " * Create a list to store and calculate average grades for students"
   ]
  },
  {
   "cell_type": "code",
   "execution_count": 7,
   "id": "dfdb31c6",
   "metadata": {},
   "outputs": [
    {
     "name": "stdout",
     "output_type": "stream",
     "text": [
      "Average Grade:89.00\n",
      "Highest Grades:100\n",
      "Lowest Grade: 78\n"
     ]
    }
   ],
   "source": [
    "# Organizing Students Grades\n",
    "grades = [86, 92, 78, 90, 88]\n",
    "grades\n",
    "\n",
    "#Adding a new grade\n",
    "grades.append(100)\n",
    "grades\n",
    "\n",
    "# ## Calculate the average grade\n",
    "average_grade = sum(grades)/len(grades)\n",
    "print(f\"Average Grade:{average_grade:.2f}\")\n",
    "\n",
    "# Finding the highest and lowest grades\n",
    "highest_grade = max(grades)\n",
    "lowest_grade = min(grades)\n",
    "print(f\"Highest Grades:{highest_grade}\")\n",
    "print(f\"Lowest Grade: {lowest_grade}\")"
   ]
  },
  {
   "cell_type": "markdown",
   "id": "00391408",
   "metadata": {},
   "source": [
    "# Example 3: Managing An Inventory\n",
    " * use a list to manage inventory items in a store"
   ]
  },
  {
   "cell_type": "code",
   "execution_count": 10,
   "metadata": {},
   "outputs": [
    {
     "name": "stdout",
     "output_type": "stream",
     "text": [
      "oranges are in stock\n",
      "Inventory List\n",
      "- apples\n",
      "- oranges\n",
      "- grapes\n",
      "- strawberies\n"
     ]
    }
   ],
   "source": [
    "# Managing an inventory\n",
    "inventory = [\"apples\", \"bananas\",\"oranges\",\"grapes\"]\n",
    "\n",
    "# Adding a new item\n",
    "inventory.append(\"strawberies\")\n",
    "\n",
    "# Removing an items that is in stack\n",
    "inventory.remove(\"bananas\")\n",
    "\n",
    "# Checking if an items is in stock\n",
    "item =\"oranges\"\n",
    "\n",
    "if item in inventory:\n",
    "    print(f\"{item} are in stock\")\n",
    "else:\n",
    "    print(f\"{item} are out of stock\")    \n",
    "\n",
    "# printing the inventory list\n",
    "print(\"Inventory List\")    \n",
    "for item in inventory:\n",
    "    print(f\"- {item}\")"
   ]
  },
  {
   "cell_type": "markdown",
   "id": "e0544ce8",
   "metadata": {},
   "source": [
    "# Example 4: Collecting User Feedback\n",
    " * Use a list to collect and analyze use feedback"
   ]
  },
  {
   "cell_type": "code",
   "execution_count": 15,
   "id": "cb738d11",
   "metadata": {},
   "outputs": [
    {
     "name": "stdout",
     "output_type": "stream",
     "text": [
      "Positive Feedback Count: 2\n",
      "User Feedback:\n",
      "-Great service!\n",
      "-Very satisfying\n",
      "-Could be better\n",
      "-Excellent experiment\n",
      "-Not happy with the service\n"
     ]
    }
   ],
   "source": [
    "# Calculating user feedback\n",
    "feedback = [\"Great service!\", \"Very satisfying\",\"Could be better\", \"Excellent experiment\"]\n",
    "\n",
    "# Adding new feedback\n",
    "feedback.append(\"Not happy with the service\")\n",
    "\n",
    "## Counting specific feedback\n",
    "positive_feedback_count = sum(1 for comment in feedback if \"great\" in comment.lower() or \"excellent\" in comment.lower())\n",
    "print(f\"Positive Feedback Count: {positive_feedback_count}\")\n",
    "\n",
    "# Printing all feedback\n",
    "print(\"User Feedback:\")\n",
    "for comment in feedback:\n",
    "    print(f\"-{comment}\")"
   ]
  },
  {
   "cell_type": "code",
   "execution_count": null,
   "id": "830ef602",
   "metadata": {},
   "outputs": [],
   "source": []
  }
 ],
 "metadata": {
  "kernelspec": {
   "display_name": "Python 3",
   "language": "python",
   "name": "python3"
  },
  "language_info": {
   "codemirror_mode": {
    "name": "ipython",
    "version": 3
   },
   "file_extension": ".py",
   "mimetype": "text/x-python",
   "name": "python",
   "nbconvert_exporter": "python",
   "pygments_lexer": "ipython3",
   "version": "3.12.1"
  }
 },
 "nbformat": 4,
 "nbformat_minor": 5
}
