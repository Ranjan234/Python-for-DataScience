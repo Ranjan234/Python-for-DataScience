{
 "cells": [
  {
   "cell_type": "markdown",
   "id": "42107132",
   "metadata": {},
   "source": [
    "# Real -World examples Using In Python\n",
    " * List are one of the most commonly used data structure in Python, thanks to their versatility and ease of use. Here are several practical examples that illustrate thier use i real-world scenerios."
   ]
  },
  {
   "cell_type": "markdown",
   "id": "f3534bac",
   "metadata": {},
   "source": [
    "# Example 1: Manage A To Do List\n",
    "  * Create a To Do Keep Track OF tasks"
   ]
  },
  {
   "cell_type": "code",
   "execution_count": 8,
   "id": "26f1ff7f",
   "metadata": {},
   "outputs": [
    {
     "name": "stdout",
     "output_type": "stream",
     "text": [
      "Don't forget to pay the utility bills\n",
      "To Do List remaining\n",
      "-Buy Groceries\n",
      "-Pay Bills\n",
      "-Scheduling meeting\n",
      "-Go for a Run\n"
     ]
    }
   ],
   "source": [
    "to_do_list=[\"Buy Groceries\", \"Clean the House\", \"Pay Bills\"]\n",
    "to_do_list\n",
    "## Adding to track\n",
    "to_do_list.append(\"Scheduling meeting\")\n",
    "to_do_list.append(\"Go for a Run\")\n",
    "to_do_list\n",
    "# ## Removing a completed task\n",
    "to_do_list.remove(\"Clean the House\")\n",
    "to_do_list\n",
    "\n",
    "## Checking if a task is in the list\n",
    "if \"Pay Bills\" in to_do_list:\n",
    "    print(\"Don't forget to pay the utility bills\")\n",
    "\n",
    "print(\"To Do List remaining\") \n",
    "for task in to_do_list:\n",
    "    print(f\"-{task}\")   "
   ]
  },
  {
   "cell_type": "markdown",
   "id": "745bda5d",
   "metadata": {},
   "source": [
    "# Example 2: Organizing Students Grades\n",
    " * Create a list to store and calculate average grades for students"
   ]
  },
  {
   "cell_type": "code",
   "execution_count": 7,
   "id": "dfdb31c6",
   "metadata": {},
   "outputs": [
    {
     "name": "stdout",
     "output_type": "stream",
     "text": [
      "Average Grade:89.00\n",
      "Highest Grades:100\n",
      "Lowest Grade: 78\n"
     ]
    }
   ],
   "source": [
    "# Organizing Students Grades\n",
    "grades = [86, 92, 78, 90, 88]\n",
    "grades\n",
    "\n",
    "#Adding a new grade\n",
    "grades.append(100)\n",
    "grades\n",
    "\n",
    "# ## Calculate the average grade\n",
    "average_grade = sum(grades)/len(grades)\n",
    "print(f\"Average Grade:{average_grade:.2f}\")\n",
    "\n",
    "# Finding the highest and lowest grades\n",
    "highest_grade = max(grades)\n",
    "lowest_grade = min(grades)\n",
    "print(f\"Highest Grades:{highest_grade}\")\n",
    "print(f\"Lowest Grade: {lowest_grade}\")"
   ]
  },
  {
   "cell_type": "markdown",
   "id": "00391408",
   "metadata": {},
   "source": [
    "# Example 3: Managing An Inventory\n",
    " * use a list to manage inventory items in a store"
   ]
  },
  {
   "cell_type": "code",
   "execution_count": 10,
   "metadata": {},
   "outputs": [
    {
     "name": "stdout",
     "output_type": "stream",
     "text": [
      "oranges are in stock\n",
      "Inventory List\n",
      "- apples\n",
      "- oranges\n",
      "- grapes\n",
      "- strawberies\n"
     ]
    }
   ],
   "source": [
    "# Managing an inventory\n",
    "inventory = [\"apples\", \"bananas\",\"oranges\",\"grapes\"]\n",
    "\n",
    "# Adding a new item\n",
    "inventory.append(\"strawberies\")\n",
    "\n",
    "# Removing an items that is in stack\n",
    "inventory.remove(\"bananas\")\n",
    "\n",
    "# Checking if an items is in stock\n",
    "item =\"oranges\"\n",
    "\n",
    "if item in inventory:\n",
    "    print(f\"{item} are in stock\")\n",
    "else:\n",
    "    print(f\"{item} are out of stock\")    \n",
    "\n",
    "# printing the inventory list\n",
    "print(\"Inventory List\")    \n",
    "for item in inventory:\n",
    "    print(f\"- {item}\")"
   ]
  },
  {
   "cell_type": "markdown",
   "id": "e0544ce8",
   "metadata": {},
   "source": [
    "# Example 4: Collecting User Feedback\n",
    " * Use a list to collect and analyze use feedback"
   ]
  },
  {
   "cell_type": "code",
   "execution_count": 15,
   "id": "cb738d11",
   "metadata": {},
   "outputs": [
    {
     "name": "stdout",
     "output_type": "stream",
     "text": [
      "Positive Feedback Count: 2\n",
      "User Feedback:\n",
      "-Great service!\n",
      "-Very satisfying\n",
      "-Could be better\n",
      "-Excellent experiment\n",
      "-Not happy with the service\n"
     ]
    }
   ],
   "source": [
    "# Calculating user feedback\n",
    "feedback = [\"Great service!\", \"Very satisfying\",\"Could be better\", \"Excellent experiment\"]\n",
    "\n",
    "# Adding new feedback\n",
    "feedback.append(\"Not happy with the service\")\n",
    "\n",
    "## Counting specific feedback\n",
    "positive_feedback_count = sum(1 for comment in feedback if \"great\" in comment.lower() or \"excellent\" in comment.lower())\n",
    "print(f\"Positive Feedback Count: {positive_feedback_count}\")\n",
    "\n",
    "# Printing all feedback\n",
    "print(\"User Feedback:\")\n",
    "for comment in feedback:\n",
    "    print(f\"-{comment}\")"
   ]
  },
  {
   "cell_type": "markdown",
   "id": "4679d16b",
   "metadata": {},
   "source": [
    "# functions Exampple"
   ]
  },
  {
   "cell_type": "code",
   "execution_count": 1,
   "id": "830ef602",
   "metadata": {},
   "outputs": [
    {
     "name": "stdout",
     "output_type": "stream",
     "text": [
      "86.0\n",
      "21.11111111111111\n"
     ]
    }
   ],
   "source": [
    "# Examp1: tempreture Conversion\n",
    "def convert_tempreture(temp, unit):\n",
    "    \"\"\"This function converts tempreture between celsius and fahrenhiet\"\"\"\n",
    "    if unit =='C':\n",
    "        return temp * 9/5 + 32 # celsius to fahrenhiet\n",
    "    elif unit == 'F':\n",
    "        return (temp - 32) * 5/9 # fahrenhiet to celsius\n",
    "    else:\n",
    "        return None\n",
    "\n",
    "print(convert_tempreture(30, 'C')) \n",
    "print(convert_tempreture(70, 'F'))   "
   ]
  },
  {
   "cell_type": "code",
   "execution_count": 5,
   "id": "d0365970",
   "metadata": {},
   "outputs": [
    {
     "name": "stdout",
     "output_type": "stream",
     "text": [
      "False\n",
      "True\n"
     ]
    }
   ],
   "source": [
    "## examp2: Passward Strength checker\n",
    "def is_strong_passward(passward):\n",
    "    \"\"\"This function checks if the passward is strong or not\"\"\"\n",
    "    if len(passward)< 8:\n",
    "        return False\n",
    "    if not any(char.isdigit() for char in passward):\n",
    "        return False\n",
    "    if not any(char.islower() for char in passward):\n",
    "        return False\n",
    "    if not any(char.isupper() for char in passward):\n",
    "        return False\n",
    "    if not any(char in '!@#$%^&*()-' for char in passward):\n",
    "        return False\n",
    "    return True\n",
    "\n",
    "## Calling function\n",
    "print(is_strong_passward('Weakpwd'))\n",
    "print(is_strong_passward('Str0ngpwd!'))"
   ]
  },
  {
   "cell_type": "code",
   "execution_count": 6,
   "id": "cfafb819",
   "metadata": {},
   "outputs": [
    {
     "name": "stdout",
     "output_type": "stream",
     "text": [
      "19.0\n"
     ]
    }
   ],
   "source": [
    "#Example3:Calculating the total cost of items in a shopping cart\n",
    "\n",
    "def calculte_total_cost(cart):\n",
    "    total_cost = 0\n",
    "    for item in cart:\n",
    "        total_cost+= item['price'] * item['quantity']\n",
    "    return total_cost\n",
    "# Example cart data\n",
    "\n",
    "cart = [\n",
    "    {'name':\"apples\", 'price':0.7,'quantity':5},\n",
    "    {'name':\"Bananas\", 'price':0.6,'quantity':4},\n",
    "    {'name':\"Oranges\", 'price':0.8,'quantity':7},\n",
    "    {'name':\"Toys\", 'price':0.4,'quantity':10},\n",
    "    {'name':\"Mangos\", 'price':0.7,'quantity':5}\n",
    "]\n",
    "\n",
    "\n",
    "# Calling the functions\n",
    "total_cost = calculte_total_cost(cart)\n",
    "print(total_cost)"
   ]
  },
  {
   "cell_type": "code",
   "execution_count": 8,
   "id": "43c870a7",
   "metadata": {},
   "outputs": [
    {
     "name": "stdout",
     "output_type": "stream",
     "text": [
      "True\n",
      "False\n"
     ]
    }
   ],
   "source": [
    "#Example 4- Check if a string is palindrome\n",
    "\n",
    "def is_palindrome(s):\n",
    "    s = s.lower().replace(\" \",\"\")\n",
    "    return s ==s[::-1]\n",
    "\n",
    "print(is_palindrome('A man a plan a canal Panama'))\n",
    "print(is_palindrome(\"hello\"))"
   ]
  },
  {
   "cell_type": "code",
   "execution_count": null,
   "id": "951d2e4e",
   "metadata": {},
   "outputs": [],
   "source": []
  }
 ],
 "metadata": {
  "kernelspec": {
   "display_name": "Python 3",
   "language": "python",
   "name": "python3"
  },
  "language_info": {
   "codemirror_mode": {
    "name": "ipython",
    "version": 3
   },
   "file_extension": ".py",
   "mimetype": "text/x-python",
   "name": "python",
   "nbconvert_exporter": "python",
   "pygments_lexer": "ipython3",
   "version": "3.12.1"
  }
 },
 "nbformat": 4,
 "nbformat_minor": 5
}
